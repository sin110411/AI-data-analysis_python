{
 "cells": [
  {
   "cell_type": "code",
   "execution_count": 1,
   "id": "c33d7a65-fd3e-4d7f-8df1-8861b3d43f83",
   "metadata": {},
   "outputs": [
    {
     "name": "stdout",
     "output_type": "stream",
     "text": [
      "[80, 76, 50, 60, 45, 95]\n",
      "[True, True, False, False, False, True]\n",
      "251\n"
     ]
    }
   ],
   "source": [
    "#<실습문제>_쌤 정답\n",
    "#학생들의 점수를 저장한 리스트\n",
    "#1) 람다식과 map()함수를 사용해서 점수가  70점 이상이면  TRUE아니면 False값으로 새로운\n",
    "#리스트로 변환\n",
    "#결과[True,True,False,False,False,True]\n",
    "\n",
    "score_list=[80,76,50,60,45,95]\n",
    "print(score_list)\n",
    "\n",
    "result=list(map(lambda x : x>=70, score_list))\n",
    "print(result)\n",
    "\n",
    "#위의 리스트에서 70점 이상인 점수들의 합계 구하기\n",
    "#람다식과  reduce함수 활용\n",
    "\n",
    "from functools import reduce\n",
    "result1=reduce(lambda x,y : x+(y if y>=70 else 0),score_list) #리스트에서 값 가져올때 삼항연산자에서 한번걸러짐\n",
    "print(result1)"
   ]
  },
  {
   "cell_type": "code",
   "execution_count": 19,
   "id": "03c7ce35-15ee-4ca9-a1f6-a6fa5b241e52",
   "metadata": {},
   "outputs": [
    {
     "name": "stdout",
     "output_type": "stream",
     "text": [
      "['water melon', 'pine apple']\n"
     ]
    }
   ],
   "source": [
    "#<실습문제>_쌤 정답\n",
    "# 3) 과일이름을 저장한 리스트에서 2단어 이상으로 구성된 단어만 새로운 리스트에 저장\n",
    "# 람다식과 filter함수 활용\n",
    "# [\"water melon\", \"pine apple\"]\n",
    "\n",
    "fruits = [\"apple\", \"banana\", \"melon\", \"water melon\", \"pine apple\"]\n",
    "\n",
    "result=list(filter(lambda x: len(x.split())>=2, fruits))\n",
    "print(result)"
   ]
  },
  {
   "cell_type": "code",
   "execution_count": 39,
   "id": "7886f72c-d5a9-48a8-9287-f325bbc98ee3",
   "metadata": {},
   "outputs": [
    {
     "name": "stdout",
     "output_type": "stream",
     "text": [
      "test1.txt파일이 생성되었습니다\n"
     ]
    }
   ],
   "source": [
    "#파일 입출력\n",
    "#파일 열기\n",
    "#파일 객체 생성 = open()\n",
    "\n",
    "#파일의 객체는 자유롭게 작성하지만 보통 파일의 f를 사용함\n",
    "f=open(\"test1.txt\",\"w\") #객체명=open(\"파일명\",\"모드\")\n",
    "f.write(\"내가만든 집에서 모두함께 노래를 합시다\\n\") #객체명.write(\"적을 내용\")\n",
    "f.write(\"소외됐던 사람들도 모두함께 노래를 합시다\\n\")\n",
    "f.write(\"실리카겔의 no pain\")\n",
    "f.close() #다 적었으면 파일을 항상 닫아주어야함 # 객체명.colse()\n",
    "print(\"test1.txt파일이 생성되었습니다\")"
   ]
  },
  {
   "cell_type": "code",
   "execution_count": 51,
   "id": "74cfca6e-37d7-470c-9627-0a4fc80b851f",
   "metadata": {},
   "outputs": [],
   "source": [
    "#모드 \"a\"(추가)\n",
    "#기존의 test1.txt파일에 내용 추가하기\n",
    "\n",
    "f=open(\"test1.txt\",\"a\") #a는 기존에 파일이 있다면 그 밑에 내용이 추가되는 형식\n",
    "f.write(\"                 \")\n",
    "f.write(\"다시 명에게 묻는다\\n\")\n",
    "f.write(\"한번쯤 들었겠지 노래는 한밤의 불빛처럼 달려\\n\")\n",
    "f.write(\"유다빈밴드의 노래는 한밤의 불빛처럼 달려 中\\n\")\n",
    "f.close()"
   ]
  },
  {
   "cell_type": "code",
   "execution_count": 65,
   "id": "0a050ca0-0632-4662-80a0-25c84878ce2a",
   "metadata": {},
   "outputs": [
    {
     "ename": "FileExistsError",
     "evalue": "[Errno 17] File exists: 'test2.txt'",
     "output_type": "error",
     "traceback": [
      "\u001b[1;31m---------------------------------------------------------------------------\u001b[0m",
      "\u001b[1;31mFileExistsError\u001b[0m                           Traceback (most recent call last)",
      "Cell \u001b[1;32mIn[65], line 3\u001b[0m\n\u001b[0;32m      1\u001b[0m \u001b[38;5;66;03m#모드 \"x\"(배타적 추가)\u001b[39;00m\n\u001b[1;32m----> 3\u001b[0m f\u001b[38;5;241m=\u001b[39m\u001b[38;5;28mopen\u001b[39m(\u001b[38;5;124m\"\u001b[39m\u001b[38;5;124mtest2.txt\u001b[39m\u001b[38;5;124m\"\u001b[39m,\u001b[38;5;124m\"\u001b[39m\u001b[38;5;124mx\u001b[39m\u001b[38;5;124m\"\u001b[39m)\n\u001b[0;32m      4\u001b[0m f\u001b[38;5;241m.\u001b[39mwrite(\u001b[38;5;124m\"\u001b[39m\u001b[38;5;124m또 물보라를 일으켜\u001b[39m\u001b[38;5;124m\"\u001b[39m)\n\u001b[0;32m      5\u001b[0m f\u001b[38;5;241m.\u001b[39mcolse()\n",
      "File \u001b[1;32m~\\anaconda3\\Lib\\site-packages\\IPython\\core\\interactiveshell.py:324\u001b[0m, in \u001b[0;36m_modified_open\u001b[1;34m(file, *args, **kwargs)\u001b[0m\n\u001b[0;32m    317\u001b[0m \u001b[38;5;28;01mif\u001b[39;00m file \u001b[38;5;129;01min\u001b[39;00m {\u001b[38;5;241m0\u001b[39m, \u001b[38;5;241m1\u001b[39m, \u001b[38;5;241m2\u001b[39m}:\n\u001b[0;32m    318\u001b[0m     \u001b[38;5;28;01mraise\u001b[39;00m \u001b[38;5;167;01mValueError\u001b[39;00m(\n\u001b[0;32m    319\u001b[0m         \u001b[38;5;124mf\u001b[39m\u001b[38;5;124m\"\u001b[39m\u001b[38;5;124mIPython won\u001b[39m\u001b[38;5;124m'\u001b[39m\u001b[38;5;124mt let you open fd=\u001b[39m\u001b[38;5;132;01m{\u001b[39;00mfile\u001b[38;5;132;01m}\u001b[39;00m\u001b[38;5;124m by default \u001b[39m\u001b[38;5;124m\"\u001b[39m\n\u001b[0;32m    320\u001b[0m         \u001b[38;5;124m\"\u001b[39m\u001b[38;5;124mas it is likely to crash IPython. If you know what you are doing, \u001b[39m\u001b[38;5;124m\"\u001b[39m\n\u001b[0;32m    321\u001b[0m         \u001b[38;5;124m\"\u001b[39m\u001b[38;5;124myou can use builtins\u001b[39m\u001b[38;5;124m'\u001b[39m\u001b[38;5;124m open.\u001b[39m\u001b[38;5;124m\"\u001b[39m\n\u001b[0;32m    322\u001b[0m     )\n\u001b[1;32m--> 324\u001b[0m \u001b[38;5;28;01mreturn\u001b[39;00m io_open(file, \u001b[38;5;241m*\u001b[39margs, \u001b[38;5;241m*\u001b[39m\u001b[38;5;241m*\u001b[39mkwargs)\n",
      "\u001b[1;31mFileExistsError\u001b[0m: [Errno 17] File exists: 'test2.txt'"
     ]
    }
   ],
   "source": [
    "#모드 \"x\"(배타적 추가)\n",
    "\n",
    "f=open(\"test2.txt\",\"x\")\n",
    "f.write(\"또 물보라를 일으켜\")\n",
    "f.colse()\n",
    "#FileExistsError: [Errno 17] File exists: 'test1.txt'\n",
    "#배타적 추가인x는 이미있는 파일명은 사용할 수 없음. "
   ]
  },
  {
   "cell_type": "code",
   "execution_count": 63,
   "id": "25134706-a35a-4704-b157-a29fb84a47b4",
   "metadata": {},
   "outputs": [],
   "source": [
    "#절대경로와 상대경로\n",
    "#절대경로 : 최상위 위치부터 현재 위치까지 작성하는것\n",
    "#상대경로: 현재 내 위치를 기준으로 이동하는것\n",
    "\n",
    "#절대경로로 텍스트 파일 만들기\n",
    "f=open(\"C:\\\\Users\\\\82109\\\\Desktop\\\\data2_1900_JSY-20240712T031418Z-001\\\\sing.txt\",\"w\")\n",
    "f.write(\"믿을 수 없이 아름다운\\n\")\n",
    "f.write(\"저 바다로 나와 갈수 있다면\\n\")\n",
    "f.close()\n",
    "#내가 지정한 절대경로로 파일이 저장됨"
   ]
  },
  {
   "cell_type": "code",
   "execution_count": 71,
   "id": "0451d615-5fc4-4abf-8b7d-a8cfddba0a68",
   "metadata": {},
   "outputs": [],
   "source": [
    "#상대경로\n",
    "f=open(\"../memo/sing1.txt\",\"w\") #현재위치 워크스페이스 파일에 있는데\n",
    "#현재위치에서 지정된 상위폴더인 memo로 이동하여 파일이 저장됨\n",
    "#../(현재위치에서)/memo(지정된 폴더로 이동해)\n",
    "f.write(\"우리들은 얼어붙지 않을거야\")\n",
    "f.write(\"바닷속의 모래까지 녹일거야\")\n",
    "f.write(\"얼어붙은 아스팔트 도시 위로\")\n",
    "f.close()"
   ]
  },
  {
   "cell_type": "code",
   "execution_count": 81,
   "id": "bb1f2b77-2415-498f-9ad6-6bc14dcd3dbd",
   "metadata": {},
   "outputs": [
    {
     "name": "stderr",
     "output_type": "stream",
     "text": [
      "<>:4: SyntaxWarning: invalid escape sequence '\\D'\n",
      "<>:4: SyntaxWarning: invalid escape sequence '\\D'\n",
      "C:\\Users\\Public\\Documents\\ESTsoft\\CreatorTemp\\ipykernel_21436\\666685593.py:4: SyntaxWarning: invalid escape sequence '\\D'\n",
      "  f=open(\"C:\\\\Users\\\\82109\\Desktop\\\\data2_1900_JSY-20240712T031418Z-001\\\\sing3.txt\",\"w\")\n"
     ]
    }
   ],
   "source": [
    "#<절대경로 실습>\n",
    "#절대경로에 sing3파일를 만들고 안에 노래가사 적기\n",
    "\n",
    "f=open(\"C:\\\\Users\\\\82109\\Desktop\\\\data2_1900_JSY-20240712T031418Z-001\\\\sing3.txt\",\"w\")\n",
    "f.write(\"당신은 겁이 나서 낮에도 깨\\n\")\n",
    "f.write(\"잠들지 못해\\n\")\n",
    "f.write(\"실리카겔 lannbud 中\")\n",
    "f.close()"
   ]
  },
  {
   "cell_type": "code",
   "execution_count": 89,
   "id": "642abdd1-e8a4-4de3-997e-8c163e08e4f0",
   "metadata": {},
   "outputs": [],
   "source": [
    "#<상대경로 실습>\n",
    "#상대경로로 resource폴더에 sing4파일만들고 노래가사 적기\n",
    "f=open(\"../resource/sing4.txt\",\"w\")\n",
    "f.write(\"사랑한다는 말로도 위로가 되지않는\\n\")\n",
    "f.write(\"나는 그런 긴밤에 빠져있어\\n\")\n",
    "f.write(\"유다빈밴드 사랑한다는 말로도 위로가 되지 않는  中\")\n",
    "f.close()"
   ]
  },
  {
   "cell_type": "code",
   "execution_count": 93,
   "id": "6121e96a-5acd-4392-a595-a7bfcf839121",
   "metadata": {},
   "outputs": [],
   "source": [
    "#whit문\n",
    "#with문은 일반 open함수 쓸떄와 다르게 객체명.close()를 해줄필요가 없다\n",
    "#with문이 끝나면서 자동으로 객체명.colse 메소드를 호출하기 때문!\n",
    "\n",
    "with open(\"test3.txt\",\"w\") as f:\n",
    "    f.write(\"내 어린시절 우연히 들었던\\n\")\n",
    "    f.write(\"믿지 못할 한마디\")\n",
    "    f.write(\"원피스!\")\n",
    "#close()문 작성하지 않았는데도 오류나지 않고 파일저장이 완료됨"
   ]
  },
  {
   "cell_type": "code",
   "execution_count": 97,
   "id": "af83307b-81b7-4dfa-bafb-e862dd98408b",
   "metadata": {},
   "outputs": [],
   "source": [
    "with open(\"여자친구.txt\",\"w\") as g:\n",
    "    g.write(\"들어봐 귀를 기울이면\\n\") #파일명은 한글도 가능!!\n",
    "    g.write(\"반짝반짝 빛나던\\n\")\n",
    "    g.write(\"너의 눈동자 처럼 소중한 이야기\\n\")"
   ]
  },
  {
   "cell_type": "code",
   "execution_count": 119,
   "id": "7e28bd98-44c7-4ca8-8933-dbaf097c69ef",
   "metadata": {},
   "outputs": [
    {
     "name": "stdout",
     "output_type": "stream",
     "text": [
      "내가만든 집에서 모두함께 노래를 합시다\n",
      "소외됐던 사람들도 모두함께 노래를 합시다\n",
      "실리카겔의 no pain\n",
      "\n",
      "또 물보라를 일으켜\n"
     ]
    }
   ],
   "source": [
    "#입력메소드 (기존에 있던 파일의 내용을 읽어오는것)\n",
    "#read() :  파일안의 내용을 한번에 다 읽어옴\n",
    "#read(값) : read()안에 값이 들어가면 그 값만큼의 글자를 읽어옴(글자수 제한 가능)\n",
    "\n",
    "with open(\"test1.txt\",\"r\") as f:\n",
    "    print(f.read(59)) #read문도 with문으로 읽어오는데 객체밑절에 read메소드를 사용하는원리\n",
    "\n",
    "\n",
    "with open(\"test2.txt\",\"r\") as g:\n",
    "    str1=g.read()  #읽어온 값을 바로 출력문으로 출력해도 되지만, 변수안에 넣어서 최종 출력문으로\n",
    "    #변수를(안에 텍스트 내용 있음) 따로 출력하는 것도 가능함\n",
    "\n",
    "print(str1)"
   ]
  },
  {
   "cell_type": "code",
   "execution_count": 157,
   "id": "e5bce4a9-f629-4b20-bf79-43499b5bdda4",
   "metadata": {},
   "outputs": [
    {
     "name": "stdout",
     "output_type": "stream",
     "text": [
      "내가만든 집에서 모두함께 노래를 합시다\n",
      "\n",
      "소외됐던 사람들도 모두함께 노래를 합시다\n",
      "\n",
      "실리카겔의 no pain\n",
      "\n",
      "다시 명에게 묻는다한번쯤 들었겠지 노래는 한밤의 불빛처럼 달려유다빈밴드의 노래는 한밤의 불빛처럼 달려 中                 다시 명에게 묻는다\n",
      "\n"
     ]
    }
   ],
   "source": [
    "#입력메소드\n",
    "#readlien()\n",
    "#readline(): 파일의 내용을 한줄씩 읽어오는것. 전부다 읽었다면 오류가 나는것이 아니라 빈문자열을 반환\n",
    "#반복문과 함께 사용한다면 파일 내용 전체를 읽어올 수 있음\n",
    "\n",
    "with open(\"test1.txt\",\"r\") as f:\n",
    "    print(f.readline())\n",
    "    print(f.readline())\n",
    "    print(f.readline())\n",
    "    print(f.readline())#메소드가 실행될때마다 한줄씩 출력되고 \n",
    "                    #더 이상 가져올 내용이 없으니, 빈문자열 반환"
   ]
  },
  {
   "cell_type": "code",
   "execution_count": 175,
   "id": "40a3233f-3e7f-447c-abf0-8f6c32828696",
   "metadata": {},
   "outputs": [
    {
     "name": "stdout",
     "output_type": "stream",
     "text": [
      "내가만든 집에서 모두함께 노래를 합시다\n",
      "\n",
      "소외됐던 사람들도 모두함께 노래를 합시다\n",
      "\n",
      "실리카겔의 no pain\n",
      "\n",
      "다시 명에게 묻는다한번쯤 들었겠지 노래는 한밤의 불빛처럼 달려유다빈밴드의 노래는 한밤의 불빛처럼 달려 中                 다시 명에게 묻는다\n",
      "\n",
      "한번쯤 들었겠지 노래는 한밤의 불빛처럼 달려\n",
      "\n",
      "유다빈밴드의 노래는 한밤의 불빛처럼 달려 中\n",
      "\n",
      "                 다시 명에게 묻는다\n",
      "\n",
      "한번쯤 들었겠지 노래는 한밤의 불빛처럼 달려\n",
      "\n",
      "유다빈밴드의 노래는 한밤의 불빛처럼 달려 中\n",
      "\n",
      "\n",
      "\n",
      "다시 명에게 묻는다\n"
     ]
    }
   ],
   "source": [
    "#반복문을 사용하여 readline() 전체 출력하기\n",
    "\n",
    "with open(\"test1.txt\",\"r\") as f:\n",
    "    while True:\n",
    "        str1= f.readline()\n",
    "        if str1==\"\":\n",
    "            break\n",
    "        else:\n",
    "            print(str1)"
   ]
  },
  {
   "cell_type": "code",
   "execution_count": 185,
   "id": "83d73606-2823-468a-92cc-ba5785101dbf",
   "metadata": {},
   "outputs": [
    {
     "name": "stdout",
     "output_type": "stream",
     "text": [
      "11\n",
      "['내가만든 집에서 모두함께 노래를 합시다\\n', '소외됐던 사람들도 모두함께 노래를 합시다\\n', '실리카겔의 no pain\\n', '다시 명에게 묻는다한번쯤 들었겠지 노래는 한밤의 불빛처럼 달려유다빈밴드의 노래는 한밤의 불빛처럼 달려 中                 다시 명에게 묻는다\\n', '한번쯤 들었겠지 노래는 한밤의 불빛처럼 달려\\n', '유다빈밴드의 노래는 한밤의 불빛처럼 달려 中\\n', '                 다시 명에게 묻는다\\n', '한번쯤 들었겠지 노래는 한밤의 불빛처럼 달려\\n', '유다빈밴드의 노래는 한밤의 불빛처럼 달려 中\\n', '\\n', '다시 명에게 묻는다'] <class 'list'>\n"
     ]
    }
   ],
   "source": [
    "#readlines()\n",
    "#readlines(): 파일의 전체내용을 라인(한 줄)씩 읽어오면서 읽어온 라인을 리스트에 저장하는 메소드\n",
    "\n",
    "with open(\"test1.txt\",\"r\") as f:\n",
    "    li1=f.readlines()\n",
    "\n",
    "print(len(li1))\n",
    "print(li1,type(li1)) #리스트 안에 값이 한줄당 요소 1개로 들어감"
   ]
  },
  {
   "cell_type": "code",
   "execution_count": 193,
   "id": "f103f00e-9afa-4a9c-bfd4-49a661f8799c",
   "metadata": {},
   "outputs": [
    {
     "name": "stdout",
     "output_type": "stream",
     "text": [
      "내가만든 집에서 모두함께 노래를 합시다\n",
      "소외됐던 사람들도 모두함께 노래를 합시다\n",
      "실리카겔의 no pain\n",
      "다시 명에게 묻는다한번쯤 들었겠지 노래는 한밤의 불빛처럼 달려유다빈밴드의 노래는 한밤의 불빛처럼 달려 中                 다시 명에게 묻는다\n",
      "한번쯤 들었겠지 노래는 한밤의 불빛처럼 달려\n",
      "유다빈밴드의 노래는 한밤의 불빛처럼 달려 中\n",
      "                 다시 명에게 묻는다\n",
      "한번쯤 들었겠지 노래는 한밤의 불빛처럼 달려\n",
      "유다빈밴드의 노래는 한밤의 불빛처럼 달려 中\n",
      "\n",
      "다시 명에게 묻는다\n",
      "['내가만든 집에서 모두함께 노래를 합시다\\n', '소외됐던 사람들도 모두함께 노래를 합시다\\n', '실리카겔의 no pain\\n', '다시 명에게 묻는다한번쯤 들었겠지 노래는 한밤의 불빛처럼 달려유다빈밴드의 노래는 한밤의 불빛처럼 달려 中                 다시 명에게 묻는다\\n', '한번쯤 들었겠지 노래는 한밤의 불빛처럼 달려\\n', '유다빈밴드의 노래는 한밤의 불빛처럼 달려 中\\n', '                 다시 명에게 묻는다\\n', '한번쯤 들었겠지 노래는 한밤의 불빛처럼 달려\\n', '유다빈밴드의 노래는 한밤의 불빛처럼 달려 中\\n', '\\n', '다시 명에게 묻는다'] <class 'list'>\n"
     ]
    }
   ],
   "source": [
    "#readline() 반복문을 통해 한줄씩 리스트에서 꺼내 출력하기\n",
    "\n",
    "with open(\"test1.txt\",\"r\") as f:\n",
    "    text_li=f.readlines()\n",
    "    for line in text_li:\n",
    "        print(line,end=\"\")\n",
    "    print()\n",
    "    print(text_li,type(text_li))"
   ]
  },
  {
   "cell_type": "code",
   "execution_count": 223,
   "id": "f89de17b-f193-44a4-9317-2baacf235abd",
   "metadata": {},
   "outputs": [
    {
     "name": "stdout",
     "output_type": "stream",
     "text": [
      "1번째 줄: 내가만든 집에서 모두함께 노래를 합시다\n",
      "\n",
      "2번째 줄: 소외됐던 사람들도 모두함께 노래를 합시다\n",
      "\n",
      "3번째 줄: 실리카겔의 no pain\n",
      "\n",
      "4번째 줄: 다시 명에게 묻는다한번쯤 들었겠지 노래는 한밤의 불빛처럼 달려유다빈밴드의 노래는 한밤의 불빛처럼 달려 中                 다시 명에게 묻는다\n",
      "\n",
      "5번째 줄: 한번쯤 들었겠지 노래는 한밤의 불빛처럼 달려\n",
      "\n",
      "6번째 줄: 유다빈밴드의 노래는 한밤의 불빛처럼 달려 中\n",
      "\n",
      "7번째 줄:                  다시 명에게 묻는다\n",
      "\n",
      "8번째 줄: 한번쯤 들었겠지 노래는 한밤의 불빛처럼 달려\n",
      "\n",
      "9번째 줄: 유다빈밴드의 노래는 한밤의 불빛처럼 달려 中\n",
      "\n",
      "10번째 줄: \n",
      "\n",
      "11번째 줄: 다시 명에게 묻는다\n"
     ]
    }
   ],
   "source": [
    "#readlines() 인덱스번호와 함께 한줄씩 호출하기\n",
    "\n",
    "with open(\"test1.txt\",\"r\") as f:\n",
    "    line=f.readlines()\n",
    "    for i,j in enumerate(line): #enumerate를 사용하여 라인마다 몇번째인지 알려주도록함\n",
    "        print(f\"{i+1}번째 줄: {j}\") #enumerate이기 때문에 인덱스 번호가 반환됨.\n",
    "#인덱스번호는 0번부터 시작이기때문에 인덱스번호가 출력되는 i함수에 +1을 해줌"
   ]
  },
  {
   "cell_type": "code",
   "execution_count": 1,
   "id": "78b90697-24a6-43a1-bfa3-f7b4025463e9",
   "metadata": {},
   "outputs": [
    {
     "name": "stdin",
     "output_type": "stream",
     "text": [
      "1번째 학생이름입력:  짱구\n",
      "1번째 학생나이입력:  9\n",
      "1번째 학생점수입력:  10\n",
      "2번째 학생이름입력:  유리\n",
      "2번째 학생나이입력:  3\n",
      "2번째 학생점수입력:  1\n",
      "3번째 학생이름입력:  철수\n",
      "3번째 학생나이입력:  0\n",
      "3번째 학생점수입력:  0\n"
     ]
    }
   ],
   "source": [
    "#<실습>\n",
    "#3명의 학생의 이름, 나이, python 점수를 텍스트 파일에 저장하는 프로그램\n",
    "#3명의 학생의 정보를 입력받아\n",
    "#학생마다 정보를 딕셔너리에 저장\n",
    "#학생의 정보가 담긴 딕셔너리를 리스트에 저장\n",
    "#리스트의 내용을 텍스트 파일(student.txt)에  저장\n",
    "#저장 경로는 workspace의 day02 폴더에 저장\n",
    "\n",
    "#저장내용\n",
    "#학생1\n",
    "#이름: 찡구\n",
    "#나이: 00살\n",
    "#python:00 점\n",
    "#...\n",
    "#학생3\n",
    "\n",
    "\n",
    "info={}\n",
    "stu=[]\n",
    "\n",
    "for i in range(3):\n",
    "    name=input(f\"{i+1}번째 학생이름입력: \")\n",
    "    age=int(input(f\"{i+1}번째 학생나이입력: \"))\n",
    "    point=int(input(f\"{i+1}번째 학생점수입력: \"))\n",
    "    info[\"이름\"]=name\n",
    "    info[\"나이\"]=age\n",
    "    info[\"python\"]=point\n",
    "    stu.append(info)\n",
    "\n",
    "with open(\"student.txt\",\"w\") as f:\n",
    "    for i in stu:\n",
    "        f.write(f\"학생{stu.index(i)+1}\\n\")\n",
    "        for key, value in info.items():\n",
    "            f.write(f\"{key}:{value}\\n\")"
   ]
  },
  {
   "cell_type": "code",
   "execution_count": 3,
   "id": "026faf6e-5159-4293-9f64-68aabf66504f",
   "metadata": {},
   "outputs": [
    {
     "ename": "KeyboardInterrupt",
     "evalue": "Interrupted by user",
     "output_type": "error",
     "traceback": [
      "\u001b[1;31m---------------------------------------------------------------------------\u001b[0m",
      "\u001b[1;31mKeyboardInterrupt\u001b[0m                         Traceback (most recent call last)",
      "Cell \u001b[1;32mIn[3], line 21\u001b[0m\n\u001b[0;32m     18\u001b[0m li1\u001b[38;5;241m=\u001b[39m[]\n\u001b[0;32m     20\u001b[0m \u001b[38;5;28;01mfor\u001b[39;00m i \u001b[38;5;129;01min\u001b[39;00m \u001b[38;5;28mrange\u001b[39m(\u001b[38;5;241m3\u001b[39m):\n\u001b[1;32m---> 21\u001b[0m     name\u001b[38;5;241m=\u001b[39m\u001b[38;5;28minput\u001b[39m(\u001b[38;5;124m\"\u001b[39m\u001b[38;5;124m밴드명 입력: \u001b[39m\u001b[38;5;124m\"\u001b[39m)\n\u001b[0;32m     22\u001b[0m     dil[\u001b[38;5;124m\"\u001b[39m\u001b[38;5;124m밴드명\u001b[39m\u001b[38;5;124m\"\u001b[39m]\u001b[38;5;241m=\u001b[39mname\n\u001b[0;32m     23\u001b[0m     member\u001b[38;5;241m=\u001b[39m\u001b[38;5;28minput\u001b[39m(\u001b[38;5;124m\"\u001b[39m\u001b[38;5;124m멤버수 입력: \u001b[39m\u001b[38;5;124m\"\u001b[39m)\n",
      "File \u001b[1;32m~\\anaconda3\\Lib\\site-packages\\ipykernel\\kernelbase.py:1262\u001b[0m, in \u001b[0;36mKernel.raw_input\u001b[1;34m(self, prompt)\u001b[0m\n\u001b[0;32m   1260\u001b[0m     msg \u001b[38;5;241m=\u001b[39m \u001b[38;5;124m\"\u001b[39m\u001b[38;5;124mraw_input was called, but this frontend does not support input requests.\u001b[39m\u001b[38;5;124m\"\u001b[39m\n\u001b[0;32m   1261\u001b[0m     \u001b[38;5;28;01mraise\u001b[39;00m StdinNotImplementedError(msg)\n\u001b[1;32m-> 1262\u001b[0m \u001b[38;5;28;01mreturn\u001b[39;00m \u001b[38;5;28mself\u001b[39m\u001b[38;5;241m.\u001b[39m_input_request(\n\u001b[0;32m   1263\u001b[0m     \u001b[38;5;28mstr\u001b[39m(prompt),\n\u001b[0;32m   1264\u001b[0m     \u001b[38;5;28mself\u001b[39m\u001b[38;5;241m.\u001b[39m_parent_ident[\u001b[38;5;124m\"\u001b[39m\u001b[38;5;124mshell\u001b[39m\u001b[38;5;124m\"\u001b[39m],\n\u001b[0;32m   1265\u001b[0m     \u001b[38;5;28mself\u001b[39m\u001b[38;5;241m.\u001b[39mget_parent(\u001b[38;5;124m\"\u001b[39m\u001b[38;5;124mshell\u001b[39m\u001b[38;5;124m\"\u001b[39m),\n\u001b[0;32m   1266\u001b[0m     password\u001b[38;5;241m=\u001b[39m\u001b[38;5;28;01mFalse\u001b[39;00m,\n\u001b[0;32m   1267\u001b[0m )\n",
      "File \u001b[1;32m~\\anaconda3\\Lib\\site-packages\\ipykernel\\kernelbase.py:1305\u001b[0m, in \u001b[0;36mKernel._input_request\u001b[1;34m(self, prompt, ident, parent, password)\u001b[0m\n\u001b[0;32m   1302\u001b[0m \u001b[38;5;28;01mexcept\u001b[39;00m \u001b[38;5;167;01mKeyboardInterrupt\u001b[39;00m:\n\u001b[0;32m   1303\u001b[0m     \u001b[38;5;66;03m# re-raise KeyboardInterrupt, to truncate traceback\u001b[39;00m\n\u001b[0;32m   1304\u001b[0m     msg \u001b[38;5;241m=\u001b[39m \u001b[38;5;124m\"\u001b[39m\u001b[38;5;124mInterrupted by user\u001b[39m\u001b[38;5;124m\"\u001b[39m\n\u001b[1;32m-> 1305\u001b[0m     \u001b[38;5;28;01mraise\u001b[39;00m \u001b[38;5;167;01mKeyboardInterrupt\u001b[39;00m(msg) \u001b[38;5;28;01mfrom\u001b[39;00m \u001b[38;5;28;01mNone\u001b[39;00m\n\u001b[0;32m   1306\u001b[0m \u001b[38;5;28;01mexcept\u001b[39;00m \u001b[38;5;167;01mException\u001b[39;00m:\n\u001b[0;32m   1307\u001b[0m     \u001b[38;5;28mself\u001b[39m\u001b[38;5;241m.\u001b[39mlog\u001b[38;5;241m.\u001b[39mwarning(\u001b[38;5;124m\"\u001b[39m\u001b[38;5;124mInvalid Message:\u001b[39m\u001b[38;5;124m\"\u001b[39m, exc_info\u001b[38;5;241m=\u001b[39m\u001b[38;5;28;01mTrue\u001b[39;00m)\n",
      "\u001b[1;31mKeyboardInterrupt\u001b[0m: Interrupted by user"
     ]
    }
   ],
   "source": [
    "#<실습>\n",
    "#3팀 밴드이름, 멤버수, 대표곡을 텍스트 파일에 저장하는 프로그램\n",
    "#3팀의 밴드 정보를 입력받아\n",
    "#밴드마다 정보를 딕셔너리에 저장\n",
    "#밴드의 정보가 담긴 딕셔너리를 리스트에 저장\n",
    "#리스트의 내용을 텍스트 파일(band.txt)에  저장\n",
    "#저장 경로는 workspace의 day02 폴더에 저장\n",
    "\n",
    "#저장내용\n",
    "#===1번쨰 밴드정보===\n",
    "#밴드이름: \n",
    "#멤버수: 00\n",
    "#히트곡:00\n",
    "#...\n",
    "#===3번쨰 밴드정보===\n",
    "\n",
    "dil={}\n",
    "li1=[]\n",
    "\n",
    "for i in range(3):\n",
    "    name=input(\"밴드명 입력: \")\n",
    "    dil[\"밴드명\"]=name\n",
    "    member=input(\"멤버수 입력: \")\n",
    "    dil[\"멤버수\"]=member\n",
    "    sing=input(\"팀의 대표곡 입력: \")\n",
    "    dil[\"대표곡\"]=sing\n",
    "    li1.append(dil)\n",
    "\n",
    "with open(\"./day02/band.txt\",\"w\") as f:\n",
    "    for i in li1:\n",
    "        print(f\"==={li1.index(i)+1}번째 밴드 정보===\")\n",
    "        for h,j in dil.items():\n",
    "            print(f\"{h}: {j}\")"
   ]
  },
  {
   "cell_type": "code",
   "execution_count": 5,
   "id": "9be6f3d8-fb6e-4c60-a96f-86252c9fad18",
   "metadata": {},
   "outputs": [
    {
     "name": "stdin",
     "output_type": "stream",
     "text": [
      "1번째 학생 이름 :  강수진\n",
      "1번째 학생 나이 :  19\n",
      "1번째 학생 python 점수 :  50\n"
     ]
    },
    {
     "name": "stdout",
     "output_type": "stream",
     "text": [
      "{'이름': '강수진', '나이': '19살', 'python': '50점'}\n"
     ]
    },
    {
     "name": "stdin",
     "output_type": "stream",
     "text": [
      "2번째 학생 이름 :  박성태\n",
      "2번째 학생 나이 :  32\n",
      "2번째 학생 python 점수 :  86\n"
     ]
    },
    {
     "name": "stdout",
     "output_type": "stream",
     "text": [
      "{'이름': '박성태', '나이': '32살', 'python': '86점'}\n"
     ]
    },
    {
     "name": "stdin",
     "output_type": "stream",
     "text": [
      "3번째 학생 이름 :  신용우\n",
      "3번째 학생 나이 :  34\n",
      "3번째 학생 python 점수 :  100\n"
     ]
    },
    {
     "name": "stdout",
     "output_type": "stream",
     "text": [
      "{'이름': '신용우', '나이': '34살', 'python': '100점'}\n",
      "=======리스트 내용 확인=========\n",
      "[{'이름': '강수진', '나이': '19살', 'python': '50점'}, {'이름': '박성태', '나이': '32살', 'python': '86점'}, {'이름': '신용우', '나이': '34살', 'python': '100점'}]\n"
     ]
    }
   ],
   "source": [
    "# 학생들의 정보를 저장하고 있는 딕셔너리를 저장할 리스트 생성\n",
    "stus_li = []\n",
    "\n",
    "# 3명의 학생 이름, 나이, python 점수를 입력받아 딕셔너리에 저장\n",
    "for i in range(3) :\n",
    "    # 학생 1명의 정보를 저장할 빈 딕셔너리 생성\n",
    "    stu_di = {}\n",
    "    name = input(f\"{i+1}번째 학생 이름 : \")\n",
    "    # 딕셔너리에 요소 추가 : 딕셔너리명[key] = value\n",
    "    stu_di[\"이름\"] = name\n",
    "    \n",
    "    age = int(input(f\"{i+1}번째 학생 나이 : \"))\n",
    "    # 입력받은 나이 딕셔너리에 추가\n",
    "    stu_di[\"나이\"] = f\"{age}살\"\n",
    "\n",
    "    score = int(input(f\"{i+1}번째 학생 python 점수 : \"))\n",
    "    # 입력받은 점수 딕셔너리에 추가\n",
    "    stu_di[\"python\"] = f\"{score}점\"\n",
    "\n",
    "    print(stu_di)\n",
    "    # 딕셔너리를 리스트에 추가\n",
    "    stus_li.append(stu_di)\n",
    "\n",
    "print(\"=======리스트 내용 확인=========\")\n",
    "print(stus_li)\n",
    "\n",
    "# 위에서 만든 리스트 student.txt 파일에 저장\n",
    "with open(\"../resource/student.txt\", \"w\", encoding = \"utf-8\") as f :\n",
    "    for dict in stus_li :\n",
    "        f.write(f\"학생{stus_li.index(dict) + 1}\\n\")\n",
    "        # .index() : 특정 리스트 요소의 위치(인덱스 번호)\n",
    "        for key, value in dict.items() :\n",
    "            f.write(f\"{key} : {value}\\n\")\n",
    "        f.write(\"\\n\") "
   ]
  }
 ],
 "metadata": {
  "kernelspec": {
   "display_name": "Python 3 (ipykernel)",
   "language": "python",
   "name": "python3"
  },
  "language_info": {
   "codemirror_mode": {
    "name": "ipython",
    "version": 3
   },
   "file_extension": ".py",
   "mimetype": "text/x-python",
   "name": "python",
   "nbconvert_exporter": "python",
   "pygments_lexer": "ipython3",
   "version": "3.12.3"
  }
 },
 "nbformat": 4,
 "nbformat_minor": 5
}

{
 "cells": [
  {
   "cell_type": "code",
   "execution_count": 7,
   "id": "aa02b185-f96e-4d6b-b0c2-3e30ead54304",
   "metadata": {},
   "outputs": [
    {
     "name": "stdout",
     "output_type": "stream",
     "text": [
      "파일생성완료!\n"
     ]
    }
   ],
   "source": [
    "#cvs파일 입출력\n",
    "\n",
    "import csv\n",
    "\n",
    "#csv파일 작성\n",
    "with open(\"./day03/student.csv\",\"w\",newline=\"\") as f :\n",
    "    #write 작성객체 생성\n",
    "    write=csv.writer(f)\n",
    "    write.writerow([\"학번\",\"이름\",\"나이\"]) #write라는 쓰기객체를 생성하고 그걸 이용해서 csv메소드인 writeow를 통해 내용작성\n",
    "    write.writerow([1,\"둘리\",10])\n",
    "    write.writerow([2,\"도우너\",11])\n",
    "\n",
    "print(\"파일생성완료!\")"
   ]
  },
  {
   "cell_type": "code",
   "execution_count": 12,
   "id": "7ebe7697-31f9-48b7-8d70-f14c5400c43a",
   "metadata": {},
   "outputs": [
    {
     "name": "stdout",
     "output_type": "stream",
     "text": [
      "band.csv파일 생성완료!\n"
     ]
    }
   ],
   "source": [
    "#<csv파일 작성하기 실습>\n",
    "\n",
    "# import csv #이미 불러왔으니까 주석처리\n",
    "\n",
    "with open(\"./day03/band.csv\",\"w\") as f:\n",
    "    band_namew=csv.writer(f)\n",
    "    band_namew.writerow([\"밴드명\",\"멤버수\",\"대표멤버\"])#wirterow는 리스트로 1행씩 넣는 형태\n",
    "    band_namew.writerow([\"유다빈밴드\",4,\"유다빈\"])\n",
    "\n",
    "print(\"band.csv파일 생성완료!\")"
   ]
  },
  {
   "cell_type": "code",
   "execution_count": 20,
   "id": "cbd2ec97-eaf1-42b4-9c4d-41727290e117",
   "metadata": {},
   "outputs": [
    {
     "name": "stdout",
     "output_type": "stream",
     "text": [
      "[['학번', '이름', '나이'], ['1', '둘리', '10'], ['2', '도우너', '11']]\n"
     ]
    }
   ],
   "source": [
    "#csv파일 읽어오기\n",
    "\n",
    "with open(\"./day03/student.csv\",\"r\") as f:\n",
    "    reader=csv.reader(f) #이렇게만쓰면 해당 파일의 주소만 나옴.\n",
    "#파일을 작성할때 리스트로 작성을 했기때문에 파일을 읽어오기위해서는 리스트로 형변환시켜주어야함\n",
    "    reader=list(reader)\n",
    "\n",
    "print(reader) #아까 작성했었던 파일의 내용이 불러와짐"
   ]
  },
  {
   "cell_type": "code",
   "execution_count": 35,
   "id": "95a0c9c7-d9c1-43ef-a01b-9eb7b4026734",
   "metadata": {},
   "outputs": [
    {
     "name": "stdout",
     "output_type": "stream",
     "text": [
      "[['밴드명', '멤버수', '대표멤버'], [], ['유다빈밴드', '4', '유다빈'], []]\n"
     ]
    }
   ],
   "source": [
    "#csv파일 불러오기 실습\n",
    "\n",
    "with open(\"./day03/band.csv\",\"r\") as f:\n",
    "    band_r=csv.reader(f)\n",
    "    band_r=list(band_r)\n",
    "\n",
    "print(band_r)"
   ]
  },
  {
   "cell_type": "code",
   "execution_count": 37,
   "id": "be192498-9d61-4954-b44a-21422715f675",
   "metadata": {},
   "outputs": [
    {
     "name": "stdout",
     "output_type": "stream",
     "text": [
      "파일생성!\n"
     ]
    }
   ],
   "source": [
    "#csv 여러행 작성하기\n",
    "\n",
    "import csv\n",
    "\n",
    "with open(\"./day03/studenct.csv\",\"w\") as f:\n",
    "    write=csv.writer(f)\n",
    "    write.writerows([[\"학번\",\"이름\",\"나이\"],[20190951,\"전신영\",25],[20190952,\"유다빈\",26]])\n",
    "\n",
    "print(\"파일생성!\")"
   ]
  },
  {
   "cell_type": "code",
   "execution_count": 109,
   "id": "b4179be5-27d1-4423-8136-031e912c3bbd",
   "metadata": {},
   "outputs": [
    {
     "ename": "SyntaxError",
     "evalue": "invalid syntax (2824405532.py, line 16)",
     "output_type": "error",
     "traceback": [
      "\u001b[1;36m  Cell \u001b[1;32mIn[109], line 16\u001b[1;36m\u001b[0m\n\u001b[1;33m    print(파일생성!)\u001b[0m\n\u001b[1;37m              ^\u001b[0m\n\u001b[1;31mSyntaxError\u001b[0m\u001b[1;31m:\u001b[0m invalid syntax\n"
     ]
    }
   ],
   "source": [
    "#csv파일을 딕셔너리형태로 쓰고 읽어오기\n",
    "#csv.DictWriter\n",
    "\n",
    "cate=[\"히어로명\",\"이름\",\"직업\"]\n",
    "data = [{\"히어로명\" : \"스파이더맨\", \"이름\":\"피터 파커\", \"직업\":\"고등학생\"},\n",
    "       {\"히어로명\" : \"아이언맨\", \"이름\" : \"토니 스타크\", \"직업\" : \"발명가\"},\n",
    "       {\"히어로명\" : \"캡틴 아메리카\", \"이름\" : \"스티븐 로저스\", \"직업\" :\"군인\"}]\n",
    "\n",
    "\n",
    "with open(\"./day03/marvel.csv\",\"w\",newline=\"\") as f:\n",
    "    w = csv.DictWriter(f,fieldnames=cate)\n",
    "    #fieldnames를 이용해서 파일 객체의 열제목 설정\n",
    "    w.writeheader() #첫번째 행에 항목이름을 넣을것인지 설정\n",
    "    w.writherows(data)\n",
    "    \n",
    "print('파일생성!')"
   ]
  },
  {
   "cell_type": "code",
   "execution_count": 145,
   "id": "3659984a-5cbe-4e67-8dcf-83c4c61bd5cc",
   "metadata": {},
   "outputs": [
    {
     "name": "stdout",
     "output_type": "stream",
     "text": [
      "<Worksheet \"Sheet\">\n",
      "['Sheet', 'new01'] <class 'list'>\n",
      "['new sheet02', 'Sheet', 'new01', 'new sheet03', 'new sheet01']\n",
      "<Worksheet \"Sheet\">\n",
      "<Worksheet \"시트1수정\">\n",
      "['new sheet02', '시트1수정', 'new01', 'new sheet03', 'new sheet01']\n",
      "<Worksheet \"new sheet02\">\n",
      "<Worksheet \"시트1수정\">\n"
     ]
    }
   ],
   "source": [
    "#openpyxl \n",
    "\n",
    "#파일열기\n",
    "import openpyxl\n",
    "\n",
    "#통합문서(Workbook)객체 생성\n",
    "\n",
    "#객체명=Workbook의 클래스를 생성해준것\n",
    "wb=openpyxl.Workbook()\n",
    "\n",
    "#워크시트의 객체 생성\n",
    "ws=wb.active #첫번째 시트를 활성화 시키는것이 기본값\n",
    "print(ws)\n",
    "\n",
    "#워크시트 생성 : Workbook_create_sheet()\n",
    "\n",
    "#통합문서 객체명.시트만드는 메소드(시트이름)\n",
    "wb.create_sheet(\"new01\")\n",
    "\n",
    "#워크시트 목록 확인\n",
    "print(wb.sheetnames,type(wb.sheetnames)) #통합문서 객체명.sheetnames사용하면 시트들의 이름을 볼 수 있음\n",
    "#'Sheet', 'new01' sheet(ws=wb.active할떄 첫번째 시트를 활성화시키는것이 기본값이기때문에 첫번째 시트로 생성된것)\n",
    "\n",
    "#워크시트 생성위치 지정\n",
    "wb.create_sheet(\"new sheet01\") #위치설정을 하지 않으면 맨 끝에 추가\n",
    "wb.create_sheet(\"new sheet02\",0)#인덱스 위치 0번=첫번째\n",
    "wb.create_sheet(\"new sheet03\",-1) #인덱스-1을 입력했지만 위치값을 지정하지 않으면 맨 끝으로 간다는 기능이 이미 있기때문에\n",
    "#-1을 입력하게 되면 맨끝에서 두번째 값으로 이동\n",
    "\n",
    "print(wb.sheetnames)\n",
    "print(ws) #워크시트의 객체명으로 지금 현재 통합문서(tset)에서 활성화되어있는 워크시트를 확인할 수 있음\n",
    "ws.title=\"시트1수정\"\n",
    "print(ws) #현재 활성화 되어있는 시트의 이름이 수정된걸 확인할 수 있음\n",
    "print(wb.sheetnames)\n",
    "\n",
    "#다른시트 활성화\n",
    "#워크시트 객체명을 활용\n",
    "ws=wb[\"new sheet02\"] #딕셔너리에서 키값으로 벨류값에 접근하는 방식과 비슷\n",
    "print(ws) #활성화 되어있는 시트 확인아면 <Worksheet \"new sheet02\">\n",
    "ws=wb[\"시트1수정\"]\n",
    "print(ws) #다시 활성화 되어있는 시트 이름 변경\n",
    "\n",
    "#엑셀파일 저장\n",
    "wb.save(\"./day03/test.xlsx\") #시트를 파이썬에서 다 만들었다면 꼭 저장"
   ]
  },
  {
   "cell_type": "code",
   "execution_count": 199,
   "id": "47d77493-cb99-44de-a3ba-9a9cdf68c8f7",
   "metadata": {},
   "outputs": [
    {
     "name": "stdout",
     "output_type": "stream",
     "text": [
      "<Worksheet \"시트1수정\">\n",
      "<Cell '시트1수정'.A1>\n",
      "10\n",
      "안녕!\n",
      "((<Cell '시트1수정'.A1>, <Cell '시트1수정'.B1>, <Cell '시트1수정'.C1>), (<Cell '시트1수정'.A2>, <Cell '시트1수정'.B2>, <Cell '시트1수정'.C2>))\n",
      "\n",
      "10\n",
      "20\n",
      "안녕!\n",
      "None\n",
      "30\n",
      "None\n",
      "\n",
      "(<Cell '시트1수정'.C1>, <Cell '시트1수정'.C2>, <Cell '시트1수정'.C3>, <Cell '시트1수정'.C4>, <Cell '시트1수정'.C5>, <Cell '시트1수정'.C6>, <Cell '시트1수정'.C7>, <Cell '시트1수정'.C8>, <Cell '시트1수정'.C9>, <Cell '시트1수정'.C10>, <Cell '시트1수정'.C11>, <Cell '시트1수정'.C12>, <Cell '시트1수정'.C13>, <Cell '시트1수정'.C14>, <Cell '시트1수정'.C15>, <Cell '시트1수정'.C16>, <Cell '시트1수정'.C17>, <Cell '시트1수정'.C18>, <Cell '시트1수정'.C19>, <Cell '시트1수정'.C20>, <Cell '시트1수정'.C21>, <Cell '시트1수정'.C22>, <Cell '시트1수정'.C23>, <Cell '시트1수정'.C24>, <Cell '시트1수정'.C25>, <Cell '시트1수정'.C26>, <Cell '시트1수정'.C27>, <Cell '시트1수정'.C28>, <Cell '시트1수정'.C29>, <Cell '시트1수정'.C30>, <Cell '시트1수정'.C31>, <Cell '시트1수정'.C32>, <Cell '시트1수정'.C33>, <Cell '시트1수정'.C34>, <Cell '시트1수정'.C35>, <Cell '시트1수정'.C36>, <Cell '시트1수정'.C37>, <Cell '시트1수정'.C38>, <Cell '시트1수정'.C39>, <Cell '시트1수정'.C40>, <Cell '시트1수정'.C41>, <Cell '시트1수정'.C42>, <Cell '시트1수정'.C43>, <Cell '시트1수정'.C44>, <Cell '시트1수정'.C45>, <Cell '시트1수정'.C46>, <Cell '시트1수정'.C47>, <Cell '시트1수정'.C48>, <Cell '시트1수정'.C49>, <Cell '시트1수정'.C50>)\n",
      "((<Cell '시트1수정'.C1>, <Cell '시트1수정'.C2>, <Cell '시트1수정'.C3>, <Cell '시트1수정'.C4>, <Cell '시트1수정'.C5>, <Cell '시트1수정'.C6>, <Cell '시트1수정'.C7>, <Cell '시트1수정'.C8>, <Cell '시트1수정'.C9>, <Cell '시트1수정'.C10>, <Cell '시트1수정'.C11>, <Cell '시트1수정'.C12>, <Cell '시트1수정'.C13>, <Cell '시트1수정'.C14>, <Cell '시트1수정'.C15>, <Cell '시트1수정'.C16>, <Cell '시트1수정'.C17>, <Cell '시트1수정'.C18>, <Cell '시트1수정'.C19>, <Cell '시트1수정'.C20>, <Cell '시트1수정'.C21>, <Cell '시트1수정'.C22>, <Cell '시트1수정'.C23>, <Cell '시트1수정'.C24>, <Cell '시트1수정'.C25>, <Cell '시트1수정'.C26>, <Cell '시트1수정'.C27>, <Cell '시트1수정'.C28>, <Cell '시트1수정'.C29>, <Cell '시트1수정'.C30>, <Cell '시트1수정'.C31>, <Cell '시트1수정'.C32>, <Cell '시트1수정'.C33>, <Cell '시트1수정'.C34>, <Cell '시트1수정'.C35>, <Cell '시트1수정'.C36>, <Cell '시트1수정'.C37>, <Cell '시트1수정'.C38>, <Cell '시트1수정'.C39>, <Cell '시트1수정'.C40>, <Cell '시트1수정'.C41>, <Cell '시트1수정'.C42>, <Cell '시트1수정'.C43>, <Cell '시트1수정'.C44>, <Cell '시트1수정'.C45>, <Cell '시트1수정'.C46>, <Cell '시트1수정'.C47>, <Cell '시트1수정'.C48>, <Cell '시트1수정'.C49>, <Cell '시트1수정'.C50>), (<Cell '시트1수정'.D1>, <Cell '시트1수정'.D2>, <Cell '시트1수정'.D3>, <Cell '시트1수정'.D4>, <Cell '시트1수정'.D5>, <Cell '시트1수정'.D6>, <Cell '시트1수정'.D7>, <Cell '시트1수정'.D8>, <Cell '시트1수정'.D9>, <Cell '시트1수정'.D10>, <Cell '시트1수정'.D11>, <Cell '시트1수정'.D12>, <Cell '시트1수정'.D13>, <Cell '시트1수정'.D14>, <Cell '시트1수정'.D15>, <Cell '시트1수정'.D16>, <Cell '시트1수정'.D17>, <Cell '시트1수정'.D18>, <Cell '시트1수정'.D19>, <Cell '시트1수정'.D20>, <Cell '시트1수정'.D21>, <Cell '시트1수정'.D22>, <Cell '시트1수정'.D23>, <Cell '시트1수정'.D24>, <Cell '시트1수정'.D25>, <Cell '시트1수정'.D26>, <Cell '시트1수정'.D27>, <Cell '시트1수정'.D28>, <Cell '시트1수정'.D29>, <Cell '시트1수정'.D30>, <Cell '시트1수정'.D31>, <Cell '시트1수정'.D32>, <Cell '시트1수정'.D33>, <Cell '시트1수정'.D34>, <Cell '시트1수정'.D35>, <Cell '시트1수정'.D36>, <Cell '시트1수정'.D37>, <Cell '시트1수정'.D38>, <Cell '시트1수정'.D39>, <Cell '시트1수정'.D40>, <Cell '시트1수정'.D41>, <Cell '시트1수정'.D42>, <Cell '시트1수정'.D43>, <Cell '시트1수정'.D44>, <Cell '시트1수정'.D45>, <Cell '시트1수정'.D46>, <Cell '시트1수정'.D47>, <Cell '시트1수정'.D48>, <Cell '시트1수정'.D49>, <Cell '시트1수정'.D50>))\n",
      "(<Cell '시트1수정'.A10>, <Cell '시트1수정'.B10>, <Cell '시트1수정'.C10>, <Cell '시트1수정'.D10>)\n",
      "((<Cell '시트1수정'.A10>, <Cell '시트1수정'.B10>, <Cell '시트1수정'.C10>, <Cell '시트1수정'.D10>), (<Cell '시트1수정'.A11>, <Cell '시트1수정'.B11>, <Cell '시트1수정'.C11>, <Cell '시트1수정'.D11>), (<Cell '시트1수정'.A12>, <Cell '시트1수정'.B12>, <Cell '시트1수정'.C12>, <Cell '시트1수정'.D12>), (<Cell '시트1수정'.A13>, <Cell '시트1수정'.B13>, <Cell '시트1수정'.C13>, <Cell '시트1수정'.D13>), (<Cell '시트1수정'.A14>, <Cell '시트1수정'.B14>, <Cell '시트1수정'.C14>, <Cell '시트1수정'.D14>), (<Cell '시트1수정'.A15>, <Cell '시트1수정'.B15>, <Cell '시트1수정'.C15>, <Cell '시트1수정'.D15>), (<Cell '시트1수정'.A16>, <Cell '시트1수정'.B16>, <Cell '시트1수정'.C16>, <Cell '시트1수정'.D16>), (<Cell '시트1수정'.A17>, <Cell '시트1수정'.B17>, <Cell '시트1수정'.C17>, <Cell '시트1수정'.D17>), (<Cell '시트1수정'.A18>, <Cell '시트1수정'.B18>, <Cell '시트1수정'.C18>, <Cell '시트1수정'.D18>), (<Cell '시트1수정'.A19>, <Cell '시트1수정'.B19>, <Cell '시트1수정'.C19>, <Cell '시트1수정'.D19>), (<Cell '시트1수정'.A20>, <Cell '시트1수정'.B20>, <Cell '시트1수정'.C20>, <Cell '시트1수정'.D20>))\n"
     ]
    }
   ],
   "source": [
    "#단일셀 접근\n",
    "\n",
    "print(ws) #활성화된 객체 확인\n",
    "\n",
    "ws[\"A1\"]=10\n",
    "print(ws[\"A1\"]) #<Cell '시트1수정'.A1> 위치 출력\n",
    "#그냥 출력하면 이렇게 위치만 출력이 되기때문에\n",
    "print(ws[\"A1\"].value) #값을 알려주는 .value를 사용하면 A1셀에 저장된 값을 확인할 수 있음\n",
    "ws[\"C1\"]=\"안녕!\"\n",
    "print(ws[\"C1\"].value)\n",
    "\n",
    "#worksheet cell()사용하기\n",
    "b=ws.cell(row=1, column=2, value=20) # 1행 2열셀에 20저장\n",
    "s=ws.cell(row=2 , column=2, value=30)\n",
    "\n",
    "\n",
    "#다중 셀 접근 : 슬라이싱 이용\n",
    "cell_range=ws[\"A1\":\"C2\"]\n",
    "print(ws[\"A1\":\"C2\"]) #이렇게만 쓰면 위치정보 확인/ 이중튜플 형식으로 정보값확인 가능\n",
    "print()\n",
    "#for문을 이용해서 셀요소를 하나하나 가져와서 확인가능 = 튜플의 언패킹\n",
    "\n",
    "for row in cell_range:\n",
    "    for cell in row:\n",
    "        print(cell.value) #셀 요소 하나하나 가져와줌. None은 값이 들어오지 않았기때문\n",
    "\n",
    "print()\n",
    "print(ws[\"C\"]) #C열 전체값이선택이 된거긴하지만 C열의 전체값을 보여줄수가 없어서 우리가 활성화해준 C2까지만 나온것\n",
    "print(ws[\"C\":\"D\"])\n",
    "print(ws[10]) #10행의 전체\n",
    "print(ws[10:20])\n",
    "\n",
    "#파일저장\n",
    "wb.save(\"./day03/test.xlsx\")\n",
    "wb.close() #파일의 모든 작업이 끝났으면 close()로 파일을 닫아주어야함"
   ]
  },
  {
   "cell_type": "code",
   "execution_count": 207,
   "id": "f2eb0f82-1afb-4dd0-a697-dcec22fdd5a5",
   "metadata": {},
   "outputs": [
    {
     "name": "stdout",
     "output_type": "stream",
     "text": [
      "['new sheet02', '시트1수정', 'new01', 'new sheet03', 'new sheet01']\n"
     ]
    }
   ],
   "source": [
    "#파일열기\n",
    "\n",
    "import openpyxl\n",
    "\n",
    "#통합문서 객체명=파일여는 메소드\n",
    "wb=openpyxl.load_workbook(\"./day03/test.xlsx\")\n",
    "print(wb.sheetnames) #시트를 열어주었기때문에 시트 이름 확인\n",
    "\n",
    "ws=wb[\"new sheet02\"]"
   ]
  },
  {
   "cell_type": "code",
   "execution_count": 83,
   "id": "a1487089-21e9-4e6b-a651-c139ca7b2fcc",
   "metadata": {},
   "outputs": [
    {
     "name": "stdout",
     "output_type": "stream",
     "text": [
      "marvel.csv파일 작성 완료\n"
     ]
    }
   ],
   "source": [
    "# csv.DictWriter\n",
    "\n",
    "cate = [\"히어로명\", \"이름\", \"직업\"]\n",
    "\n",
    "data = [{\"히어로명\" : \"스파이더맨\", \"이름\":\"피터 파커\", \"직업\":\"고등학생\"},\n",
    "       {\"히어로명\" : \"아이언맨\", \"이름\" : \"토니 스타크\", \"직업\" : \"발명가\"},\n",
    "       {\"히어로명\" : \"캡틴 아메리카\", \"이름\" : \"스티븐 로저스\", \"직업\" :\"군인\"}]\n",
    "\n",
    "with open(\"./day03/marvel.csv\", \"w\", newline=\"\") as f :\n",
    "    # 쓰기 객체 생성\n",
    "    w = csv.DictWriter(f, fieldnames = cate)\n",
    "    # fieldnames : 열제목 설정\n",
    "    w.writeheader() # 첫번째 행에 항목이름을 넣을 것인지 설정\n",
    "    w.writerows(data)\n",
    "\n",
    "print(\"marvel.csv파일 작성 완료\")"
   ]
  },
  {
   "cell_type": "code",
   "execution_count": 89,
   "id": "9915d6cf-e103-4d2e-b60a-2e3681f36440",
   "metadata": {},
   "outputs": [
    {
     "name": "stdout",
     "output_type": "stream",
     "text": [
      "[1 2 3 4] <class 'numpy.ndarray'>\n",
      "[1 2 3 4 5] <class 'numpy.ndarray'>\n"
     ]
    }
   ],
   "source": [
    "#넘파이 배열 생성\n",
    "import numpy as np  #모듈이기때문에 넘파이를 사용하려면 import를 사용\n",
    "\n",
    "#배열 생성\n",
    "#배열명 =np.array(리스트나 튜플로 인수값으로 전달)\n",
    "\n",
    "#1차원 배열 생성\n",
    "li=[1,2,3,4] #리스트를 먼저 생성하고\n",
    "arr=np.array(li) #배열명=np.array(리스트 인수 전달)\n",
    "print(arr,type(arr)) #배열이기때문에 콤마 사라지고 타입도 class 'numpy.ndarray'라고 나옴\n",
    "#배열array는 ndarray 클래스의 객체이기때문\n",
    "\n",
    "tu=(1,2,3,4,5)\n",
    "arr1=np.array(tu)\n",
    "print(arr1,type(arr1)) #튜플도 인수 전달 가능"
   ]
  },
  {
   "cell_type": "code",
   "execution_count": 107,
   "id": "db577573-e0be-4309-ae32-dc6339ec53d2",
   "metadata": {},
   "outputs": [
    {
     "name": "stdout",
     "output_type": "stream",
     "text": [
      "[[1 2 3]\n",
      " [4 5 6]]\n",
      "\n",
      "[[1 2 3 4]\n",
      " [1 2 3 4]]\n",
      "\n",
      "[['안녕' '헬로' '하이']\n",
      " ['잘가' '바이' '씨유레이터']]\n",
      "\n",
      "1.26.4\n"
     ]
    }
   ],
   "source": [
    "#넘파이 2차원 리스트 배열 생성\n",
    "\n",
    "li2=[[1,2,3],[4,5,6]]  #1행, 2행\n",
    "arr2=np.array(li2) #2차원 배열 생성\n",
    "print(arr2) #2차원 배열  2열 3행의 넘파이 구조가 생성\n",
    "\n",
    "print()\n",
    "\n",
    "tu1=((1,2,3,4),(1,2,3,4)) #튜플2개로 2차원의 배열구조 생성\n",
    "arr3=np.array(tu1)\n",
    "print(arr3) #2행 4열의 넘파이 구조 생성\n",
    "\n",
    "print()\n",
    "\n",
    "li3=[['안녕','헬로','하이'],['잘가','바이','씨유레이터']]\n",
    "arr4=np.array(li3)\n",
    "print(arr4) #문자열도 가능\n",
    "\n",
    "print()\n",
    "\n",
    "print(np.__version__) #사용중인 버전 확인"
   ]
  }
 ],
 "metadata": {
  "kernelspec": {
   "display_name": "Python 3 (ipykernel)",
   "language": "python",
   "name": "python3"
  },
  "language_info": {
   "codemirror_mode": {
    "name": "ipython",
    "version": 3
   },
   "file_extension": ".py",
   "mimetype": "text/x-python",
   "name": "python",
   "nbconvert_exporter": "python",
   "pygments_lexer": "ipython3",
   "version": "3.12.3"
  }
 },
 "nbformat": 4,
 "nbformat_minor": 5
}

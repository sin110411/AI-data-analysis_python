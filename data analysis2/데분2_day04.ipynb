{
 "cells": [
  {
   "cell_type": "code",
   "execution_count": 51,
   "id": "5cb9ebc6-4f71-4bbc-916a-e01a189c713e",
   "metadata": {},
   "outputs": [
    {
     "name": "stdout",
     "output_type": "stream",
     "text": [
      "[1 2 3 4 5 6] <class 'numpy.ndarray'>\n",
      "[[1 2 3]\n",
      " [4 5 6]\n",
      " [7 8 9]] <class 'numpy.ndarray'>\n",
      "\n",
      "3 <class 'numpy.int32'>\n",
      "[2 3] <class 'numpy.ndarray'>\n",
      "[1 3 5]\n",
      "\n",
      "[1 2 3] <class 'numpy.ndarray'>\n",
      "6 <class 'numpy.int32'>\n",
      "[[1 2 3]\n",
      " [4 5 6]]\n",
      "[4 5 6]\n",
      "6\n",
      "3\n"
     ]
    }
   ],
   "source": [
    "#넘파이 배열의 요소 접근\n",
    "\n",
    "import numpy as np\n",
    "\n",
    "arr1=np.array([1,2,3,4,5,6])\n",
    "arr2=np.array([[1,2,3],[4,5,6],[7,8,9]])\n",
    "\n",
    "print(arr1,type(arr1)) #1행의 6열 1차원 배열\n",
    "print(arr2,type(arr2)) #3행 3열의 2차원 배열\n",
    "\n",
    "print()\n",
    "\n",
    "#1차원 배열의 요소 접근\n",
    "print(arr1[2],type(arr1[2])) #배열명[인덱스 번호]\n",
    "#넘파이에서 배열(array)의 인덱스 해도 리스트와 동일하게 개별 데이터 자료형으로 출력\n",
    "print(arr1[1:3],type(arr1[1:3])) #리스트와 동일하게 슬라이싱하면 배열(array)자료형으로 출력\n",
    "print(arr1[::2]) #2씩 건너뛰는 것도 가능!\n",
    "print()\n",
    "\n",
    "#2차원 배열의 요소 접근\n",
    "print(arr2[0],type(arr2[0])) #2차원 배열안에 있는 첫번쨰 행 가지고 온것\n",
    "print(arr2[1][2],type(arr2[1][2])) #인덱싱이므로 개별타입 그대로 INT출력\n",
    "#2행 3열에 요소에 접근\n",
    "print(arr2[:2]) #1,2행만 가져옴. 슬라이싱하면 하나 덜 가지고 오기 때문\n",
    "print(arr2[:2][1]) #슬라이싱 행 중 1번 인덱스만 가지고옴\n",
    "print(arr2[:2][1][2])\n",
    "print(arr2[0][2])"
   ]
  },
  {
   "cell_type": "code",
   "execution_count": 59,
   "id": "7225cc81-f883-433f-9815-2f7123bc1798",
   "metadata": {},
   "outputs": [
    {
     "name": "stdout",
     "output_type": "stream",
     "text": [
      "[1 2] <class 'numpy.ndarray'>\n",
      "[[1. 2. 3.]\n",
      " [4. 5. 6.]] <class 'numpy.ndarray'>\n"
     ]
    }
   ],
   "source": [
    "#넘파이 배열 요소 접근\n",
    "import numpy as np\n",
    "\n",
    "#1차원 배열만들기\n",
    "arr1=np.array([1,2]) #1차원의 1열 2행\n",
    "print(arr1,type(arr1))\n",
    "\n",
    "arr2=np.array([[1,2,3.0],[4,5,6]])\n",
    "print(arr2,type(arr2)) #배열은 요소를 하나만 가질 수 있기때문에 실수형이 하나라도 있다면\n",
    "#전부다 실수로 변함"
   ]
  },
  {
   "cell_type": "code",
   "execution_count": 105,
   "id": "a0805885-84c2-4ca0-a2aa-efa9e759310b",
   "metadata": {},
   "outputs": [
    {
     "name": "stdout",
     "output_type": "stream",
     "text": [
      "int32\n",
      "float64\n",
      "float64\n",
      "\n",
      "(2,)\n",
      "(2, 3)\n",
      "[[1. 2. 3.]\n",
      " [4. 5. 6.]]\n",
      "(4,)\n",
      "[1. 2. 3. 4.]\n",
      "\n",
      "1\n",
      "2\n",
      "1\n",
      "\n",
      "2\n",
      "6\n",
      "4\n"
     ]
    }
   ],
   "source": [
    "#넘파이 객체의 속성 / 메소드\n",
    "\n",
    "#.dtype : 배열의 타입을 알려줌\n",
    "print(arr1.dtype) #정수형 int32 배열임을 알려줌 \n",
    "\n",
    "arr3=np.array([1,2,3,4.0]) #이것도 실수하나 있어서 전부 실수로 변함\n",
    "print(arr3.dtype) #float64 실수형 배열\n",
    "print(arr2.dtype) #아까 만든 실수형 배열\n",
    "print()\n",
    "\n",
    "#.shape : 차원의 크기(행,열)를 튜플로 알려줌\n",
    "print(arr1.shape) #1차원의 데이터는 (열,)이런 형태로 되어있음. 그래서 (2,)\n",
    "print(arr2.shape)\n",
    "print(arr2) #(행,열)의 형태로 반환 2행의 3열\n",
    "print(arr3.shape)\n",
    "print(arr3) #1차원의 데이터는 행이 하나만 있으니까 열의 갯수를 앞에 반환.\n",
    "print()\n",
    "\n",
    "#.ndim: 차원의 수 반환\n",
    "print(arr1.ndim) #1차원이기때문에 숫자 1반환\n",
    "print(arr2.ndim)\n",
    "print(arr3.ndim)\n",
    "print()\n",
    "\n",
    "#.size : 배열의 요소갯수 반환 / len()는 값이 다르게 나오기때문에 .size로 배열의 요소 파악해야함!\n",
    "print(arr1.size)\n",
    "print(arr2.size)\n",
    "print(arr3.size)"
   ]
  },
  {
   "cell_type": "code",
   "execution_count": 5,
   "id": "23308372-f0c5-4a8f-b0fc-bc41e515084e",
   "metadata": {},
   "outputs": [
    {
     "name": "stdout",
     "output_type": "stream",
     "text": [
      "10 <class 'numpy.ndarray'>\n",
      "10 int32 0 () 1\n",
      "False\n",
      "20\n"
     ]
    }
   ],
   "source": [
    "#스칼라 : 정수나 실수 하나의 물리량을 가진 값\n",
    "#넘파이 모듈은 선형대수를 기반으로 만들기떄문에 스칼라는 숫자로만 사용\n",
    "\n",
    "import numpy as np\n",
    "\n",
    "scalar=np.array(10) #스칼라라는 변수에 배열로 값을 1개만 넣음\n",
    "print(scalar,type(scalar)) #물리량하나. 배열의 형태가 아닌것(행렬이 아님)\n",
    "print(scalar, scalar.dtype, scalar.ndim, scalar.shape, scalar.size)\n",
    "#스칼라는 배열이 아니기때문에 차원이 0개이고\n",
    "#형상(shape)dms 빈튜플\n",
    "\n",
    "#스칼라는 값이 1개이기때문에 숫자처럼 사용이 가능함\n",
    "print(scalar==0)\n",
    "print(scalar+10)"
   ]
  },
  {
   "cell_type": "code",
   "execution_count": 1,
   "id": "bd94d683-deff-4d15-9fd2-55a6a788dbd3",
   "metadata": {},
   "outputs": [
    {
     "name": "stdout",
     "output_type": "stream",
     "text": [
      "[1 2 3] 1 int32 (3,) 3\n",
      "[[1 2 3]] 2 int32 (1, 3) 3\n",
      "[[1]\n",
      " [2]\n",
      " [3]] 2 int32 (3, 1) 3\n",
      "[[1 2]\n",
      " [2 4]] 2 int32 (2, 2) 4\n"
     ]
    }
   ],
   "source": [
    "#벡터 : 크기와 방향을 가진 물리량(크기만 가진 물리량은 스칼라)\n",
    "\n",
    "import numpy as np\n",
    "\n",
    "ar1=np.array([1,2,3])\n",
    "print(ar1, ar1.ndim, ar1.dtype,ar1.shape,ar1.size)\n",
    "#1차원이기때문에 형상은 1차원으로 출력\n",
    "#크기가 (3,)인 1차원 배열을 표현. 한방향  → 으로 나아가고있음 (행벡터)\n",
    "\n",
    "ar2=np.array([[1,2,3]])\n",
    "print(ar2,ar2.ndim,ar2.dtype,ar2.shape,ar2.size)\n",
    "#2차원 배열에 크기가 (1행3열) 한방향  → 으로 나아가고있음 (행벡터)\n",
    "\n",
    "ar3=np.array([[1],[2],[3]])\n",
    "print(ar3, ar3.ndim, ar3.dtype,ar3.shape,ar3.size)\n",
    "#2차원 배열의 3행의 1열 열방향 ↓과 행뱡향 → 으로 나아가고있기때문에 벡터가 아니라 매트릭스\n",
    "#값이 1개더라도 1행이라는 크기와 방향을 가지기 때문에 일정 방향으로 가고있다고 봐야함\n",
    "#두방향으로 나아간다면 벡터가 아니라 매트릭스\n",
    "\n",
    "ar4=np.array([[1,2],[2,4]])\n",
    "print(ar4, ar4.ndim,ar4.dtype,ar4.shape,ar4.size)\n",
    "#2차원이고 열방향, 행방향 모두로 뻗어나가고있기때문에 벡터가 아니라 매트릭스\n",
    "#2행의 2열 2차원의 배열\n",
    "#벡터는 무조건 한방향이어야함. 열방향일거면 열방향으로, 행방향이면 행방향으로!"
   ]
  },
  {
   "cell_type": "code",
   "execution_count": 21,
   "id": "85c52310-fc0f-4677-819e-dcc5c5268ea8",
   "metadata": {},
   "outputs": [
    {
     "name": "stdout",
     "output_type": "stream",
     "text": [
      "높이3, 밑변4, 빗변의 길이5.0\n",
      "5.0\n",
      "16.401219466856727\n"
     ]
    }
   ],
   "source": [
    "#벡터의 크기 : norm\n",
    "\n",
    "#사용자 정의함수를 통해 벡터의 크기인 norm구하기\n",
    "def pytagoras(a,b):\n",
    "    c=(a**2+b**2)**0.5\n",
    "    print(f\"높이{a}, 밑변{b}, 빗변의 길이{c}\")\n",
    "\n",
    "pytagoras(3,4)\n",
    "\n",
    "#np.linalg(선형대수학을 모아놓은 함수)\n",
    "print(np.linalg.norm([3,4])) #노름의 크기를 구함\n",
    "\n",
    "#<노름 크기 구하기 실습>\n",
    "print(np.linalg.norm([10,13]))"
   ]
  },
  {
   "cell_type": "code",
   "execution_count": 29,
   "id": "9cd023f1-8311-47e0-bba5-bfe4f08c810c",
   "metadata": {},
   "outputs": [
    {
     "name": "stdout",
     "output_type": "stream",
     "text": [
      "[[1 2 3]\n",
      " [2 3 4]\n",
      " [3 4 5]] <class 'numpy.ndarray'>\n",
      "[[1 2 3]\n",
      " [2 3 4]\n",
      " [3 4 5]] int32 2 (3, 3) 9\n"
     ]
    }
   ],
   "source": [
    "#매트릭스\n",
    "#행과열을 가진 데이터 구조\n",
    "#매트릭스의 경우 인덱스 번호 0번부터 시작\n",
    "#벡터를 행이나 열방향으로 쌓아서 만듬\n",
    "\n",
    "import numpy as np\n",
    "\n",
    "matrix=np.array([[1,2,3],[2,3,4],[3,4,5]])\n",
    "print(matrix,type(matrix)) #3헹 3열\n",
    "print(matrix, matrix.dtype,matrix.ndim,matrix.shape, matrix.size)"
   ]
  },
  {
   "cell_type": "code",
   "execution_count": 49,
   "id": "c2695659-b5a2-4485-b924-9b6042af4d0b",
   "metadata": {},
   "outputs": [
    {
     "name": "stdout",
     "output_type": "stream",
     "text": [
      "[[1 2 4]\n",
      " [2 4 8]] (2, 3)\n",
      "ma1의 행렬의 랭크: 1\n",
      "[[1 2 4]\n",
      " [2 4 8]\n",
      " [3 4 5]] (3, 3)\n",
      "ma2의 행렬의 랭크:2\n",
      "[[1 2 3]\n",
      " [2 5 7]\n",
      " [3 4 7]] (3, 3)\n",
      "ma3의 행렬의 랭크: 2\n"
     ]
    }
   ],
   "source": [
    "#행렬의 랭크\n",
    "#선형종속: 다른 벡터의 조합으로 만들 수 있는 벡터\n",
    "#선형독립: 다른 벡터의 조합으로 만들 수 없는 벡터\n",
    "#행렬의 랭크 : 전체 벡터의 수 - 선형종속 수\n",
    "\n",
    "ma1=np.array([[1,2,4],[2,4,8]])\n",
    "print(ma1, ma1.shape)\n",
    "print(f\"ma1의 행렬의 랭크: {np.linalg.matrix_rank(ma1)}\")\n",
    "#첫번째 행인 [1,2,3]*2를 하면 두번째 행인 [2,4,5]가 되므로\n",
    "#첫번쨰 행이 선형독립, 두번째 행이 선형종속\n",
    "#그러면 전체 행(2)-선형종속(1)=1\n",
    "\n",
    "ma2=np.array([[1,2,4],[2,4,8],[3,4,5]])\n",
    "print(ma2,ma2.shape) #3행 3열의 벡터\n",
    "print(f\"ma2의 행렬의 랭크:{np.linalg.matrix_rank(ma2)}\")\n",
    "\n",
    "ma3=np.array([[1,2,3],[2,5,7],[3,4,7]])\n",
    "print(ma3, ma3.shape)\n",
    "print(f\"ma3의 행렬의 랭크: {np.linalg.matrix_rank(ma3)}\")\n",
    "#열기준으로 보면 1,2행을 더하면 3행이 나오기때문에 1,2행이 선형독립이고 \n",
    "#조합으로 나올 수 있는 3행이 선형종속\n",
    "#ma3은 열기준으로 쌓아놓은 벡터. 열기준으로 벡터가 계산되기때문에..!"
   ]
  },
  {
   "cell_type": "code",
   "execution_count": 67,
   "id": "a3776d40-2d41-40eb-a054-ba0fa535f162",
   "metadata": {},
   "outputs": [
    {
     "name": "stdout",
     "output_type": "stream",
     "text": [
      "[1 3 5 7 9] int32\n",
      "\n",
      "[1.2 3.4 5.6] float64\n",
      "[3.+4.j] complex128\n",
      "['안녕' '하세요'] <U3\n",
      "[ True  True False False] bool\n"
     ]
    }
   ],
   "source": [
    "#넘파이 배열의 데이터 타입\n",
    "\n",
    "#숫자형_정수형\n",
    "li1=[1,3,5,7,9]\n",
    "arr=np.array(li1)\n",
    "print(arr,arr.dtype) #int32 정수형 배열의 데이터 타입\n",
    "print()\n",
    "\n",
    "#숫자형_실수형\n",
    "li2=[1.2,3.4,5.6]\n",
    "arr1=np.array(li2)\n",
    "print(arr1,arr1.dtype) #float64 실수형\n",
    "\n",
    "#숫자형_복소수형\n",
    "li3=[(1+1j)+(2+3j)]\n",
    "arr2=np.array(li3)\n",
    "print(arr2,arr2.dtype) #complex128 복소수형\n",
    "\n",
    "#문자형\n",
    "li4=[\"안녕\",\"하세요\"]\n",
    "arr3=np.array(li4)\n",
    "print(arr3, arr3.dtype) #<U3 문자형\n",
    "\n",
    "#논리형\n",
    "li5=[True, True, False, False]\n",
    "arr4=np.array(li5)\n",
    "print(arr4,arr4.dtype) #bool 논리형\n",
    "\n",
    "#type옆에 있는 숫자는 값을 메모리에 저장하는 필요한 비트(bit)수"
   ]
  },
  {
   "cell_type": "code",
   "execution_count": 85,
   "id": "e147485e-d00c-4891-ac0d-5ef1b82a402f",
   "metadata": {},
   "outputs": [
    {
     "name": "stdout",
     "output_type": "stream",
     "text": [
      "[1 2 1 0] int32\n",
      "[1.   2.   3.14] float64\n",
      "['10' '11' '23'] <U11\n",
      "['True' 'True' 'False'] <U5\n"
     ]
    }
   ],
   "source": [
    "#데이터 타입별 합쳐지는 데이터 타입\n",
    "\n",
    "li1=[1,2,True,False]\n",
    "ar1=np.array(li1)\n",
    "print(ar1,ar1.dtype) #정수 + 논리 = 정수\n",
    "\n",
    "li2=[1,2,3.14]\n",
    "ar2=np.array(li2)\n",
    "print(ar2,ar2.dtype) #정수+실수 = 실수\n",
    "\n",
    "li3=[\"10\",11,23]\n",
    "ar3=np.array(li3)\n",
    "print(ar3,ar3.dtype) #숫자+문자 = 문자 (숫자에 따옴표 붙여져서 출력)\n",
    "\n",
    "li4=[True,\"True\",False]\n",
    "ar4=np.array(li4)\n",
    "print(ar4,ar4.dtype) #문자+논리 = 문자형(논리형에 따옴표 붙여져서 출력)\n"
   ]
  },
  {
   "cell_type": "code",
   "execution_count": 103,
   "id": "73473eca-6308-49f1-8d0f-55deacf75f52",
   "metadata": {},
   "outputs": [
    {
     "name": "stdout",
     "output_type": "stream",
     "text": [
      "[1, 3.14, True, 0.0]\n",
      "[1 3 1 0] int32\n",
      "[1.   3.14 1.   0.  ] float32\n",
      "['1' '3.14' 'True' '0.0'] <U4\n",
      "[ True  True  True False] bool\n"
     ]
    }
   ],
   "source": [
    "#dtype을 사용하여 원하는 데이터 정수형 만들기\n",
    "#정수형 'i' =>int\n",
    "li=[1,3.14,True,0.0]\n",
    "print(li)\n",
    "\n",
    "ar1=np.array(li,dtype=\"i\")\n",
    "print(ar1,ar1.dtype)\n",
    "#dtype사용안하면 실수가 있기때문에 전부 실수로 변하지만\n",
    "#dtype으로 지정하면 전부 정수타입으로 숫자가 변함 \n",
    "\n",
    "#실수형 'f'=> float\n",
    "ar2=np.array(li,dtype=\"f\")\n",
    "print(ar2,ar2.dtype)\n",
    "\n",
    "#문자형'U'=>unicode\n",
    "ar3=np.array(li,dtype='U')\n",
    "print(ar3,ar3.dtype)\n",
    "\n",
    "#논리형'?'\n",
    "ar4=np.array(li,dtype=\"?\")\n",
    "print(ar4,ar4.dtype)"
   ]
  },
  {
   "cell_type": "code",
   "execution_count": 183,
   "id": "813e21b2-4bae-4986-b351-4ba7330758e6",
   "metadata": {},
   "outputs": [
    {
     "name": "stdout",
     "output_type": "stream",
     "text": [
      "[1, 3, 5, 7, 9]\n",
      "[1 3 5 7 9] <class 'numpy.ndarray'>\n",
      "[0.1 0.3 0.5 0.7 0.9 1.1 1.3 1.5 1.7 1.9]\n",
      "[1. 3. 5. 7. 9.]\n",
      "\n",
      "[1 2 3] int32\n",
      "[1. 2. 3.]\n",
      "[ True  True  True False]\n",
      "['1' '3' '1' '0']\n",
      "\n",
      "[[0. 0. 0. 0. 0.]\n",
      " [0. 0. 0. 0. 0.]\n",
      " [0. 0. 0. 0. 0.]\n",
      " [0. 0. 0. 0. 0.]] float64 (4, 5) 2 20\n",
      "[[0. 0. 0.]\n",
      " [0. 0. 0.]\n",
      " [0. 0. 0.]]\n",
      "[[0 0 0 0 0]\n",
      " [0 0 0 0 0]\n",
      " [0 0 0 0 0]\n",
      " [0 0 0 0 0]]\n",
      "\n",
      "[[1. 1. 1.]\n",
      " [1. 1. 1.]\n",
      " [1. 1. 1.]]\n",
      "[1 1 1] int32 1 (3,) 3\n"
     ]
    }
   ],
   "source": [
    "#배열의 기본함수\n",
    "#np.arange : 연속적인 정수, 실수 둘다 가능!\n",
    "#np.astype : 원하는 데이터 타입으로 변경가능\n",
    "#np.zeros : 0으로만 이뤄진 배열 만들기\n",
    "#np.ones :  1로만 이뤄진 배열 만들기\n",
    "\n",
    "#np.array(시작, 종료, 스텝)\n",
    "print(list(range(1,10,2)))\n",
    "arr=np.arange(1,10,2)\n",
    "print(arr,type(arr)) #레인지를 사용한 연속적인 정수 벡터 생성\n",
    "arr1=np.arange(0.1,2,0.2)\n",
    "print(arr1)#실수 가능\n",
    "\n",
    "arr=np.arange(1,10,2,dtype='f')\n",
    "print(arr)#dtype이용해서 바꾸기 가능\n",
    "print()\n",
    "\n",
    "#np.astype\n",
    "a1=np.array([1,2,3])\n",
    "print(a1,a1.dtype) #정수형 배열\n",
    "\n",
    "ar2=a1.astype(float)\n",
    "print(ar2)\n",
    "\n",
    "ar2=ar1.astype(bool)\n",
    "print(ar2)\n",
    "\n",
    "ar2=ar1.astype(str)\n",
    "print(ar2)\n",
    "print()\n",
    "\n",
    "#np.zeros\n",
    "ar2=np.zeros((4,5))\n",
    "print(ar2,ar2.dtype, ar2.shape, ar2.ndim, ar2.size)\n",
    "ar3=np.zeros((3,3))\n",
    "print(ar3)\n",
    "ar4=np.zeros((4,5),dtype=\"i\") #타입을 지정하면 지정한 타입대로 나옴\n",
    "print(ar4)\n",
    "print()\n",
    "\n",
    "#np.ones()\n",
    "ar5=np.ones((3,3))\n",
    "print(ar5) #타입지정안했기때문에 실수로 출력\n",
    "\n",
    "ar5=np.ones((3,),dtype='i')\n",
    "print(ar5,ar5.dtype, ar5.ndim, ar5.shape,ar5.size) #1행 "
   ]
  },
  {
   "cell_type": "code",
   "execution_count": 213,
   "id": "bfcffabb-abd9-465c-9eaf-eeeb330abc76",
   "metadata": {},
   "outputs": [
    {
     "name": "stdout",
     "output_type": "stream",
     "text": [
      "[1, 2]\n",
      "[1, 2, 3]\n",
      "\n",
      "[[1]\n",
      " [3]] 2 (2, 1)\n",
      "\n",
      "[[1]\n",
      " [3]\n",
      " [0]] (3, 1)\n",
      "\n",
      "[[0 0]\n",
      " [1 1]\n",
      " [2 2]] (3, 2)\n",
      "[[1 2 5 6]\n",
      " [3 4 7 8]] (2, 4) 2\n",
      "[[ 1  2  5  6  9 10]\n",
      " [ 3  4  7  8 11 12]]\n",
      "\n",
      "[  1.    2.2 100. ] float64\n",
      "[  1.  50. 100.] float64\n",
      "[[1 2 3]\n",
      " [4 5 6]] int32\n",
      "[[1 2 3]\n",
      " [5 5 6]]\n",
      "[[20  2  3]\n",
      " [ 5  5  6]]\n",
      "[[20  2  3]\n",
      " [10 10 10]]\n"
     ]
    }
   ],
   "source": [
    "# 배열의 요소 추가\n",
    "\n",
    "#리스트 추가\n",
    "li1=[1,2]\n",
    "print(li1)\n",
    "li1.append(3)\n",
    "print(li1)\n",
    "print()\n",
    "\n",
    "#넘파이 추가\n",
    "ar=np.array([[1],[3]])\n",
    "print(ar,ar.ndim,ar.shape) #2차원 2행 1열\n",
    "print()\n",
    "\n",
    "#행추가(변수에 재할당을 해야함!!! 배열은 크기가 정해져있기때문에)\n",
    "ar=np.append(ar,[[0]],axis=0)\n",
    "print(ar,ar.shape) #3행 1열\n",
    "print() #열이 없기때문에 열추가가 안됨\n",
    "\n",
    "#열추가\n",
    "ar=np.array([[0,0],[1,1],[2,2]])\n",
    "print(ar,ar.shape) #3행 2열\n",
    "\n",
    "ar1=np.array([[1,2],[3,4]])\n",
    "ar2=np.array([[5,6],[7,8]])\n",
    "result=np.append(ar1,ar2,axis=1)\n",
    "print(result,result.shape, result.ndim)\n",
    "ar3=np.array([[9,10,],[11,12]])\n",
    "result=np.append(result,ar3,axis=1)\n",
    "print(result)\n",
    "print()\n",
    "\n",
    "#배열의 요소 수정\n",
    "#배열의 요소 수정방법은 리스트 요소 수정과 매우 비슷\n",
    "ar1=np.array([1.0,2.2,100])\n",
    "print(ar1,ar1.dtype) #실수가 포함되어있기때문에 실수형으로 출력\n",
    "\n",
    "ar1[1]=50\n",
    "print(ar1,ar1.dtype) #인덱스 번호 기준 1자리에 있었던 2.2가 50으로 변경. \n",
    "#값만 50이라는 값으로 수정되고 하나의 자료형만 있어야하기때문에 50은 그대로 들어가되, 실수가 됨\n",
    "\n",
    "ar2=np.array([[1,2,3],[4,5,6]])\n",
    "print(ar2,ar2.dtype) #정수형의 2행 3열 2차원 배열\n",
    "ar2[1][0]=5\n",
    "print(ar2)\n",
    "ar2[0][0]=20\n",
    "print(ar2)\n",
    "ar2[1]=10\n",
    "print(ar2)"
   ]
  }
 ],
 "metadata": {
  "kernelspec": {
   "display_name": "Python 3 (ipykernel)",
   "language": "python",
   "name": "python3"
  },
  "language_info": {
   "codemirror_mode": {
    "name": "ipython",
    "version": 3
   },
   "file_extension": ".py",
   "mimetype": "text/x-python",
   "name": "python",
   "nbconvert_exporter": "python",
   "pygments_lexer": "ipython3",
   "version": "3.12.3"
  }
 },
 "nbformat": 4,
 "nbformat_minor": 5
}

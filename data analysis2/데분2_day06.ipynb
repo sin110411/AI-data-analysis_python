{
 "cells": [
  {
   "cell_type": "code",
   "execution_count": 305,
   "id": "a564028c-b81f-4635-8ab0-a79ee4937074",
   "metadata": {},
   "outputs": [
    {
     "name": "stdout",
     "output_type": "stream",
     "text": [
      "[1 2] (2,)\n",
      "[3 4] (2,)\n",
      "11 <class 'numpy.int32'>\n",
      "11\n",
      "11 () 0 int32 1\n"
     ]
    }
   ],
   "source": [
    "#배열의 행렬계산\n",
    "\n",
    "#배열 행렬 곱 계산: dot.product\n",
    "#벡터끼리 의 행렬 곱연산\n",
    "\n",
    "import numpy as np\n",
    "\n",
    "ar1=np.array([1,2])\n",
    "print(ar1,ar1.shape) #1행 2열\n",
    "\n",
    "ar2=np.array([3,4])\n",
    "print(ar2,ar2.shape) #1행 2열\n",
    "\n",
    "print(ar1.dot(ar2),type(ar1.dot(ar1))) #넘파이\n",
    "#[1,2], [3,4]의 행렬에서 1*3=3   2*4=8 해서 8+3=11이기때문에 11이 나오는것\n",
    "print(ar1@ar2) #dot.product 와 @골벵이 둘다 사용가능함\n",
    "print(ar1@ar2,(ar1@ar2).shape, (ar1@ar2).ndim,(ar1@ar2).dtype,(ar1@ar2).size )"
   ]
  },
  {
   "cell_type": "code",
   "execution_count": 31,
   "id": "729351e5-c589-4d80-b40e-31ed672a5229",
   "metadata": {},
   "outputs": [
    {
     "name": "stdout",
     "output_type": "stream",
     "text": [
      "[[39 46]\n",
      " [61 72]]\n",
      "\n",
      "[[33 30 36]\n",
      " [87 84 99]\n",
      " [27 26 31]]\n"
     ]
    }
   ],
   "source": [
    "#매트릭스 행렬 곱 연산\n",
    "import numpy as np\n",
    "\n",
    "ar1=np.array([[3,4],[5,6]])\n",
    "ar2=np.array([[5,6],[6,7]])\n",
    "\n",
    "print(ar1.dot(ar2))\n",
    "\n",
    "#행렬의 곱연산 법칙\n",
    "#1) 첫번째 배열의 첫번째 행과 두번째 배열의 첫번째 열\n",
    "#2) 첫번째 배열의 첫번째 행과 두번째 배열의 두번째 열\n",
    "#3) 첫번째 배열의 두번째 행과 두번째 배열의 첫번째 열\n",
    "#4) 첫번째 배열의 두번째 행과 두번째 배열의 두번째 열\n",
    "\n",
    "# 1   2\n",
    "# 3   4 의 순서대로 행렬의 곱이 들어감 \n",
    "\n",
    "print()\n",
    "\n",
    "t_ar1=np.array([[1,2,3],[4,5,6],[2,1,2]])\n",
    "t_ar2=np.array([[6,7,8],[9,10,11],[3,1,2]])\n",
    "print(t_ar1.dot(t_ar2))"
   ]
  },
  {
   "cell_type": "code",
   "execution_count": 315,
   "id": "2726c270-b1fd-49e0-bce9-aa47d3f5d96c",
   "metadata": {},
   "outputs": [
    {
     "name": "stdout",
     "output_type": "stream",
     "text": [
      "4.000000000000001\n",
      "\n",
      "[[ 0.5  -0.25]\n",
      " [-0.5   0.75]]\n",
      "[[1.00000000e+00 0.00000000e+00]\n",
      " [1.11022302e-16 1.00000000e+00]]\n"
     ]
    }
   ],
   "source": [
    "#역행렬\n",
    "#역행렬은 행렬과 행렬을 곱했을때 단위행렬이 나오는 행렬(역수와 같은 개념)\n",
    "#단위 행렬 대각선 방향으로 1이고 나머지가 0인 행렬\n",
    "# [[ 1   0\n",
    "#    0   1  ]] -> 정사각형 단위행렬\n",
    "\n",
    "#단위행렬은 항등원과 같은 역할\n",
    "#항등원: 덧셈에서의 0은 항등원. 어떤 숫자에 0을 더하면 그 숫자 자체가 됨. 곱셈에서의 1도 마찬가지\n",
    "#어떤 숫자에도 1을 더하면 그냥 그 곱한 숫자가 되어버림. 이를 항등원 이라고함 \n",
    "#단위 행렬은 행렬의 곱에서 항등원의 역할을함\n",
    "#그리고 역행렬은 그런 단위행렬을 만드는 행렬\n",
    "\n",
    "#np.linalg.inv(배열)사용하여 역행렬을 만들 수 있음\n",
    "\n",
    "ar1=np.array([[3,1],[2,2]])\n",
    "#계산하기 전에 헹렬식 ==0인지 확인이 필요함. 0이면 구할수 없음\n",
    "#행렬식은 determaint\n",
    "#행렬식 구하기 : np.linalg.det(배열) ->입력하면 해당 배열의 행렬식이 나옴. 그래서 행렬식이 4인지 확인!\n",
    "print(np.linalg.det(ar1)) #4가나옴. 행렬식이 0이 아니기때문에 역행렬을 구할 수 있음\n",
    "#행렬식이 0이라면 구할수 없음. 분모가 0인 분수는 없기때문에\n",
    "print()\n",
    "\n",
    "#역행렬 구하기 : np.linalg.inv()\n",
    "inv=np.linalg.inv(ar1)\n",
    "print(inv)\n",
    "\n",
    "#역행렬이 맞는지 증명하기(역행렬의 증명)\n",
    "print(ar1@inv) #역행렬이 맞게 나왔는지 증명하기위해서는 기본의 배열에 구해진 역행렬을 곱했을때\n",
    "#단위행렬이 나오면 됨. 1행의 1열자리와 2행의 2열자리가 1로 나왔기때문에 단위행렬이 맞음!"
   ]
  },
  {
   "cell_type": "code",
   "execution_count": 59,
   "id": "5202f42a-7f09-4dfe-ae93-1158a1e5d598",
   "metadata": {},
   "outputs": [
    {
     "name": "stdout",
     "output_type": "stream",
     "text": [
      "[[3 4 5]\n",
      " [1 2 3]\n",
      " [3 5 7]] (3, 3)\n",
      "0.0\n",
      "[[ 3  4  5]\n",
      " [ 3  6 10]\n",
      " [ 3  5  7]] (3, 3)\n",
      "-2.9999999999999996\n",
      "[[ 1.00000000e+00 -3.10862447e-15 -2.22044605e-15]\n",
      " [ 0.00000000e+00  1.00000000e+00  0.00000000e+00]\n",
      " [ 0.00000000e+00  0.00000000e+00  1.00000000e+00]]\n"
     ]
    }
   ],
   "source": [
    "#역행렬 구하기<복습>\n",
    "\n",
    "ar2=np.array([[3,4,5],[1,2,3],[3,5,7]])\n",
    "print(ar2, ar2.shape)\n",
    "\n",
    "#행렬식이 0인지 아닌지 확인\n",
    "print(np.linalg.det(ar2)) #0.0임 역행렬을 구할 수 없음 \n",
    "\n",
    "# ar2_inv=np.linalg.inv(ar2)\n",
    "# print(ar2)\n",
    "# LinAlgError: Singular matrix라는 에러는 선형대수학에서 행렬의 역행렬을 계산할 수 없을 때 발생하는 오류\n",
    "\n",
    "ar2=np.array([[3,4,5],[3,6,10],[3,5,7]])\n",
    "print(ar2, ar2.shape)\n",
    "print(np.linalg.det(ar2))\n",
    "\n",
    "print(np.linalg.inv(ar2)@ar2)#역행렬 @ 기존배열 "
   ]
  },
  {
   "cell_type": "code",
   "execution_count": 83,
   "id": "fc48496e-e213-491b-8813-9cd18307eb3a",
   "metadata": {},
   "outputs": [
    {
     "name": "stdout",
     "output_type": "stream",
     "text": [
      "[[3 2]\n",
      " [6 4]]\n",
      "0.0\n",
      "[[0.04615385 0.09230769]\n",
      " [0.03076923 0.06153846]]\n",
      "[[0.69230769 0.46153846]\n",
      " [0.46153846 0.30769231]]\n"
     ]
    }
   ],
   "source": [
    "#행렬식이 0인경우\n",
    "\n",
    "ar2=np.array([[3,2],[6,4]])\n",
    "print(ar2)\n",
    "\n",
    "#행렬식 구하기\n",
    "print(np.linalg.det(ar2))# 행렬식이 0임.(3*4=12  6*2=12 12-12=0) 원래는 행렬식이 0이면 역행렬을 구할 수 없지만\n",
    "#행렬식이 0일떄 유사행렬을 구할 수 있는 방법이 존재\n",
    "\n",
    "print(np.linalg.pinv(ar2)) #그냥 inv를 적으면 오류가 나지만, 유사역행렬(의사행렬)을 구하는 pinv를 작성하면\n",
    "#오류가 나지 않고 유사 역행렬이 출력\n",
    "\n",
    "print(np.linalg.pinv(ar2).dot(ar2)) #유사역행렬 출력"
   ]
  },
  {
   "cell_type": "code",
   "execution_count": 1,
   "id": "f446f4cb-e27e-4ce7-aac7-83fbbeaa1548",
   "metadata": {},
   "outputs": [
    {
     "name": "stdout",
     "output_type": "stream",
     "text": [
      "[[0.67130091 0.63674299 0.93074127]\n",
      " [0.68485303 0.03669563 0.68524433]] (2, 3) 2\n",
      "\n",
      "[0.14929358 0.59176611 0.35444089 0.91432471 0.33242492] (5,) float64 1 5\n",
      "\n",
      "[1 1 1 1 1 0] (6,) 6 1\n",
      "[[3 3 4]\n",
      " [5 3 3]] int32\n",
      "[[0 5]\n",
      " [0 3]\n",
      " [2 5]\n",
      " [6 2]\n",
      " [5 8]]\n",
      "\n",
      "[ 1  2  3  4  5  6  7  8  9 10] (10,) 1\n",
      "5\n",
      "[2 1 4 4 2]\n",
      "[[ 1  9  5]\n",
      " [10  4  5]]\n",
      "\n"
     ]
    }
   ],
   "source": [
    "#넘파이 난수 생성\n",
    "#random.rand(): 0.0~1.0미만의 난수로 배열 생성\n",
    "#random.randint(): 주어진 인수 사이의 값들로 이뤄진 난수의 배열생성\n",
    "#random.choice() : 인수로 주어진 1차원의 배열 값들로 난수의 배열을 만들어줌\n",
    "\n",
    "import numpy as np\n",
    "\n",
    "#np.random.rand()\n",
    "ar1=np.random.rand(2,3)\n",
    "print(ar1,ar1.shape, ar1.ndim) #0.0~1.0미만의 랜덤 배열 생성\n",
    "print() #위의 배열은 2행 3열의 2차원 난수 매트릭스 생성\n",
    "\n",
    "ar2=np.random.rand(5)\n",
    "print(ar2,ar2.shape, ar2.dtype,ar2.ndim,ar2.size) #1행 5열의 난수 배열생성\n",
    "#형태 실수형\n",
    "print()\n",
    "\n",
    "#np.random.randint()\n",
    "ar3=np.random.randint(2,size=6) #2,size(값의 범위, 행열지정)\n",
    "print(ar3, ar3.shape, ar3.size,ar3.ndim) #0~2미만의 난수로 이뤄진 1행의 6열 \n",
    "ar4=np.random.randint(1,6,size=(2,3))\n",
    "print(ar4,ar4.dtype)\n",
    "ar5=np.random.randint(0,9,size=(5,2))\n",
    "print(ar5)\n",
    "print()\n",
    "\n",
    "#np.random.choice(): 인수로 전달된 벡터의 요소로 만들어진 난수\n",
    "ar6=np.arange(1,11)\n",
    "print(ar6,ar6.shape,ar6.ndim)\n",
    "\n",
    "ac=np.random.choice(ar6) #인수로 전달된 1차원 배열(벡터)로부터 임의의 배열 생성\n",
    "print(ac) #배열 요소중에 랜덤으로 1개값을 스칼라 형태로 가져옴\n",
    "ac1=np.random.choice(ar6,5) #5개의 랜덤값, 5열 벡터. 인수 뒤에 숫자적어주면\n",
    "#그만큼 뽑아오고 그값의 크기에 맞는 벡터를 만들어줌\n",
    "print(ac1) #1행 5열 \n",
    "ac2=np.random.choice(ar6,(2,3)) #전달된 ar6인수로 만들어진 2행3열의 매트릭스 생성\n",
    "print(ac2)\n",
    "print()"
   ]
  },
  {
   "cell_type": "code",
   "execution_count": 37,
   "id": "22bed7e5-8cd1-473d-8078-2752429d6301",
   "metadata": {},
   "outputs": [
    {
     "name": "stdout",
     "output_type": "stream",
     "text": [
      "[ 0 30 45 60 90]\n",
      "[ 0.         -0.98803162  0.85090352 -0.30481062  0.89399666]\n",
      "\n",
      "3.141592653589793\n",
      "\n",
      "[0.         0.52359878 0.78539816 1.04719755 1.57079633]\n",
      "\n",
      "[0.         0.5        0.70710678 0.8660254  1.        ]\n",
      "[1.00000000e+00 8.66025404e-01 7.07106781e-01 5.00000000e-01\n",
      " 6.12323400e-17]\n",
      "[0.00000000e+00 5.77350269e-01 1.00000000e+00 1.73205081e+00\n",
      " 1.63312394e+16]\n"
     ]
    }
   ],
   "source": [
    "#넘파이의 삼각함수\n",
    "\n",
    "import numpy as np\n",
    "\n",
    "arr=np.array([0,30,45,60,90]) #각도의 값이 들어간 배열\n",
    "print(arr)\n",
    "#삼각함수는 각도에따라 Y값이 달라짐. 90도는 Y값이 1. 단위원을 따라서 Y좌표가 이동하면서\n",
    "#0에서 1까지 움직이는것. 배열안에 있는 각도는 그것을 나타냄\n",
    "print(np.sin(arr)) #각도가 들어간 배열의 사인.\n",
    "#하지만 음수부터 나옴. 정확한 삼각함수의 값이 아님. 넘파이에서는 각도를 넘겨줄때\n",
    "#라디안이라는것을 기준으로 값을 넘겨 계산하기 때문.\n",
    "#라디안으로 값을 넘겨주는 이유: 넘파이에서의 삼각함수는 수학적인 삼각함수의 물리적인 삼각형의 높이와\n",
    "#밑변의 길이가 아니라 그냥 수학적으로 정의된 사인값을 이용해서 각도의 비율을 구하는것이기때문!!\n",
    "print()\n",
    "\n",
    "#np.pi() : 원주율의 파이값\n",
    "print(np.pi)\n",
    "\n",
    "print()\n",
    "\n",
    "#sin\n",
    "print(arr*np.pi/180) #[0.         0.52359878 0.78539816 1.04719755 1.57079633] 라디안으로 변환해준값\n",
    "#90도가 1로 나온것을 알수 있음!\n",
    "#원주율을 사용하는이유 : 원을 이용하여 각도를 구해야하기 때문\n",
    "#각도: 원의 전체를 360도로 나누어서 각도를 측정함. 그래서 즉 360도는 원 전체\n",
    "#라디안 : 원의 반지름 길이와 호(원의 둘레)길이가 같을때 그 호가 이루는 각도를 1라디안\n",
    "#360도가 2라디안이기때문에 1라디안으로 변환을 해주려면 360을 2로 나눴을때의 값인 180으로\n",
    "#나눠서 변환해주어야한다!\n",
    "\n",
    "#Y좌표를 계산할때마다 print(arr*np.pi/180)이런식으로 써주는게 번거롭기때문에 라디안으로 변환을 \n",
    "#바로 해주는 함수를 사용하여 계산을 해주는것\n",
    "print()\n",
    "\n",
    "arr_s=np.radians(arr) #라디안으로 변환만 해준 상태. 여기서 사인함수로 다시 계산을 하면\n",
    "#이걸가지고 Y좌표로 사용이 가능하다!\n",
    "\n",
    "print(np.sin(arr_s)) #완벽한 Y좌표는 아니지만, 이렇게하면 Y좌표로 사용가능한 값이 나옴!\n",
    "print(np.cos(arr_s)) #x좌표에 대한 값\n",
    "print(np.tan(arr_s)) #실질적으로 Y좌표를 나타내는데 사용됨\n",
    "#np.tan()함수 내부적으로 사인과 코사인을 구한다음 탄젠트를 계산해서 반환해줌 "
   ]
  },
  {
   "cell_type": "code",
   "execution_count": 35,
   "id": "40e8505f-4b57-4660-8b03-ec46c3a99780",
   "metadata": {},
   "outputs": [
    {
     "name": "stdout",
     "output_type": "stream",
     "text": [
      "[0, 10, 30, 40, 60, 90]\n",
      "[0.         0.17453293 0.52359878 0.6981317  1.04719755 1.57079633]\n",
      "[0.         0.17364818 0.5        0.64278761 0.8660254  1.        ]\n",
      "[1.00000000e+00 9.84807753e-01 8.66025404e-01 7.66044443e-01\n",
      " 5.00000000e-01 6.12323400e-17]\n",
      "[0.00000000e+00 1.76326981e-01 5.77350269e-01 8.39099631e-01\n",
      " 1.73205081e+00 1.63312394e+16]\n"
     ]
    }
   ],
   "source": [
    "#넘파이의 삼각함수 복습!!\n",
    "\n",
    "#각도가 들어가있는 배열을 하나 만들어준다\n",
    "\n",
    "arr1=([0,10,30,40,60,90])\n",
    "print(arr1)\n",
    "\n",
    "#라디안 값으로 변환\n",
    "arr1_r=np.radians(arr1)\n",
    "print(arr1_r) #라디안 값으로 변경\n",
    "\n",
    "#sin값  구하기\n",
    "print(np.sin(arr1_r))\n",
    "\n",
    "#cos값 구하기\n",
    "print(np.cos(arr1_r))\n",
    "\n",
    "#tan 값 구하기\n",
    "print(np.tan(arr1_r))"
   ]
  },
  {
   "cell_type": "code",
   "execution_count": 49,
   "id": "d15690b3-8f79-4505-8b51-dd3427edf1b1",
   "metadata": {},
   "outputs": [
    {
     "data": {
      "image/png": "[encoded data removed]",
      "text/plain": [
       "<Figure size 800x600 with 1 Axes>"
      ]
     },
     "metadata": {},
     "output_type": "display_data"
    }
   ],
   "source": [
    "#삼각함수 그래프 그리기\n",
    "import numpy as np\n",
    "import matplotlib.pyplot as plt #그래프를 그릴 수 있도록 해주는 시각화\n",
    "\n",
    "theta=np.arange(1,361) #1도 부터 360도까지 저장된 각도의 배열\n",
    "sin=np.sin(np.radians(theta)) #heta를 라디안값으로 변환해준다음에 사인값을 구하고 그걸 사인아라는 변수안에 넣은것\n",
    "cos=np.cos(np.radians(theta))\n",
    "tan=np.tan(np.radians(theta))\n",
    "#위의 값들을 가지고 각각의 Y좌표를 구한 값들을 그래프위에 그려보겠다는것\n",
    "\n",
    "fig=plt.figure(figsize=(8,6)) #그래프 크기 지정\n",
    "plt.rcParams[\"font.family\"]=\"Malgun Gothic\" #한글 폰트 설정. 한글의 경우 폰트설정하지 않으면 깨짐\n",
    "plt.rcParams[\"axes.unicode_minus\"]=False # -마이너스 음수표시 깨짐 방지\n",
    "\n",
    "plt.title(\"삼각함수 그래프\") #그래프 제목\n",
    "plt.xlabel(\"각도\") #x축 라벨\n",
    "plt.ylabel(\"함수값\") #y축 라벨\n",
    "\n",
    "plt.plot(theta,sin,color=\"b\")\n",
    "         #x축  y축  선 색깔\n",
    "plt.plot(theta,cos,color=\"r\", linestyle=\"dashed\") #dashed=점선\n",
    "plt.plot(theta,tan,color=\"g\",linestyle=\"dotted\") #90도에서는 코사인의 값이 0이므로 탄젠트 값은 무한대에 가까움\n",
    "\n",
    "plt.ylim(-1,1) #y축 제한 #그래서 직접적으로 Y값을 표시하는 탄젠트가 무한대로 올라가고 있기때문에\n",
    "#y축의 값을 제한헤준것\n",
    "plt.show() #그래프를 보여달라는 뜻"
   ]
  },
  {
   "cell_type": "code",
   "execution_count": 77,
   "id": "65b0c64f-d5fb-43bf-838b-331ff293692b",
   "metadata": {},
   "outputs": [
    {
     "name": "stdout",
     "output_type": "stream",
     "text": [
      "[1.23 2.23 5.34]\n",
      "[1. 2. 5.]\n",
      "[1.23 2.23 5.34]\n",
      "\n",
      "[2. 3. 6.]\n",
      "\n",
      "[1. 2. 5.]\n",
      "[-1.5 -1.  -0.5  0.   0.1  1.5]\n",
      "[-1.  -1.  -0.5  0.   0.1  1. ]\n"
     ]
    }
   ],
   "source": [
    "#넘파이의 반올림, 내림 함수\n",
    "\n",
    "import numpy as np\n",
    "\n",
    "#np.around(배열의 요소를 주어진 소수점 자리로 반올림)\n",
    "ar1=np.array([1.2323,2.2342,5.3423])\n",
    "print(np.around(ar1,2)) #np.round와 np.around는 기능적으로 거의 동일한 함수\n",
    "print(np.around(ar1))\n",
    "print(np.round(ar1,2))\n",
    "print()\n",
    "\n",
    "#np.ceil() : 소수점 자리수를 올림해서 정수로 반환\n",
    "print(np.ceil(ar1)) #\n",
    "print()\n",
    "\n",
    "#np.floor(): 소수점 자리수를 버림해서 정수로 반환\n",
    "print(np.floor(ar1))\n",
    "\n",
    "#np.clip(): 배열에서 최소값, 최대값 범위 지정\n",
    "ar2=np.array([-1.5,-1,-0.5,0,0.1,1.5])\n",
    "print(ar2)\n",
    "print(np.clip(ar2,-1,1)) #정해진 배열 안에서 최대 최소값 정의\n",
    "#-1보다 작거나 1보다 큰 애들은 사라지는것이 아니라 -1과 1로 대체되어져서 표시\n",
    "#클립함수는 이상치 판별할때 주로사용. 평균을 구하려고 하는데 학생 평균이 30,40,50,100이렇게 되어있으면\n",
    "#쓸대없이 100때문에 평균이 너무 높아져서 값을 구할 수 없음. 이런경우 최대값을 대략적인 범위값으로 \n",
    "#지정하는것. "
   ]
  },
  {
   "cell_type": "code",
   "execution_count": 107,
   "id": "f14bdcd1-4ff3-4dfd-b6f8-e691c31d61ed",
   "metadata": {},
   "outputs": [
    {
     "name": "stdout",
     "output_type": "stream",
     "text": [
      "[ 1  2  3  4  5  6  7  8  9 10]\n",
      "\n",
      "[1 0 1 0 1 0 1 0 1 0]\n",
      "[False  True False  True False  True False  True False  True]\n",
      "[ 2  4  6  8 10]\n",
      "\n",
      "[False False False  True False  True  True]\n",
      "[5 6 7]\n"
     ]
    }
   ],
   "source": [
    "#넘파이로 배열 값 필터링 하기 : 배열안에서 조건식의 결과값이 True인 요소들만 추출하기\n",
    "\n",
    "ar=np.arange(1,11)\n",
    "print(ar)\n",
    "print()\n",
    "\n",
    "#짝수인 요소들만 추출\n",
    "print(ar%2)\n",
    "print(ar%2==0) #2로나눴을때 나머지가 0인애들은 True로 출력\n",
    "#이렇게쓰면 필터링이 되긴하지만 값이 논리형으로 출력되기때문에 값을 알수 없음\n",
    "\n",
    "result=ar[ar%2==0] #필터링된것을 변수안에 넣고 변수의 값을 ar[ar%2==0] 변수명[필터링식]이라고 쓰고\n",
    "#변수를 추출하면\n",
    "print(result) #논리형이 아니라 그 필터링에 맞는 트루값들만 추출됨\n",
    "\n",
    "print()\n",
    "\n",
    "#넘파이 필터 추출 실습\n",
    "\n",
    "ar1=np.array([1,2,3,5,4,6,7])\n",
    "print(ar1+5>=10)\n",
    "\n",
    "ar1_add=ar1[ar1+5>=10]\n",
    "print(ar1_add)"
   ]
  },
  {
   "cell_type": "code",
   "execution_count": 125,
   "id": "3c435bc0-778f-44a9-9b7c-869560b6a1ae",
   "metadata": {},
   "outputs": [
    {
     "name": "stdout",
     "output_type": "stream",
     "text": [
      "과목명    AI데이터분석\n",
      "연도        2024\n",
      "수강일       7.25\n",
      "Name: 수업, dtype: object\n",
      "\n",
      "밴드명    유다빈밴드\n",
      "리더명      유다빈\n",
      "멤버수        4\n",
      "대표곡       항해\n",
      "Name: 밴드 정보, dtype: object\n"
     ]
    }
   ],
   "source": [
    "#판다스 \n",
    "#시리즈 생성하기 \n",
    "\n",
    "import pandas as pd\n",
    "#pd.Series(데이터, index=행이름, nema=열제목)\n",
    "\n",
    "s=pd.Series(['AI데이터분석',2024,7.25], index=['과목명','연도','수강일'], name='수업')\n",
    "print(s)\n",
    "s #판다스는 프린트 안하고 변수명만 입력해도 출력가능!\n",
    "#행과 이름떄문에 데이터 프레임이라고 생각할 수 있겠지만 값만 보면 1열로 되어있는 형태이기때문에 Series가 맞음\n",
    "print()\n",
    "\n",
    "b=pd.Series(['유다빈밴드','유다빈',4,'항해'],index=['밴드명','리더명','멤버수','대표곡'],name='밴드 정보')\n",
    "print(b)"
   ]
  },
  {
   "cell_type": "code",
   "execution_count": 137,
   "id": "6ed71bd2-984b-4f09-84d4-1f78e49c8e70",
   "metadata": {},
   "outputs": [
    {
     "name": "stdout",
     "output_type": "stream",
     "text": [
      "{'python': 90, 'java': 80, 'C': 70} <class 'dict'>\n",
      "python    90\n",
      "java      80\n",
      "C         70\n",
      "dtype: int64\n",
      "데이터 타입: int64\n",
      "행의 제목: Index(['python', 'java', 'C'], dtype='object')\n",
      "데이터: [90 80 70]\n"
     ]
    }
   ],
   "source": [
    "#딕셔너리 -> 시리즈변환\n",
    "#이미 딕셔너리로 작성된것을 시리즈로 변환하기\n",
    "\n",
    "import pandas as pd\n",
    "\n",
    "student={\"python\":90,\"java\":80, \"C\":70}\n",
    "print(student,type(student))\n",
    "\n",
    "sr=pd.Series(student)\n",
    "print(sr) #키값이 행이름, 벨류값이 데이터로 들어감\n",
    "\n",
    "#시리즈의 속성\n",
    "print(f\"데이터 타입: {sr.dtype}\")\n",
    "print(f\"행의 제목: {sr.index}\") #키값 인덱스\n",
    "print(f\"데이터: {sr.values}\") #넘파이의 배열형태로 출력"
   ]
  },
  {
   "cell_type": "code",
   "execution_count": 153,
   "id": "123837d7-ca45-44f0-a7ee-0babc3f36070",
   "metadata": {},
   "outputs": [
    {
     "name": "stdout",
     "output_type": "stream",
     "text": [
      "python    90\n",
      "C         70\n",
      "java      80\n",
      "Name: 학생1, dtype: int64\n",
      "\n",
      "python    90.0\n",
      "c          NaN\n",
      "java      80.0\n",
      "Name: 학생2, dtype: float64\n",
      "\n",
      "python    False\n",
      "c          True\n",
      "java      False\n",
      "Name: 학생2, dtype: bool\n",
      "python     True\n",
      "c         False\n",
      "java       True\n",
      "Name: 학생2, dtype: bool\n"
     ]
    }
   ],
   "source": [
    "#인덱스(행, 제목 지정)\n",
    "sr=pd.Series(student,index=[\"python\",\"C\",\"java\"],name=\"학생1\") \n",
    "#원래는 딕셔너리의 순서대로 행이 정해졌지만 다시 행제목으로 정의하면 행제목 순서 지정 가능\n",
    "print(sr)\n",
    "print()\n",
    "\n",
    "#인덱스명이 틀릴경우\n",
    "sr=pd.Series(student,index=[\"python\",\"c\",\"java\"],name=\"학생2\")\n",
    "print(sr) #오타난 행제목. 데이터는 NaN결측치가 들어감. \n",
    "#NaN은 값이 없는누락. 딕셔너리안에 소문자 c는 없기때문에 결측치로 넣어버린것 \n",
    "print()\n",
    "\n",
    "#결측치 확인 메소드: pd.isnull(), pd.notnull()\n",
    "#pd.isnull() : 널값인지 물어보는것\n",
    "#pd. notisnull() : 널값이 아닌지 물어보는것 \n",
    "print(pd.isnull(sr)) #아까전에 오타난 c로 정의해서 결측치가 되어 널인값이 True로 출력되는것\n",
    "print(pd.notnull(sr))"
   ]
  },
  {
   "cell_type": "code",
   "execution_count": 207,
   "id": "824f541a-6806-493e-9d1a-2e3baee70f18",
   "metadata": {},
   "outputs": [
    {
     "name": "stdout",
     "output_type": "stream",
     "text": [
      "['a', 'b', 'c']\n",
      "0    a\n",
      "1    b\n",
      "2    c\n",
      "dtype: object\n",
      "\n",
      "RangeIndex(start=0, stop=3, step=1)\n",
      "\n",
      "['A', 'B', 'C']\n",
      "\n",
      "A    a\n",
      "B    b\n",
      "C    c\n",
      "Name: alphabet, dtype: object\n",
      "\n",
      "0    1\n",
      "1    2\n",
      "2    3\n",
      "dtype: int64\n",
      "A    1\n",
      "B    2\n",
      "c    3\n",
      "dtype: int64\n"
     ]
    }
   ],
   "source": [
    "#리스트 튜플 -> 시리즈 변환\n",
    "li=['a','b','c']\n",
    "print(li)\n",
    "\n",
    "li_sr=pd.Series(li)\n",
    "print(li_sr) #딕셔너리에는 키값이 있기때문에 키값이 자동으로 행이름(index)가 되었지만\n",
    "#리스트에는 인덱스로 만들어줄 값이 따로 없기때문에 이름을 지정해주지 않아서 정수0부터 인덱스 이름으로 들어간것\n",
    "print()\n",
    "\n",
    "print(li_sr.index) #RangeIndex 인덱스 번호만 확인하는걸 출력했을때는 인덱스 값이 숫자로 들어가고\n",
    "#인덱스 번호가 자동으로 부여됐다는 뜻의 RangeIndex가 함께 출력됨 \n",
    "print()\n",
    "\n",
    "#나중에 인덱스를 다시 만들어서 넣어주기 위해 수정하는 경우\n",
    "li_sr.index=[x for x in 'ABC'] #리스트 요소로 하나식 넘겨줌. 그래서 ABC가 담긴 리스트가 생성됨\n",
    "#리스트 컴프리헨션의 반복문 사용 #인덱스 지정\n",
    "print([x for x in \"ABC\"]) #ABC가 들어있는 리스트 생성 \n",
    "li_sr.name='alphabet'\n",
    "print()\n",
    "print(li_sr)\n",
    "\n",
    "print()\n",
    "\n",
    "li=[1,2,3]\n",
    "\n",
    "sr1=pd.Series(li)\n",
    "print(sr1)\n",
    "sr1.index=('A','B','c') #추후에 인덱스 지정할때 튜플, 리스트 형태 둘다 가능하고\n",
    "#한개만 전달하는 것은 오류! 행의 수에 맞게 전달해주어야함 \n",
    "print(sr1)"
   ]
  },
  {
   "cell_type": "code",
   "execution_count": 221,
   "id": "79152df8-f4a3-49d8-945e-9755e7f7a5bf",
   "metadata": {},
   "outputs": [
    {
     "name": "stdout",
     "output_type": "stream",
     "text": [
      "('python', '2024-07-25', True)\n",
      "0        python\n",
      "1    2024-07-25\n",
      "2          True\n",
      "dtype: object\n",
      "과목명         python\n",
      "수강일     2024-07-25\n",
      "수강여부          True\n",
      "Name: 학생1, dtype: object\n"
     ]
    }
   ],
   "source": [
    "#튜플-> 시리즈 변환\n",
    "import pandas as pd\n",
    "\n",
    "tu=(\"python\",\"2024-07-25\",True)\n",
    "print(tu)\n",
    "\n",
    "sr=pd.Series(tu)\n",
    "print(sr)\n",
    "\n",
    "#인덱스 번호 지정\n",
    "sr.index=[\"과목명\",\"수강일\",\"수강여부\"]\n",
    "sr.name='학생1'\n",
    "print(sr)\n",
    "#이렇게 따로 넣어줄수도 있고\n",
    "#생성하고 나서 속성안에 접근하는 방식으로도 넣어줄수 있음(리스트컴프리헨션)"
   ]
  },
  {
   "cell_type": "code",
   "execution_count": 239,
   "id": "5d76ce99-1e16-4414-9763-49b08f31b486",
   "metadata": {},
   "outputs": [
    {
     "name": "stdout",
     "output_type": "stream",
     "text": [
      "{'과목명': 'python', '수강일': '2024-07-25', '수강여부': True} <class 'dict'>\n",
      "['python', '2024-07-25', True] <class 'list'>\n",
      "('python', '2024-07-25', True) <class 'tuple'>\n"
     ]
    }
   ],
   "source": [
    "#시리즈 -> 딕셔너리, 리스트 등으로 변환\n",
    "import pandas as pd\n",
    "\n",
    "#시리즈를 딕셔너리로 바꾸기(형변환 사용)\n",
    "dict_sr=dict(sr)\n",
    "print(dict_sr,type(dict_sr)) #딕셔너리의 경우 행이름이 키값으로 전달\n",
    "\n",
    "#시리즈를 리스트로 변환\n",
    "li_sr=list(sr)\n",
    "print(li_sr,type(li_sr)) #리스트의 경우에는 행의 값들만 리스트로 묶여서 들어감\n",
    "#시리즈의 데이터 -> 리스트의 요소\n",
    "\n",
    "#시리즈를 튜플로 변환\n",
    "tu_sr=tuple(sr)\n",
    "print(tu_sr,type(tu_sr)) #리스트와 동일하게 행의 값들만 튜플에 묶여서 들어감 \n",
    "#시리즈의 데이터 -> 튜플의 요소"
   ]
  },
  {
   "cell_type": "code",
   "execution_count": 271,
   "id": "229dbc63-b83c-46bd-963d-17370565b328",
   "metadata": {},
   "outputs": [
    {
     "name": "stdout",
     "output_type": "stream",
     "text": [
      "과목명         python\n",
      "수강일     2024-07-25\n",
      "수강여부          True\n",
      "Name: 학생1, dtype: object <class 'pandas.core.series.Series'>\n",
      "\n",
      "python\n",
      "\n",
      "2024-07-25\n",
      "True\n",
      "\n",
      "수강일     2024-07-25\n",
      "수강여부          True\n",
      "Name: 학생1, dtype: object\n",
      "과목명        python\n",
      "수강일    2024-07-25\n",
      "Name: 학생1, dtype: object\n",
      "\n",
      "과목명        python\n",
      "수강일    2024-07-25\n",
      "Name: 학생1, dtype: object\n",
      "과목명         python\n",
      "수강일     2024-07-25\n",
      "수강여부          True\n",
      "Name: 학생1, dtype: object\n"
     ]
    },
    {
     "name": "stderr",
     "output_type": "stream",
     "text": [
      "C:\\Users\\Public\\Documents\\ESTsoft\\CreatorTemp\\ipykernel_39064\\2507139294.py:20: FutureWarning: Series.__getitem__ treating keys as positions is deprecated. In a future version, integer keys will always be treated as labels (consistent with DataFrame behavior). To access a value by position, use `ser.iloc[pos]`\n",
      "  print(sr[[1,2]]) #여러값을 인덱싱하려면 멀티인덱스를 사용하여 인덱스번호를 사용해야함\n"
     ]
    }
   ],
   "source": [
    "import pandas as pd\n",
    "print(sr,type(sr))\n",
    "print()\n",
    "\n",
    "#시리즈 데이터 요소 접근\n",
    "\n",
    "#1)인덱스 번호 사용\n",
    "# print(sr[0]) #인덱스번호 0번째 있는 1행의 데이터 값을 가져오지만 권장사항이 아니기때문에 문구가뜸\n",
    "print(sr.iloc[0]) #이것이 권장사항. 로케이션의 줄인말!\n",
    "print()\n",
    "\n",
    "#2)인덱스 이름(라벨)사용\n",
    "print(sr[\"수강일\"]) #2024-07-25\n",
    "#이렇게 인덱스 이름을 검색할때는 시리즈명.loc[]\n",
    "print(sr.loc['수강여부']) #권장사항\n",
    "print()\n",
    "\n",
    "#3)여러값을 한번에 인덱싱하는것\n",
    "# print(sr[1,2]) 이렇게만 쓰면 오류가 남\n",
    "print(sr[[1,2]]) #여러값을 인덱싱하려면 멀티인덱스를 사용하여 인덱스번호를 사용해야함\n",
    "print(sr[['과목명','수강일']]) #행이름을 사용하더라도 한번에 여러개를 인덱싱하려면 멀티인덱스를 사용하야함\n",
    "print()\n",
    "\n",
    "#4)슬라이싱\n",
    "print(sr[:2]) #슬라이싱을 사용할때는 멀티인덱스가 아니라 단일 괄호를 사용함\n",
    "print(sr[:'수강여부']) #원래 슬라이싱의 경우 끝값은 포함되지 않지만 이 경우에는 끝값도 포함되어 출력됨"
   ]
  },
  {
   "cell_type": "code",
   "execution_count": 303,
   "id": "e3d18a54-cca0-421e-beb9-8169cde0aefc",
   "metadata": {},
   "outputs": [
    {
     "name": "stdout",
     "output_type": "stream",
     "text": [
      "수강일     2024-07-25\n",
      "수강여부          True\n",
      "Name: 학생1, dtype: object\n",
      "과목명        python\n",
      "수강일    2024-07-25\n",
      "Name: 학생1, dtype: object\n",
      "\n",
      "수강일    2024-07-25\n",
      "과목명        python\n",
      "Name: 학생1, dtype: object\n",
      "과목명        python\n",
      "수강일    2024-07-25\n",
      "Name: 학생1, dtype: object\n"
     ]
    }
   ],
   "source": [
    "# iloc 과 loc의 차이\n",
    "print(sr.iloc[[1,2]])\n",
    "print(sr.iloc[:2]) \n",
    "print()\n",
    "\n",
    "print(sr.loc[[\"수강일\",\"과목명\"]])\n",
    "print(sr[:2])"
   ]
  }
 ],
 "metadata": {
  "kernelspec": {
   "display_name": "Python 3 (ipykernel)",
   "language": "python",
   "name": "python3"
  },
  "language_info": {
   "codemirror_mode": {
    "name": "ipython",
    "version": 3
   },
   "file_extension": ".py",
   "mimetype": "text/x-python",
   "name": "python",
   "nbconvert_exporter": "python",
   "pygments_lexer": "ipython3",
   "version": "3.12.3"
  }
 },
 "nbformat": 4,
 "nbformat_minor": 5
}

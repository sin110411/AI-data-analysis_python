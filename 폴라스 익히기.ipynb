{
 "cells": [
  {
   "cell_type": "code",
   "execution_count": 1,
   "id": "74e216b0-f588-4534-90da-a16245382309",
   "metadata": {},
   "outputs": [],
   "source": [
    "#(1)전체 데이터대상 소비지출액 집계\n",
    "\n",
    "#1. 강원도 시군구 지출액 합산(sum)\n",
    "    #A.강원도 시군구별 방문자 수(count): 시군구코드 - 각 군의 컬럼값이 1이상일 경우 count\n",
    "    #B.시군구별 업종별 연월별 지출액 함\n",
    "#2.인제군 지출액 합산\n",
    "    #A.자작나무숲 방문객수 (count) : 인제 자작나무숲 방문 컬럼의 값이 1이상일 경우 count\n",
    "    #B.읍면동별 연월일 업종별 지출액 합\n",
    "    #c.자작나무 숲 방문객의 연월별, 업종별 지출액 합\n",
    "\n",
    "#(2)집단별 소비지출액 집계\n",
    "# 성별\n",
    "# 연령별\n",
    "# 거주지별(지역주민 / 외지인)\n",
    "# 숙박여주별"
   ]
  },
  {
   "cell_type": "code",
   "execution_count": 6,
   "id": "c906e5aa-fa88-4cc2-b636-0a4c6490b1f1",
   "metadata": {},
   "outputs": [],
   "source": [
    "#[전처리 방식]\n",
    "\n",
    "#1.Polars라이브러리 활용\n",
    "#17,994,374개 * 46개 데이터(대략 3.1GB)"
   ]
  },
  {
   "cell_type": "code",
   "execution_count": 18,
   "id": "f4617bd2-9c56-49b3-9c3d-e299b03da694",
   "metadata": {},
   "outputs": [
    {
     "name": "stdout",
     "output_type": "stream",
     "text": [
      "Requirement already satisfied: polars in c:\\programdata\\anaconda3\\lib\\site-packages (1.22.0)\n"
     ]
    }
   ],
   "source": [
    "!pip install polars"
   ]
  },
  {
   "cell_type": "code",
   "execution_count": 19,
   "id": "763db017-437e-4587-8244-c1da51d2fe75",
   "metadata": {},
   "outputs": [
    {
     "name": "stdout",
     "output_type": "stream",
     "text": [
      "C:\\ProgramData\\anaconda3\\python.exe\n"
     ]
    }
   ],
   "source": [
    "import sys\n",
    "print(sys.executable)"
   ]
  },
  {
   "cell_type": "code",
   "execution_count": 20,
   "id": "90295c84-96e8-45b9-a65b-2277aab4b87f",
   "metadata": {},
   "outputs": [
    {
     "name": "stdout",
     "output_type": "stream",
     "text": [
      "Requirement already satisfied: polars in c:\\programdata\\anaconda3\\lib\\site-packages (1.22.0)\n"
     ]
    }
   ],
   "source": [
    "import sys\n",
    "!{sys.executable} -m pip install polars"
   ]
  },
  {
   "cell_type": "code",
   "execution_count": 26,
   "id": "7817c16c-1894-4f8d-8ce9-8b5b3f4e2bd4",
   "metadata": {},
   "outputs": [],
   "source": [
    "#라이브러리 로드하기\n",
    "\n",
    "import polars as pl\n",
    "import pandas as pd\n",
    "import numpy as np\n",
    "import matplotlib.pyplot as plt\n",
    "\n",
    "\n",
    "datapath = '#path'"
   ]
  },
  {
   "cell_type": "code",
   "execution_count": 28,
   "id": "a0b043ed-fdb0-4e65-b76a-87bea6440283",
   "metadata": {},
   "outputs": [
    {
     "ename": "FileNotFoundError",
     "evalue": "지정된 파일을 찾을 수 없습니다. (os error 2): #path",
     "output_type": "error",
     "traceback": [
      "\u001b[1;31m---------------------------------------------------------------------------\u001b[0m",
      "\u001b[1;31mFileNotFoundError\u001b[0m                         Traceback (most recent call last)",
      "\u001b[1;32m~\\AppData\\Local\\Temp\\ipykernel_9296\\3570754917.py\u001b[0m in \u001b[0;36m<module>\u001b[1;34m\u001b[0m\n\u001b[1;32m----> 1\u001b[1;33m \u001b[0mdf\u001b[0m \u001b[1;33m=\u001b[0m \u001b[0mpl\u001b[0m\u001b[1;33m.\u001b[0m\u001b[0mread_csv\u001b[0m\u001b[1;33m(\u001b[0m\u001b[0mdatapath\u001b[0m\u001b[1;33m,\u001b[0m \u001b[0mseparator\u001b[0m \u001b[1;33m=\u001b[0m \u001b[1;34m\"|\"\u001b[0m\u001b[1;33m,\u001b[0m \u001b[0mignore_errors\u001b[0m \u001b[1;33m=\u001b[0m\u001b[1;32mTrue\u001b[0m\u001b[1;33m,\u001b[0m \u001b[0mlow_memory\u001b[0m \u001b[1;33m=\u001b[0m \u001b[1;32mTrue\u001b[0m\u001b[1;33m)\u001b[0m\u001b[1;33m\u001b[0m\u001b[1;33m\u001b[0m\u001b[0m\n\u001b[0m\u001b[0;32m      2\u001b[0m \u001b[1;33m\u001b[0m\u001b[0m\n\u001b[0;32m      3\u001b[0m \u001b[1;31m#ignore_errors = Ture : 에러무시하고진행\u001b[0m\u001b[1;33m\u001b[0m\u001b[1;33m\u001b[0m\u001b[0m\n\u001b[0;32m      4\u001b[0m \u001b[1;31m#low_memory = Ture :\u001b[0m\u001b[1;33m\u001b[0m\u001b[1;33m\u001b[0m\u001b[0m\n\u001b[0;32m      5\u001b[0m \u001b[1;31m#separator = \"|\" :\u001b[0m\u001b[1;33m\u001b[0m\u001b[1;33m\u001b[0m\u001b[0m\n",
      "\u001b[1;32mC:\\ProgramData\\anaconda3\\lib\\site-packages\\polars\\_utils\\deprecation.py\u001b[0m in \u001b[0;36mwrapper\u001b[1;34m(*args, **kwargs)\u001b[0m\n\u001b[0;32m     90\u001b[0m                 \u001b[0mold_name\u001b[0m\u001b[1;33m,\u001b[0m \u001b[0mnew_name\u001b[0m\u001b[1;33m,\u001b[0m \u001b[0mkwargs\u001b[0m\u001b[1;33m,\u001b[0m \u001b[0mfunction\u001b[0m\u001b[1;33m.\u001b[0m\u001b[0m__qualname__\u001b[0m\u001b[1;33m,\u001b[0m \u001b[0mversion\u001b[0m\u001b[1;33m\u001b[0m\u001b[1;33m\u001b[0m\u001b[0m\n\u001b[0;32m     91\u001b[0m             )\n\u001b[1;32m---> 92\u001b[1;33m             \u001b[1;32mreturn\u001b[0m \u001b[0mfunction\u001b[0m\u001b[1;33m(\u001b[0m\u001b[1;33m*\u001b[0m\u001b[0margs\u001b[0m\u001b[1;33m,\u001b[0m \u001b[1;33m**\u001b[0m\u001b[0mkwargs\u001b[0m\u001b[1;33m)\u001b[0m\u001b[1;33m\u001b[0m\u001b[1;33m\u001b[0m\u001b[0m\n\u001b[0m\u001b[0;32m     93\u001b[0m \u001b[1;33m\u001b[0m\u001b[0m\n\u001b[0;32m     94\u001b[0m         \u001b[0mwrapper\u001b[0m\u001b[1;33m.\u001b[0m\u001b[0m__signature__\u001b[0m \u001b[1;33m=\u001b[0m \u001b[0minspect\u001b[0m\u001b[1;33m.\u001b[0m\u001b[0msignature\u001b[0m\u001b[1;33m(\u001b[0m\u001b[0mfunction\u001b[0m\u001b[1;33m)\u001b[0m  \u001b[1;31m# type: ignore[attr-defined]\u001b[0m\u001b[1;33m\u001b[0m\u001b[1;33m\u001b[0m\u001b[0m\n",
      "\u001b[1;32mC:\\ProgramData\\anaconda3\\lib\\site-packages\\polars\\_utils\\deprecation.py\u001b[0m in \u001b[0;36mwrapper\u001b[1;34m(*args, **kwargs)\u001b[0m\n\u001b[0;32m     90\u001b[0m                 \u001b[0mold_name\u001b[0m\u001b[1;33m,\u001b[0m \u001b[0mnew_name\u001b[0m\u001b[1;33m,\u001b[0m \u001b[0mkwargs\u001b[0m\u001b[1;33m,\u001b[0m \u001b[0mfunction\u001b[0m\u001b[1;33m.\u001b[0m\u001b[0m__qualname__\u001b[0m\u001b[1;33m,\u001b[0m \u001b[0mversion\u001b[0m\u001b[1;33m\u001b[0m\u001b[1;33m\u001b[0m\u001b[0m\n\u001b[0;32m     91\u001b[0m             )\n\u001b[1;32m---> 92\u001b[1;33m             \u001b[1;32mreturn\u001b[0m \u001b[0mfunction\u001b[0m\u001b[1;33m(\u001b[0m\u001b[1;33m*\u001b[0m\u001b[0margs\u001b[0m\u001b[1;33m,\u001b[0m \u001b[1;33m**\u001b[0m\u001b[0mkwargs\u001b[0m\u001b[1;33m)\u001b[0m\u001b[1;33m\u001b[0m\u001b[1;33m\u001b[0m\u001b[0m\n\u001b[0m\u001b[0;32m     93\u001b[0m \u001b[1;33m\u001b[0m\u001b[0m\n\u001b[0;32m     94\u001b[0m         \u001b[0mwrapper\u001b[0m\u001b[1;33m.\u001b[0m\u001b[0m__signature__\u001b[0m \u001b[1;33m=\u001b[0m \u001b[0minspect\u001b[0m\u001b[1;33m.\u001b[0m\u001b[0msignature\u001b[0m\u001b[1;33m(\u001b[0m\u001b[0mfunction\u001b[0m\u001b[1;33m)\u001b[0m  \u001b[1;31m# type: ignore[attr-defined]\u001b[0m\u001b[1;33m\u001b[0m\u001b[1;33m\u001b[0m\u001b[0m\n",
      "\u001b[1;32mC:\\ProgramData\\anaconda3\\lib\\site-packages\\polars\\_utils\\deprecation.py\u001b[0m in \u001b[0;36mwrapper\u001b[1;34m(*args, **kwargs)\u001b[0m\n\u001b[0;32m     90\u001b[0m                 \u001b[0mold_name\u001b[0m\u001b[1;33m,\u001b[0m \u001b[0mnew_name\u001b[0m\u001b[1;33m,\u001b[0m \u001b[0mkwargs\u001b[0m\u001b[1;33m,\u001b[0m \u001b[0mfunction\u001b[0m\u001b[1;33m.\u001b[0m\u001b[0m__qualname__\u001b[0m\u001b[1;33m,\u001b[0m \u001b[0mversion\u001b[0m\u001b[1;33m\u001b[0m\u001b[1;33m\u001b[0m\u001b[0m\n\u001b[0;32m     91\u001b[0m             )\n\u001b[1;32m---> 92\u001b[1;33m             \u001b[1;32mreturn\u001b[0m \u001b[0mfunction\u001b[0m\u001b[1;33m(\u001b[0m\u001b[1;33m*\u001b[0m\u001b[0margs\u001b[0m\u001b[1;33m,\u001b[0m \u001b[1;33m**\u001b[0m\u001b[0mkwargs\u001b[0m\u001b[1;33m)\u001b[0m\u001b[1;33m\u001b[0m\u001b[1;33m\u001b[0m\u001b[0m\n\u001b[0m\u001b[0;32m     93\u001b[0m \u001b[1;33m\u001b[0m\u001b[0m\n\u001b[0;32m     94\u001b[0m         \u001b[0mwrapper\u001b[0m\u001b[1;33m.\u001b[0m\u001b[0m__signature__\u001b[0m \u001b[1;33m=\u001b[0m \u001b[0minspect\u001b[0m\u001b[1;33m.\u001b[0m\u001b[0msignature\u001b[0m\u001b[1;33m(\u001b[0m\u001b[0mfunction\u001b[0m\u001b[1;33m)\u001b[0m  \u001b[1;31m# type: ignore[attr-defined]\u001b[0m\u001b[1;33m\u001b[0m\u001b[1;33m\u001b[0m\u001b[0m\n",
      "\u001b[1;32mC:\\ProgramData\\anaconda3\\lib\\site-packages\\polars\\io\\csv\\functions.py\u001b[0m in \u001b[0;36mread_csv\u001b[1;34m(source, has_header, columns, new_columns, separator, comment_prefix, quote_char, skip_rows, skip_lines, schema, schema_overrides, null_values, missing_utf8_is_empty_string, ignore_errors, try_parse_dates, n_threads, infer_schema, infer_schema_length, batch_size, n_rows, encoding, low_memory, rechunk, use_pyarrow, storage_options, skip_rows_after_header, row_index_name, row_index_offset, sample_size, eol_char, raise_if_empty, truncate_ragged_lines, decimal_comma, glob)\u001b[0m\n\u001b[0;32m    532\u001b[0m             \u001b[0mstorage_options\u001b[0m\u001b[1;33m=\u001b[0m\u001b[0mstorage_options\u001b[0m\u001b[1;33m,\u001b[0m\u001b[1;33m\u001b[0m\u001b[1;33m\u001b[0m\u001b[0m\n\u001b[0;32m    533\u001b[0m         ) as data:\n\u001b[1;32m--> 534\u001b[1;33m             df = _read_csv_impl(\n\u001b[0m\u001b[0;32m    535\u001b[0m                 \u001b[0mdata\u001b[0m\u001b[1;33m,\u001b[0m\u001b[1;33m\u001b[0m\u001b[1;33m\u001b[0m\u001b[0m\n\u001b[0;32m    536\u001b[0m                 \u001b[0mhas_header\u001b[0m\u001b[1;33m=\u001b[0m\u001b[0mhas_header\u001b[0m\u001b[1;33m,\u001b[0m\u001b[1;33m\u001b[0m\u001b[1;33m\u001b[0m\u001b[0m\n",
      "\u001b[1;32mC:\\ProgramData\\anaconda3\\lib\\site-packages\\polars\\io\\csv\\functions.py\u001b[0m in \u001b[0;36m_read_csv_impl\u001b[1;34m(source, has_header, columns, separator, comment_prefix, quote_char, skip_rows, skip_lines, schema, schema_overrides, null_values, missing_utf8_is_empty_string, ignore_errors, try_parse_dates, n_threads, infer_schema_length, batch_size, n_rows, encoding, low_memory, rechunk, skip_rows_after_header, row_index_name, row_index_offset, sample_size, eol_char, raise_if_empty, truncate_ragged_lines, decimal_comma, glob)\u001b[0m\n\u001b[0;32m    680\u001b[0m     \u001b[0mprojection\u001b[0m\u001b[1;33m,\u001b[0m \u001b[0mcolumns\u001b[0m \u001b[1;33m=\u001b[0m \u001b[0mparse_columns_arg\u001b[0m\u001b[1;33m(\u001b[0m\u001b[0mcolumns\u001b[0m\u001b[1;33m)\u001b[0m\u001b[1;33m\u001b[0m\u001b[1;33m\u001b[0m\u001b[0m\n\u001b[0;32m    681\u001b[0m \u001b[1;33m\u001b[0m\u001b[0m\n\u001b[1;32m--> 682\u001b[1;33m     pydf = PyDataFrame.read_csv(\n\u001b[0m\u001b[0;32m    683\u001b[0m         \u001b[0msource\u001b[0m\u001b[1;33m,\u001b[0m\u001b[1;33m\u001b[0m\u001b[1;33m\u001b[0m\u001b[0m\n\u001b[0;32m    684\u001b[0m         \u001b[0minfer_schema_length\u001b[0m\u001b[1;33m,\u001b[0m\u001b[1;33m\u001b[0m\u001b[1;33m\u001b[0m\u001b[0m\n",
      "\u001b[1;31mFileNotFoundError\u001b[0m: 지정된 파일을 찾을 수 없습니다. (os error 2): #path"
     ]
    }
   ],
   "source": [
    "df = pl.read_csv(datapath, sep = \"|\", ignore_errors =True, low_memory = True)\n",
    "\n",
    "#ignore_errors = Ture : 에러무시하고진행\n",
    "#low_memory = Ture : 메모리사용줄이는 옵션\n",
    "#sep = \"|\" : 파일의 구분자 지정"
   ]
  },
  {
   "cell_type": "code",
   "execution_count": 29,
   "id": "727a15cc-f065-4fab-9405-d83cd5b5c7d4",
   "metadata": {},
   "outputs": [
    {
     "ename": "NameError",
     "evalue": "name 'df' is not defined",
     "output_type": "error",
     "traceback": [
      "\u001b[1;31m---------------------------------------------------------------------------\u001b[0m",
      "\u001b[1;31mNameError\u001b[0m                                 Traceback (most recent call last)",
      "\u001b[1;32m~\\AppData\\Local\\Temp\\ipykernel_9296\\56787656.py\u001b[0m in \u001b[0;36m<module>\u001b[1;34m\u001b[0m\n\u001b[1;32m----> 1\u001b[1;33m \u001b[0mresult\u001b[0m \u001b[1;33m=\u001b[0m \u001b[0mdf\u001b[0m\u001b[1;33m.\u001b[0m\u001b[0mfillter\u001b[0m\u001b[1;33m(\u001b[0m\u001b[0mpl\u001b[0m\u001b[1;33m.\u001b[0m\u001b[0mcol\u001b[0m\u001b[1;33m(\u001b[0m\u001b[1;34m'#col name'\u001b[0m\u001b[1;33m)\u001b[0m \u001b[1;33m!=\u001b[0m \u001b[1;36m0\u001b[0m\u001b[1;33m)\u001b[0m\u001b[1;33m.\u001b[0m\u001b[0mselect\u001b[0m\u001b[1;33m(\u001b[0m\u001b[0mpl\u001b[0m\u001b[1;33m.\u001b[0m\u001b[0mcol\u001b[0m\u001b[1;33m(\u001b[0m\u001b[1;34m'#col_name'\u001b[0m\u001b[1;33m)\u001b[0m\u001b[1;33m.\u001b[0m\u001b[0msum\u001b[0m\u001b[1;33m(\u001b[0m\u001b[1;33m)\u001b[0m\u001b[1;33m)\u001b[0m\u001b[1;33m\u001b[0m\u001b[1;33m\u001b[0m\u001b[0m\n\u001b[0m\u001b[0;32m      2\u001b[0m \u001b[1;33m\u001b[0m\u001b[0m\n",
      "\u001b[1;31mNameError\u001b[0m: name 'df' is not defined"
     ]
    }
   ],
   "source": [
    "result = df.fillter(pl.col('#col name') != 0).select(pl.col('#col_name').sum())\n",
    "\n"
   ]
  },
  {
   "cell_type": "code",
   "execution_count": 32,
   "id": "ee6d577f-a6c3-4751-9555-77d6d489ff5f",
   "metadata": {},
   "outputs": [
    {
     "ename": "TypeError",
     "evalue": "DataFrame.__init__() got an unexpected keyword argument 'index'",
     "output_type": "error",
     "traceback": [
      "\u001b[1;31m---------------------------------------------------------------------------\u001b[0m",
      "\u001b[1;31mTypeError\u001b[0m                                 Traceback (most recent call last)",
      "\u001b[1;32m~\\AppData\\Local\\Temp\\ipykernel_9296\\3526068298.py\u001b[0m in \u001b[0;36m<module>\u001b[1;34m\u001b[0m\n\u001b[0;32m      5\u001b[0m \u001b[1;31m# ol_df = pl.read_csv('data.csv')\u001b[0m\u001b[1;33m\u001b[0m\u001b[1;33m\u001b[0m\u001b[0m\n\u001b[0;32m      6\u001b[0m \u001b[1;33m\u001b[0m\u001b[0m\n\u001b[1;32m----> 7\u001b[1;33m df = pl.DataFrame([[\"짱구\", 5, 60],\n\u001b[0m\u001b[0;32m      8\u001b[0m                   \u001b[1;33m[\u001b[0m\u001b[1;34m\"철수\"\u001b[0m\u001b[1;33m,\u001b[0m \u001b[1;36m6\u001b[0m\u001b[1;33m,\u001b[0m \u001b[1;36m90\u001b[0m\u001b[1;33m]\u001b[0m\u001b[1;33m,\u001b[0m\u001b[1;33m\u001b[0m\u001b[1;33m\u001b[0m\u001b[0m\n\u001b[0;32m      9\u001b[0m                   \u001b[1;33m[\u001b[0m\u001b[1;34m\"유리\"\u001b[0m\u001b[1;33m,\u001b[0m \u001b[1;36m7\u001b[0m\u001b[1;33m,\u001b[0m \u001b[1;36m80\u001b[0m\u001b[1;33m]\u001b[0m\u001b[1;33m,\u001b[0m\u001b[1;33m\u001b[0m\u001b[1;33m\u001b[0m\u001b[0m\n",
      "\u001b[1;31mTypeError\u001b[0m: DataFrame.__init__() got an unexpected keyword argument 'index'"
     ]
    }
   ],
   "source": [
    "# 폴라스 기초문법\n",
    "\n",
    "import polars as pl\n",
    "\n",
    "# ol_df = pl.read_csv('data.csv')\n",
    "\n"
   ]
  },
  {
   "cell_type": "code",
   "execution_count": null,
   "id": "fe3f25f4-1201-4032-b999-c03923c4ec31",
   "metadata": {},
   "outputs": [],
   "source": [
    "#폴라스 Polars DataFamre집계하기(groupby)\n",
    "\n",
    "#caloulate mean\n",
    "\n",
    "mean_age = pl_df['age'].mean() #이렇게하면 age에 대한 평균값이 안에 저장\n",
    "\n",
    "sum_date =pl.df['age'].sum() #나이의 합산 값\n",
    "\n",
    "count_row = pl_df.count()  #몇개인지 세주는거 0이 3개있을때 \n",
    "# df['age'].sum() 이렇게하면 0나오지만 count()하면 3이 나오는것처럼"
   ]
  },
  {
   "cell_type": "code",
   "execution_count": 61,
   "id": "b19d27e9-490e-4442-983a-48f52c867da3",
   "metadata": {},
   "outputs": [
    {
     "name": "stdout",
     "output_type": "stream",
     "text": [
      "shape: (2, 3)\n",
      "┌─────┬────────────┬─────────────┐\n",
      "│ id  ┆ left_value ┆ right_value │\n",
      "│ --- ┆ ---        ┆ ---         │\n",
      "│ i64 ┆ str        ┆ str         │\n",
      "╞═════╪════════════╪═════════════╡\n",
      "│ 2   ┆ b          ┆ d           │\n",
      "│ 3   ┆ c          ┆ e           │\n",
      "└─────┴────────────┴─────────────┘\n",
      "shape: (3, 3)\n",
      "┌─────────────┬─────┬────────────┐\n",
      "│ right_value ┆ id  ┆ left_value │\n",
      "│ ---         ┆ --- ┆ ---        │\n",
      "│ str         ┆ i64 ┆ str        │\n",
      "╞═════════════╪═════╪════════════╡\n",
      "│ null        ┆ 1   ┆ a          │\n",
      "│ d           ┆ 2   ┆ b          │\n",
      "│ e           ┆ 3   ┆ c          │\n",
      "└─────────────┴─────┴────────────┘\n"
     ]
    }
   ],
   "source": [
    "import polars as pl\n",
    "\n",
    "\n",
    "left = pl.DataFrame({'id':[1,2,3],\n",
    "         'left_value': ['a','b','c']})\n",
    "\n",
    "right = pl.DataFrame({'id': [2,3,4],\n",
    "          'right_value' : ['d','e','f']})\n",
    "\n",
    "\n",
    "inner_join = left.join(right, on = 'id') #id를 기준으로 \n",
    "\n",
    "\n",
    "print(inner_join)\n",
    "\n",
    "\n",
    "inner_join = right.join(left, on = 'id', how = 'right')\n",
    "print(inner_join)\n",
    "\n",
    "\n",
    "inner_join = left.join(right, on ='id', how = 'left')"
   ]
  },
  {
   "cell_type": "code",
   "execution_count": null,
   "id": "e04ffea7-a406-4aea-95c1-765b7e5008bc",
   "metadata": {},
   "outputs": [],
   "source": [
    "import polars as pl\n",
    "\n",
    "# datapath = '데이터 파일'\n",
    "\n",
    "df = pl.read_csv(datapath, separator = '|', ignore_errors = True, low_memory = True )\n",
    "#ignore_errors = Ture : 에러무시하고진행\n",
    "#low_memory = Ture : 메모리사용줄이는 옵션\n",
    "#sep = \"|\" : 파일의 구분자 지정\n",
    "\n",
    "\n",
    "#행선택하기 \n",
    "            #열값이 0이 아닌 값들만 나오도록   #그 후, 추출된 열을 모두 합산\n",
    "result = df.fillter(pl.col('col_name') !=0). select(pl.col('col_name').sum())\n",
    "#fillter() : 주어진 조건을 만족하는 데이터들만 추출하는 메소드\n",
    "#pl.col() : 주어진 데이터프레임의 컬럼명 선택\n",
    "#select() : 선택된 열들에 대해 연산을 수행 / select없이도 연산은 가능하나, 붙이는 것이 좋음\n",
    "#df.filler(pl.col('컬럼명')조건식)"
   ]
  },
  {
   "cell_type": "code",
   "execution_count": 10,
   "id": "dd93be9b-11a5-461c-9343-64c69b6990c3",
   "metadata": {},
   "outputs": [
    {
     "name": "stdout",
     "output_type": "stream",
     "text": [
      "shape: (4, 2)\n",
      "┌──────┬──────┐\n",
      "│ col1 ┆ col2 │\n",
      "│ ---  ┆ ---  │\n",
      "│ i64  ┆ i64  │\n",
      "╞══════╪══════╡\n",
      "│ 1    ┆ 5    │\n",
      "│ 2    ┆ 6    │\n",
      "│ 3    ┆ 7    │\n",
      "│ 4    ┆ 8    │\n",
      "└──────┴──────┘\n"
     ]
    }
   ],
   "source": [
    "#데이터프레임 생성\n",
    "import polars as pl\n",
    "\n",
    "df=pl.DataFrame({'col1' : [1,2,3,4],\n",
    "             'col2': [5,6,7,8]})\n",
    "\n",
    "#폴라스로 데이터프레임 생성\n",
    "print(df)"
   ]
  },
  {
   "cell_type": "code",
   "execution_count": 20,
   "id": "d8ce2480-4de6-4b43-abcb-9a0946031622",
   "metadata": {},
   "outputs": [
    {
     "name": "stdout",
     "output_type": "stream",
     "text": [
      "shape: (4, 1)\n",
      "┌──────┐\n",
      "│ col1 │\n",
      "│ ---  │\n",
      "│ i64  │\n",
      "╞══════╡\n",
      "│ 1    │\n",
      "│ 2    │\n",
      "│ 3    │\n",
      "│ 4    │\n",
      "└──────┘\n",
      "shape: (1, 1)\n",
      "┌──────┐\n",
      "│ col1 │\n",
      "│ ---  │\n",
      "│ i64  │\n",
      "╞══════╡\n",
      "│ 10   │\n",
      "└──────┘\n"
     ]
    }
   ],
   "source": [
    "#열선택하기\n",
    "#select 와 col\n",
    "\n",
    "#select()\n",
    "\n",
    "\n",
    "col1_data = df.select('col1')\n",
    "print(col1_data)\n",
    "\n",
    "\n",
    "\n",
    "#cal()은 열을 참조하는 표현식을 생성하는 함수. df.col('col1')은 col1을 선택하는 표현식 객체를 생성함\n",
    "#이 객체는 나중에 연산을 하거나 필터링을 할때 사용됨\n",
    "#즉, .col('컬럼명')은 연산을 위한 표현식 객체로, 데이터프레임에서 직접적인 값을 가져오는것이 아니라 연산을 위한 참조인것\n",
    "\n",
    "print(df.select([pl.col('col1').sum()]))"
   ]
  },
  {
   "cell_type": "code",
   "execution_count": 1,
   "id": "3d2b1cc1-b1be-4e9c-a351-a8ec0c262260",
   "metadata": {},
   "outputs": [],
   "source": [
    "#판다스와 폴라스의 차이\n",
    "\n",
    "#pandas \n",
    "#판다스는 데이터프레임 객체를 통한 다양한 데이터를 로딩하고 조작하는 기능을함\n",
    "#SQL또는 엑셀시트와 유사항 데이터 조작연산이 가능함\n",
    "#누락된 데이터 차리가능\n",
    "#행과 열을 바꾸는 등 데이터를 재구성할수도있고\n",
    "#다양한 형식 CSV,엑셀,SQL등을 읽고 쓰는 것이 가능함\n",
    "\n",
    "#Polars\n",
    "#폴라스는 기울기 및 행렬과같은 다양한 데이터 유형을 지원"
   ]
  },
  {
   "cell_type": "code",
   "execution_count": 3,
   "id": "f0b0499b-f161-4aa4-8abd-bb66edf7b8c0",
   "metadata": {},
   "outputs": [
    {
     "name": "stdout",
     "output_type": "stream",
     "text": [
      "Collecting polars\n",
      "  Downloading polars-1.31.0-cp39-abi3-win_amd64.whl.metadata (15 kB)\n",
      "Downloading polars-1.31.0-cp39-abi3-win_amd64.whl (35.2 MB)\n",
      "   ---------------------------------------- 0.0/35.2 MB ? eta -:--:--\n",
      "   - -------------------------------------- 1.0/35.2 MB 12.5 MB/s eta 0:00:03\n",
      "   -- ------------------------------------- 2.1/35.2 MB 5.1 MB/s eta 0:00:07\n",
      "   ----- ---------------------------------- 4.7/35.2 MB 7.5 MB/s eta 0:00:05\n",
      "   -------- ------------------------------- 7.3/35.2 MB 8.9 MB/s eta 0:00:04\n",
      "   ----------- ---------------------------- 10.0/35.2 MB 9.4 MB/s eta 0:00:03\n",
      "   -------------- ------------------------- 12.8/35.2 MB 10.2 MB/s eta 0:00:03\n",
      "   ----------------- ---------------------- 15.5/35.2 MB 10.6 MB/s eta 0:00:02\n",
      "   -------------------- ------------------- 17.8/35.2 MB 10.5 MB/s eta 0:00:02\n",
      "   ---------------------- ----------------- 19.9/35.2 MB 10.6 MB/s eta 0:00:02\n",
      "   ------------------------ --------------- 21.8/35.2 MB 10.3 MB/s eta 0:00:02\n",
      "   -------------------------- ------------- 23.1/35.2 MB 10.0 MB/s eta 0:00:02\n",
      "   ---------------------------- ----------- 24.9/35.2 MB 9.9 MB/s eta 0:00:02\n",
      "   ------------------------------ --------- 26.7/35.2 MB 9.7 MB/s eta 0:00:01\n",
      "   ------------------------------- -------- 28.0/35.2 MB 9.5 MB/s eta 0:00:01\n",
      "   --------------------------------- ------ 29.1/35.2 MB 9.2 MB/s eta 0:00:01\n",
      "   ---------------------------------- ----- 30.1/35.2 MB 8.9 MB/s eta 0:00:01\n",
      "   ---------------------------------- ----- 30.7/35.2 MB 8.6 MB/s eta 0:00:01\n",
      "   ----------------------------------- ---- 31.5/35.2 MB 8.2 MB/s eta 0:00:01\n",
      "   ------------------------------------ --- 32.0/35.2 MB 8.1 MB/s eta 0:00:01\n",
      "   ------------------------------------- -- 32.8/35.2 MB 7.8 MB/s eta 0:00:01\n",
      "   -------------------------------------- - 33.8/35.2 MB 7.6 MB/s eta 0:00:01\n",
      "   ---------------------------------------  34.9/35.2 MB 7.5 MB/s eta 0:00:01\n",
      "   ---------------------------------------- 35.2/35.2 MB 7.3 MB/s eta 0:00:00\n",
      "Installing collected packages: polars\n",
      "Successfully installed polars-1.31.0\n"
     ]
    },
    {
     "name": "stderr",
     "output_type": "stream",
     "text": [
      "\n",
      "[notice] A new release of pip is available: 25.0.1 -> 25.1.1\n",
      "[notice] To update, run: python.exe -m pip install --upgrade pip\n"
     ]
    }
   ],
   "source": [
    "!pip install polars"
   ]
  },
  {
   "cell_type": "code",
   "execution_count": 1,
   "id": "245851c3-c88d-4cfb-ad40-3db240bb5074",
   "metadata": {},
   "outputs": [
    {
     "name": "stdout",
     "output_type": "stream",
     "text": [
      "shape: (3, 4)\n",
      "┌─────────┬─────────────────────┬───────┬────────┐\n",
      "│ integer ┆ date                ┆ float ┆ string │\n",
      "│ ---     ┆ ---                 ┆ ---   ┆ ---    │\n",
      "│ i64     ┆ datetime[μs]        ┆ f64   ┆ str    │\n",
      "╞═════════╪═════════════════════╪═══════╪════════╡\n",
      "│ 1       ┆ 2025-01-01 00:00:00 ┆ 4.0   ┆ a      │\n",
      "│ 2       ┆ 2025-01-02 00:00:00 ┆ 5.0   ┆ b      │\n",
      "│ 3       ┆ 2025-01-03 00:00:00 ┆ 6.0   ┆ c      │\n",
      "└─────────┴─────────────────────┴───────┴────────┘\n",
      "shape: (3, 4)\n",
      "┌─────────┬────────────────────────────┬───────┬────────┐\n",
      "│ integer ┆ date                       ┆ float ┆ string │\n",
      "│ ---     ┆ ---                        ┆ ---   ┆ ---    │\n",
      "│ i64     ┆ str                        ┆ f64   ┆ str    │\n",
      "╞═════════╪════════════════════════════╪═══════╪════════╡\n",
      "│ 1       ┆ 2025-01-01T00:00:00.000000 ┆ 4.0   ┆ a      │\n",
      "│ 2       ┆ 2025-01-02T00:00:00.000000 ┆ 5.0   ┆ b      │\n",
      "│ 3       ┆ 2025-01-03T00:00:00.000000 ┆ 6.0   ┆ c      │\n",
      "└─────────┴────────────────────────────┴───────┴────────┘\n"
     ]
    }
   ],
   "source": [
    "#폴라스 읽고 쓰기\n",
    "#폴라스는 일반적인 파일형식 csv 등 클라우드 스토리지 및 데이터 베이스에 대한 읽기 및 쓰기 지운\n",
    "\n",
    "import polars as pl\n",
    "from datetime import datetime\n",
    "\n",
    "temp_df = pl.DataFrame({\n",
    "    'integer' : [1,2,3],\n",
    "    'date' : [\n",
    "        datetime(2025,1,1),\n",
    "        datetime(2025,1,2),\n",
    "        datetime(2025,1,3)\n",
    "    ],\n",
    "    'float' : [4.0, 5.0, 6.0],\n",
    "    'string' : ['a', 'b', 'c']\n",
    "})\n",
    "\n",
    "print(temp_df)\n",
    "\n",
    "#폴라스로 df만드는법이 판다스랑 똑같다..일케 만드는게 가능쓰\n",
    "#폴라스로만든건 미리보여주기말고 print하면 이런형태로 보여줌\n",
    "\n",
    "\n",
    "#생성한 데이터프레임 csv파일로 저장하기\n",
    "#원래 df라면 df.to_csv('파일명', encoding = ) 이렇게 해줬게지만\n",
    "#폴라스의 경우 wirte_csv를 사용\n",
    "\n",
    "#폴라스로만든 df경로에 저장하기\n",
    "temp_df.write_csv('폴라스연습_df.csv') #폴라스에는 encoding이 없음\n",
    "\n",
    "\n",
    "#판다스의 경우에는 다시 불러오려면 df = pd.read_csv('파일명', encoding='')일텐데\n",
    "#폴라스로만든 df다시 불러오는것도 방법은 비슷함\n",
    "\n",
    "temp_redf = pl.read_csv('폴라스연습_df.csv')\n",
    "print(temp_redf)"
   ]
  },
  {
   "cell_type": "code",
   "execution_count": 2,
   "id": "831bb4fb-ae1b-4476-aa50-a102c9838bbf",
   "metadata": {},
   "outputs": [
    {
     "name": "stdout",
     "output_type": "stream",
     "text": [
      "shape: (3, 4)\n",
      "┌─────────┬─────────────────────┬───────┬────────┐\n",
      "│ integer ┆ date                ┆ float ┆ string │\n",
      "│ ---     ┆ ---                 ┆ ---   ┆ ---    │\n",
      "│ i64     ┆ datetime[μs]        ┆ f64   ┆ str    │\n",
      "╞═════════╪═════════════════════╪═══════╪════════╡\n",
      "│ 1       ┆ 2025-01-01 00:00:00 ┆ 4.0   ┆ a      │\n",
      "│ 2       ┆ 2025-01-02 00:00:00 ┆ 5.0   ┆ b      │\n",
      "│ 3       ┆ 2025-01-03 00:00:00 ┆ 6.0   ┆ c      │\n",
      "└─────────┴─────────────────────┴───────┴────────┘\n",
      "shape: (3, 2)\n",
      "┌───────┬────────┐\n",
      "│ float ┆ string │\n",
      "│ ---   ┆ ---    │\n",
      "│ f64   ┆ str    │\n",
      "╞═══════╪════════╡\n",
      "│ 4.0   ┆ a      │\n",
      "│ 5.0   ┆ b      │\n",
      "│ 6.0   ┆ c      │\n",
      "└───────┴────────┘\n",
      "shape: (3, 2)\n",
      "┌─────────┬─────────────────────┐\n",
      "│ integer ┆ date                │\n",
      "│ ---     ┆ ---                 │\n",
      "│ i64     ┆ datetime[μs]        │\n",
      "╞═════════╪═════════════════════╡\n",
      "│ 1       ┆ 2025-01-01 00:00:00 │\n",
      "│ 2       ┆ 2025-01-02 00:00:00 │\n",
      "│ 3       ┆ 2025-01-03 00:00:00 │\n",
      "└─────────┴─────────────────────┘\n",
      "shape: (3, 2)\n",
      "┌───────┬────────┐\n",
      "│ float ┆ string │\n",
      "│ ---   ┆ ---    │\n",
      "│ f64   ┆ str    │\n",
      "╞═══════╪════════╡\n",
      "│ 4.0   ┆ a      │\n",
      "│ 5.0   ┆ b      │\n",
      "│ 6.0   ┆ c      │\n",
      "└───────┴────────┘\n",
      "shape: (3, 3)\n",
      "┌─────────┬───────┬────────┐\n",
      "│ integer ┆ float ┆ string │\n",
      "│ ---     ┆ ---   ┆ ---    │\n",
      "│ i64     ┆ f64   ┆ str    │\n",
      "╞═════════╪═══════╪════════╡\n",
      "│ 1       ┆ 4.0   ┆ a      │\n",
      "│ 2       ┆ 5.0   ┆ b      │\n",
      "│ 3       ┆ 6.0   ┆ c      │\n",
      "└─────────┴───────┴────────┘\n"
     ]
    }
   ],
   "source": [
    "#polars의 표현식\n",
    "\n",
    "#select \n",
    "#데이터프레임에서 열을 선택하려면 두가지 작업을 수행해야함\n",
    "#얻고자 하는 데이터를 원하는 DataFrame을 정의\n",
    "#필요한 데이터 선택 이렇게 두가지 방법\n",
    "\n",
    "\n",
    "#select(pl.col()) <- 이형태를 유지해서 컬럼을 선택해주어야함 이렇게해야 연산을 할 수있는 형태로 가져오는거고\n",
    "# print(temp_df.select('integer')) 이렇게 작성하면 그 컬럼 자체만을 가져오는것\n",
    "#보여지는 결과값은 같기때문에 엥간하면 그냥 pl.col() 이 형태를 사용할것\n",
    "\n",
    "print(temp_df.select(pl.col('*')))#모든 컬럼가져오기\n",
    "\n",
    "#해당컬럼만 뺴고 자겨오기_exclude\n",
    "print(temp_df.select(pl.col('*').exclude('integer','date')))\n",
    "#pl.cal().exclude()로 작성하면 \n",
    "\n",
    "out = ['integer','date']\n",
    "print(temp_df.select(pl.col(out)))\n",
    "print(temp_df.select(pl.col('*').exclude(out)))\n",
    "\n",
    "print(temp_df.select(pl.col('*').exclude('date')))"
   ]
  },
  {
   "cell_type": "code",
   "execution_count": 8,
   "id": "d9def59c-5479-4ff6-a108-cdac0d6bca0f",
   "metadata": {},
   "outputs": [
    {
     "name": "stdout",
     "output_type": "stream",
     "text": [
      "shape: (2, 4)\n",
      "┌─────────┬─────────────────────┬───────┬────────┐\n",
      "│ integer ┆ date                ┆ float ┆ string │\n",
      "│ ---     ┆ ---                 ┆ ---   ┆ ---    │\n",
      "│ i64     ┆ datetime[μs]        ┆ f64   ┆ str    │\n",
      "╞═════════╪═════════════════════╪═══════╪════════╡\n",
      "│ 1       ┆ 2025-01-01 00:00:00 ┆ 4.0   ┆ a      │\n",
      "│ 2       ┆ 2025-01-02 00:00:00 ┆ 5.0   ┆ b      │\n",
      "└─────────┴─────────────────────┴───────┴────────┘\n",
      "shape: (1, 4)\n",
      "┌─────────┬─────────────────────┬───────┬────────┐\n",
      "│ integer ┆ date                ┆ float ┆ string │\n",
      "│ ---     ┆ ---                 ┆ ---   ┆ ---    │\n",
      "│ i64     ┆ datetime[μs]        ┆ f64   ┆ str    │\n",
      "╞═════════╪═════════════════════╪═══════╪════════╡\n",
      "│ 3       ┆ 2025-01-03 00:00:00 ┆ 6.0   ┆ c      │\n",
      "└─────────┴─────────────────────┴───────┴────────┘\n",
      "shape: (3, 4)\n",
      "┌─────────┬─────────────────────┬───────┬────────┐\n",
      "│ integer ┆ date                ┆ float ┆ string │\n",
      "│ ---     ┆ ---                 ┆ ---   ┆ ---    │\n",
      "│ i64     ┆ datetime[μs]        ┆ f64   ┆ str    │\n",
      "╞═════════╪═════════════════════╪═══════╪════════╡\n",
      "│ 1       ┆ 2025-01-01 00:00:00 ┆ 4.0   ┆ a      │\n",
      "│ 2       ┆ 2025-01-02 00:00:00 ┆ 5.0   ┆ b      │\n",
      "│ 3       ┆ 2025-01-03 00:00:00 ┆ 6.0   ┆ c      │\n",
      "└─────────┴─────────────────────┴───────┴────────┘\n",
      "shape: (1, 4)\n",
      "┌─────────┬─────────────────────┬───────┬────────┐\n",
      "│ integer ┆ date                ┆ float ┆ string │\n",
      "│ ---     ┆ ---                 ┆ ---   ┆ ---    │\n",
      "│ i64     ┆ datetime[μs]        ┆ f64   ┆ str    │\n",
      "╞═════════╪═════════════════════╪═══════╪════════╡\n",
      "│ 3       ┆ 2025-01-03 00:00:00 ┆ 6.0   ┆ c      │\n",
      "└─────────┴─────────────────────┴───────┴────────┘\n"
     ]
    }
   ],
   "source": [
    "#filter\n",
    "#필터옵션을 사용하면 DataFrame의 하위 집합을 만드는것도 가능함\n",
    "#필터를 걸 열을 pl.col로 선택하고 .isbetween  으로 조건생성할 수 있음\n",
    "\n",
    "print(temp_df.filter(pl.col('date').is_between(datetime(2025,1,1), datetime(2025,1,2))))\n",
    "print(temp_df.filter(pl.col('integer')>=3)) #이런식으로\n",
    "#pl.col로 선택해주고 조건생성\n",
    "#pl.col을 두번써서 더 복잡한 조건작성도 가능함\n",
    "print(temp_df)\n",
    "\n",
    "#filter안에 () & () 이런식으로 조건문 2개를 묶어줄수도있음. 이때 조건문은 반드시 filter안에 ()로 묶여있어야함\n",
    "print(temp_df.filter((pl.col('integer')>2) & (pl.col('float').is_not_nan())))"
   ]
  },
  {
   "cell_type": "code",
   "execution_count": 23,
   "id": "986188e9-d33c-4b41-8793-9b9ef8965d76",
   "metadata": {},
   "outputs": [
    {
     "name": "stdout",
     "output_type": "stream",
     "text": [
      "shape: (3, 5)\n",
      "┌─────────┬─────────────────────┬───────┬────────┬──────┐\n",
      "│ integer ┆ date                ┆ float ┆ string ┆ e    │\n",
      "│ ---     ┆ ---                 ┆ ---   ┆ ---    ┆ ---  │\n",
      "│ i64     ┆ datetime[μs]        ┆ f64   ┆ str    ┆ f64  │\n",
      "╞═════════╪═════════════════════╪═══════╪════════╪══════╡\n",
      "│ 1       ┆ 2025-01-01 00:00:00 ┆ 4.0   ┆ a      ┆ 15.0 │\n",
      "│ 2       ┆ 2025-01-02 00:00:00 ┆ 5.0   ┆ b      ┆ 15.0 │\n",
      "│ 3       ┆ 2025-01-03 00:00:00 ┆ 6.0   ┆ c      ┆ 15.0 │\n",
      "└─────────┴─────────────────────┴───────┴────────┴──────┘\n",
      "shape: (3, 5)\n",
      "┌─────────┬─────────────────────┬───────┬────────┬───────┐\n",
      "│ integer ┆ date                ┆ float ┆ string ┆ int10 │\n",
      "│ ---     ┆ ---                 ┆ ---   ┆ ---    ┆ ---   │\n",
      "│ i64     ┆ datetime[μs]        ┆ f64   ┆ str    ┆ i64   │\n",
      "╞═════════╪═════════════════════╪═══════╪════════╪═══════╡\n",
      "│ 1       ┆ 2025-01-01 00:00:00 ┆ 4.0   ┆ a      ┆ 11    │\n",
      "│ 2       ┆ 2025-01-02 00:00:00 ┆ 5.0   ┆ b      ┆ 12    │\n",
      "│ 3       ┆ 2025-01-03 00:00:00 ┆ 6.0   ┆ c      ┆ 13    │\n",
      "└─────────┴─────────────────────┴───────┴────────┴───────┘\n",
      "shape: (3, 5)\n",
      "┌─────────┬─────────────────────┬───────┬────────┬───────┐\n",
      "│ integer ┆ date                ┆ float ┆ string ┆ int10 │\n",
      "│ ---     ┆ ---                 ┆ ---   ┆ ---    ┆ ---   │\n",
      "│ i64     ┆ datetime[μs]        ┆ f64   ┆ str    ┆ i64   │\n",
      "╞═════════╪═════════════════════╪═══════╪════════╪═══════╡\n",
      "│ 1       ┆ 2025-01-01 00:00:00 ┆ 4.0   ┆ a      ┆ 11    │\n",
      "│ 2       ┆ 2025-01-02 00:00:00 ┆ 5.0   ┆ b      ┆ 12    │\n",
      "│ 3       ┆ 2025-01-03 00:00:00 ┆ 6.0   ┆ c      ┆ 13    │\n",
      "└─────────┴─────────────────────┴───────┴────────┴───────┘\n",
      "shape: (3, 5)\n",
      "┌─────────┬─────────────────────┬───────┬────────┬───────┐\n",
      "│ integer ┆ date                ┆ float ┆ string ┆ mul10 │\n",
      "│ ---     ┆ ---                 ┆ ---   ┆ ---    ┆ ---   │\n",
      "│ i64     ┆ datetime[μs]        ┆ f64   ┆ str    ┆ i64   │\n",
      "╞═════════╪═════════════════════╪═══════╪════════╪═══════╡\n",
      "│ 1       ┆ 2025-01-01 00:00:00 ┆ 4.0   ┆ a      ┆ 4     │\n",
      "│ 2       ┆ 2025-01-02 00:00:00 ┆ 5.0   ┆ b      ┆ 8     │\n",
      "│ 3       ┆ 2025-01-03 00:00:00 ┆ 6.0   ┆ c      ┆ 12    │\n",
      "└─────────┴─────────────────────┴───────┴────────┴───────┘\n"
     ]
    }
   ],
   "source": [
    "#with_columns\n",
    "#with_columns를 사용하면 분석을 위한 새 열을 생성할 수 있음\n",
    "print(temp_df.with_columns(pl.col('float').sum().alias('e')))\n",
    "print(temp_df.with_columns((pl.col('integer') + 10).alias('int10')))\n",
    "print(temp_df.with_columns((pl.col('integer') + 10).alias('int10')))\n",
    "print(temp_df.with_columns((pl.col('integer')*4).alias('mul10')))"
   ]
  },
  {
   "cell_type": "code",
   "execution_count": 25,
   "id": "6248dbd9-c46b-42a7-9e89-12c817feb65a",
   "metadata": {},
   "outputs": [
    {
     "name": "stdout",
     "output_type": "stream",
     "text": [
      "shape: (8, 2)\n",
      "┌─────┬─────┐\n",
      "│ x   ┆ y   │\n",
      "│ --- ┆ --- │\n",
      "│ i64 ┆ str │\n",
      "╞═════╪═════╡\n",
      "│ 0   ┆ A   │\n",
      "│ 1   ┆ A   │\n",
      "│ 2   ┆ A   │\n",
      "│ 3   ┆ B   │\n",
      "│ 4   ┆ B   │\n",
      "│ 5   ┆ C   │\n",
      "│ 6   ┆ X   │\n",
      "│ 7   ┆ X   │\n",
      "└─────┴─────┘\n"
     ]
    }
   ],
   "source": [
    "#groupby\n",
    "#groupby함수를 위한 새로운 데이터 프레임 생성\n",
    "\n",
    "import polars as pl\n",
    "\n",
    "temp_df2 = pl.DataFrame({\n",
    "    'x' : range(8),\n",
    "    'y' : ['A','A','A','B','B','C','X','X']\n",
    "})\n",
    "\n",
    "print(temp_df2)"
   ]
  },
  {
   "cell_type": "code",
   "execution_count": 38,
   "id": "faa45a9c-370b-45cc-bd7f-c0cd8da5dab5",
   "metadata": {},
   "outputs": [
    {
     "name": "stdout",
     "output_type": "stream",
     "text": [
      "shape: (4, 2)\n",
      "┌─────┬─────┐\n",
      "│ y   ┆ len │\n",
      "│ --- ┆ --- │\n",
      "│ str ┆ u32 │\n",
      "╞═════╪═════╡\n",
      "│ A   ┆ 3   │\n",
      "│ B   ┆ 2   │\n",
      "│ C   ┆ 1   │\n",
      "│ X   ┆ 2   │\n",
      "└─────┴─────┘\n",
      "shape: (4, 2)\n",
      "┌─────┬─────┐\n",
      "│ y   ┆ x   │\n",
      "│ --- ┆ --- │\n",
      "│ str ┆ i64 │\n",
      "╞═════╪═════╡\n",
      "│ A   ┆ 3   │\n",
      "│ B   ┆ 7   │\n",
      "│ C   ┆ 5   │\n",
      "│ X   ┆ 13  │\n",
      "└─────┴─────┘\n",
      "shape: (4, 2)\n",
      "┌─────┬─────┐\n",
      "│ y   ┆ x   │\n",
      "│ --- ┆ --- │\n",
      "│ str ┆ f64 │\n",
      "╞═════╪═════╡\n",
      "│ A   ┆ 1.0 │\n",
      "│ B   ┆ 3.5 │\n",
      "│ C   ┆ 5.0 │\n",
      "│ X   ┆ 6.5 │\n",
      "└─────┴─────┘\n",
      "shape: (4, 3)\n",
      "┌─────┬───────┬─────┐\n",
      "│ y   ┆ count ┆ sum │\n",
      "│ --- ┆ ---   ┆ --- │\n",
      "│ str ┆ u32   ┆ i64 │\n",
      "╞═════╪═══════╪═════╡\n",
      "│ A   ┆ 3     ┆ 3   │\n",
      "│ B   ┆ 2     ┆ 7   │\n",
      "│ C   ┆ 1     ┆ 5   │\n",
      "│ X   ┆ 2     ┆ 13  │\n",
      "└─────┴───────┴─────┘\n",
      "shape: (4, 3)\n",
      "┌─────┬──────┬───────┐\n",
      "│ y   ┆ 평균 ┆ count │\n",
      "│ --- ┆ ---  ┆ ---   │\n",
      "│ str ┆ f64  ┆ u32   │\n",
      "╞═════╪══════╪═══════╡\n",
      "│ A   ┆ 1.0  ┆ 3     │\n",
      "│ B   ┆ 3.5  ┆ 2     │\n",
      "│ C   ┆ 5.0  ┆ 1     │\n",
      "│ X   ┆ 6.5  ┆ 2     │\n",
      "└─────┴──────┴───────┘\n"
     ]
    }
   ],
   "source": [
    "print(temp_df2.group_by('y',maintain_order = True).len())\n",
    "#maintain_order : 폴라스에서 그룹바이하면 자동정렬되는데 자동정렬하지말고 그룹하기전\n",
    "#기존 열의 순서와 동일하게 맞춰달라는 뜻\n",
    "\n",
    "print(temp_df2.group_by('y',maintain_order = True).sum())\n",
    "print(temp_df2.group_by('y',maintain_order = True).mean())\n",
    "\n",
    "#agg를 사용하면 그룹한거에 대해 함수를 사용할 수 있음\n",
    "print(temp_df2.group_by('y',maintain_order = True).agg(\n",
    "    pl.col('*').count().alias('count'),\n",
    "    pl.col('*').sum().alias('sum')\n",
    "))\n",
    "\n",
    "\n",
    "\n",
    "\n",
    "print(temp_df2.group_by('y',maintain_order = True).agg(\n",
    "    pl.col('*').mean().alias('평균'),\n",
    "    pl.col('*').count().alias('count')\n",
    "))"
   ]
  },
  {
   "cell_type": "code",
   "execution_count": 40,
   "id": "20be4ffb-52de-4523-8afa-769078cd4639",
   "metadata": {},
   "outputs": [
    {
     "name": "stdout",
     "output_type": "stream",
     "text": [
      "shape: (30, 6)\n",
      "┌──────────┬─────────────┬────────────┬────────┬─────┬────────┐\n",
      "│ visit_id ┆ customer_id ┆ visit_date ┆ gender ┆ age ┆ amount │\n",
      "│ ---      ┆ ---         ┆ ---        ┆ ---    ┆ --- ┆ ---    │\n",
      "│ str      ┆ str         ┆ str        ┆ str    ┆ i64 ┆ i64    │\n",
      "╞══════════╪═════════════╪════════════╪════════╪═════╪════════╡\n",
      "│ V00001   ┆ C1001       ┆ 2024-06-01 ┆ M      ┆ 30  ┆ 5200   │\n",
      "│ V00002   ┆ C1002       ┆ 2024-06-01 ┆ F      ┆ 25  ┆ 12000  │\n",
      "│ V00003   ┆ C1001       ┆ 2024-06-10 ┆ M      ┆ 30  ┆ 7500   │\n",
      "│ V00004   ┆ C1003       ┆ 2024-06-05 ┆ M      ┆ 42  ┆ 3000   │\n",
      "│ V00005   ┆ C1002       ┆ 2024-06-12 ┆ F      ┆ 25  ┆ 9000   │\n",
      "│ …        ┆ …           ┆ …          ┆ …      ┆ …   ┆ …      │\n",
      "│ V00026   ┆ C1003       ┆ 2024-07-11 ┆ M      ┆ 42  ┆ 4200   │\n",
      "│ V00027   ┆ C1004       ┆ 2024-07-12 ┆ F      ┆ 35  ┆ 6600   │\n",
      "│ V00028   ┆ C1002       ┆ 2024-07-13 ┆ F      ┆ 25  ┆ 7300   │\n",
      "│ V00029   ┆ C1005       ┆ 2024-07-14 ┆ M      ┆ 30  ┆ 5500   │\n",
      "│ V00030   ┆ C1016       ┆ 2024-07-15 ┆ F      ┆ 31  ┆ 8700   │\n",
      "└──────────┴─────────────┴────────────┴────────┴─────┴────────┘\n"
     ]
    }
   ],
   "source": [
    "import polars as pl\n",
    "\n",
    "# 방문 데이터 수동 생성\n",
    "data = {\n",
    "    \"visit_id\": [f\"V{str(i).zfill(5)}\" for i in range(1, 31)],\n",
    "    \"customer_id\": [\n",
    "        \"C1001\", \"C1002\", \"C1001\", \"C1003\", \"C1002\", \"C1004\",\n",
    "        \"C1005\", \"C1006\", \"C1001\", \"C1007\", \"C1008\", \"C1003\",\n",
    "        \"C1009\", \"C1005\", \"C1010\", \"C1008\", \"C1011\", \"C1012\",\n",
    "        \"C1001\", \"C1002\", \"C1013\", \"C1010\", \"C1014\", \"C1015\",\n",
    "        \"C1006\", \"C1003\", \"C1004\", \"C1002\", \"C1005\", \"C1016\"\n",
    "    ],\n",
    "    \"visit_date\": [\n",
    "        \"2024-06-01\", \"2024-06-01\", \"2024-06-10\", \"2024-06-05\", \"2024-06-12\", \"2024-06-07\",\n",
    "        \"2024-06-09\", \"2024-06-03\", \"2024-06-15\", \"2024-06-20\", \"2024-06-18\", \"2024-06-22\",\n",
    "        \"2024-06-21\", \"2024-06-25\", \"2024-06-28\", \"2024-06-29\", \"2024-07-01\", \"2024-07-01\",\n",
    "        \"2024-07-02\", \"2024-07-03\", \"2024-07-05\", \"2024-07-07\", \"2024-07-08\", \"2024-07-09\",\n",
    "        \"2024-07-10\", \"2024-07-11\", \"2024-07-12\", \"2024-07-13\", \"2024-07-14\", \"2024-07-15\"\n",
    "    ],\n",
    "    \"gender\": [\n",
    "        \"M\", \"F\", \"M\", \"M\", \"F\", \"F\",\n",
    "        \"M\", \"F\", \"M\", \"F\", \"F\", \"M\",\n",
    "        \"F\", \"M\", \"M\", \"F\", \"F\", \"M\",\n",
    "        \"M\", \"F\", \"F\", \"M\", \"M\", \"F\",\n",
    "        \"F\", \"M\", \"F\", \"F\", \"M\", \"F\"\n",
    "    ],\n",
    "    \"age\": [\n",
    "        30, 25, 30, 42, 25, 35,\n",
    "        30, 20, 30, 45, 33, 42,\n",
    "        29, 30, 55, 33, 22, 39,\n",
    "        30, 25, 40, 55, 28, 37,\n",
    "        20, 42, 35, 25, 30, 31\n",
    "    ],\n",
    "    \"amount\": [\n",
    "        5200, 12000, 7500, 3000, 9000, 11000,\n",
    "        4000, 8000, 3000, 10000, 7000, 3500,\n",
    "        12000, 6000, 4000, 3000, 9500, 4700,\n",
    "        7000, 8000, 10000, 4500, 8200, 9800,\n",
    "        7500, 4200, 6600, 7300, 5500, 8700\n",
    "    ]\n",
    "}\n",
    "\n",
    "# Polars DataFrame 생성\n",
    "df = pl.DataFrame(data)\n",
    "\n",
    "# 저장 (선택사항)\n",
    "# df.write_csv(\"customer_visits.csv\")\n",
    "\n",
    "# 확인\n",
    "print(df)\n"
   ]
  },
  {
   "cell_type": "code",
   "execution_count": null,
   "id": "d82cf202-78d6-4b29-bd53-563a4fa21a04",
   "metadata": {},
   "outputs": [],
   "source": [
    "# 연습 과제 목록\n",
    "# 번호\t과제 내용\tPolars 기능 연습\n",
    "# 1\t나이별 평균 소비금액\t\n",
    "# 2\t성별별 평균 소비금액 비교\t\n",
    "# 3\t고객별 총 방문 횟수\t\n",
    "# 4\t고객별 총 소비 금액\t\n",
    "# 5\t재방문 고객만 추출 (방문횟수 ≥ 2)\n",
    "# 6\t전체 재방문율 = 재방문 고객 수 / 전체 고객 수\t비교용 연산\n",
    "# 7\t월별 소비 금액 합계\t\n",
    "# 8\t1인당 평균 소비액이 높은 연령대 상위 3개\t"
   ]
  }
 ],
 "metadata": {
  "kernelspec": {
   "display_name": "Python 3 (ipykernel)",
   "language": "python",
   "name": "python3"
  },
  "language_info": {
   "codemirror_mode": {
    "name": "ipython",
    "version": 3
   },
   "file_extension": ".py",
   "mimetype": "text/x-python",
   "name": "python",
   "nbconvert_exporter": "python",
   "pygments_lexer": "ipython3",
   "version": "3.12.9"
  }
 },
 "nbformat": 4,
 "nbformat_minor": 5
}

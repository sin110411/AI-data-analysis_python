{
 "cells": [
  {
   "cell_type": "code",
   "execution_count": 31,
   "id": "aa2d01ed-3560-4f71-b9d7-cbb264ab8e3e",
   "metadata": {},
   "outputs": [
    {
     "name": "stdout",
     "output_type": "stream",
     "text": [
      "test\n"
     ]
    }
   ],
   "source": [
    "print(\"test\")\n",
    "# 주석: ctal+/\n",
    "# 코드셀 실행 단축키 : ctrl+enter\n",
    "# 코드셀 삭제: esc누르고 D D\n",
    "# 코드셀 추가: alt + enter"
   ]
  },
  {
   "cell_type": "code",
   "execution_count": 1,
   "id": "cf04a81c-4443-475e-9788-b89501dfdc40",
   "metadata": {},
   "outputs": [
    {
     "name": "stdout",
     "output_type": "stream",
     "text": [
      "[20, 30, 40, 40]\n"
     ]
    }
   ],
   "source": [
    "#[요소 for 변수 in 반복가능 객체 if 조건식]\n",
    "\n",
    "li1 = [x for x in range(1,6)]  # 레인지안에 있는숫자가 앞에 x에 들어갔다가 맨 앞에 x에 다시 들어감\n",
    "\n",
    "\n",
    "\n",
    "\n",
    "tu=1,2,3,4,4\n",
    "\n",
    "li2=[10*x for x in tu if x>=2]  # 집합이 가능한 것 집합이 가능한거 리스트 만들때 이렇게 만들면 더 간단하게\n",
    "print(li2)"
   ]
  },
  {
   "cell_type": "code",
   "execution_count": 3,
   "id": "871c2459-f913-4c93-bc82-d0b02f16a617",
   "metadata": {},
   "outputs": [
    {
     "name": "stdout",
     "output_type": "stream",
     "text": [
      "[1, 2]\n",
      "[3, 4, 5, 6, 7, 8, 9]\n"
     ]
    }
   ],
   "source": [
    "li=[x for x in range(1,3)]\n",
    "print(li)\n",
    "\n",
    "result=list((filter(lambda x : x%5==0, range(100))))\n",
    "li2=list(filter(lambda x: x >= 3, range(10)))\n",
    "print(li2)"
   ]
  },
  {
   "cell_type": "code",
   "execution_count": 51,
   "id": "7dcc1981-27d3-4f75-8ea3-59100408394f",
   "metadata": {},
   "outputs": [
    {
     "name": "stdout",
     "output_type": "stream",
     "text": [
      "[2, 4, 6, 8, 10]\n"
     ]
    }
   ],
   "source": [
    "#조건식에 맞는 값들만 리스트의 요소로 넣기\n",
    "li3 = [x for x in range(1,11) if x%2==0] #1~10까지 중에서 짝수만 골라서 빼온것, 나눴을때 조건에 맞는 애들만 맨 앞에 있는 x로 넘어감\n",
    "print(li3) #그래서 조건에 맞는 짝수만 나오는 것"
   ]
  },
  {
   "cell_type": "code",
   "execution_count": 5,
   "id": "958ab106-4205-4cf9-974c-375ba316404a",
   "metadata": {},
   "outputs": [
    {
     "name": "stdout",
     "output_type": "stream",
     "text": [
      "[(1, 'one'), (1, 'tow'), (2, 'one'), (2, 'tow')]\n",
      "[(1, 'one'), (1, 'tow'), (2, 'one'), (2, 'tow')]\n"
     ]
    }
   ],
   "source": [
    "#for 중복표현(이중 for문)\n",
    "\n",
    "li4 = [(x,y)for x in range(1,3) for y in [\"one\",\"tow\"]]\n",
    "print(li4)\n",
    "\n",
    "\n",
    "#이중 for문 사용\n",
    "li4 = []\n",
    "for x in range(1,3):\n",
    "    for y in [\"one\",\"tow\"]:\n",
    "        tu = x,y #튜플의 패킹\n",
    "        li4.append(tu)\n",
    "\n",
    "print(li4)"
   ]
  },
  {
   "cell_type": "code",
   "execution_count": null,
   "id": "41eb2e2f-1355-4ffa-b4c1-e6e4b3ea28d7",
   "metadata": {},
   "outputs": [],
   "source": [
    "tu = 1,2 #튜플의 패킹\n",
    "print(tu,type(tu))"
   ]
  },
  {
   "cell_type": "code",
   "execution_count": null,
   "id": "191d347c-685d-48b9-b45c-e07ec49d694f",
   "metadata": {},
   "outputs": [],
   "source": [
    "# if중복 표현\n",
    "li5 = [x for x in range(10) if x < 5 if x % 2 ==0] #if 사이에 and가 생략된것.\n",
    "print(li5) #조건문에 5보다 작은 애들만 가지고 오겠다고 조건 걸어준 것\n",
    "#if도 중복 표현이 가능함\n",
    "\n",
    "\n",
    "#위의 식과 밑의 식과 같은 내용임\n",
    "li5=[]\n",
    "for x in range(10):\n",
    "    #조건문\n",
    "    if x < 5 and x % 2 ==0:\n",
    "        li5.append(x)\n",
    "\n",
    "print(li5)"
   ]
  },
  {
   "cell_type": "code",
   "execution_count": null,
   "id": "13831266-dd3c-4d35-a56f-b8619388e0a4",
   "metadata": {},
   "outputs": [],
   "source": [
    "#<실습>\n",
    "#1)리스트 컴프레이션으로 만들어줌. 1~20까지의 정수 중 3의 배수만으로 구성된 리스트 생성후 출력\n",
    "#2) 10~80까지 정수 중 4와 5에 배수인 정수 중에서 +10한 정수로 구성된 리스트 생성 후 출력\n",
    "\n",
    "\n",
    "li6=[x for x in range(1,21) if x%3==0]\n",
    "print(li6)\n",
    "\n",
    "li7=[x for x in range(10,81) if x%4==0 if x%5==0 and x+10]\n",
    "print(li7)"
   ]
  },
  {
   "cell_type": "code",
   "execution_count": 87,
   "id": "c24583d0-61cf-4374-9936-193ccbcfd069",
   "metadata": {},
   "outputs": [
    {
     "name": "stdout",
     "output_type": "stream",
     "text": [
      "[3, 6, 9, 12, 15, 18]\n",
      "[30, 50, 70, 90]\n"
     ]
    }
   ],
   "source": [
    "#<실습>_쌤 정답\n",
    "#1)리스트 컴프레이션으로 만들어줌. 1~20까지의 정수 중 3의 배수만으로 구성된 리스트 생성후 출력\n",
    "#2) 10~80까지 정수 중 4와 5에 배수인 정수 중에서 +10한 정수로 구성된 리스트 생성 후 출력\n",
    "\n",
    "\n",
    "li6=[x for x in range(3,21,3)] #이렇게 할 수도 있음 조건문 굳이 사용하지 않아도 됨\n",
    "print(li6)\n",
    "\n",
    "li7=[x+10 for x in range(10,81) if x%4==0 if x%5==0] #뽑아준 애들가지고 +10하는거니까 맨 앞쪽 값에 +10해주면 됨\n",
    "print(li7)"
   ]
  },
  {
   "cell_type": "code",
   "execution_count": null,
   "id": "ca28b946-7d9d-4f4b-a942-fbbf5122c622",
   "metadata": {},
   "outputs": [],
   "source": [
    "#2개의 숫가를 더한 값을 반환하는 사용자 정의 함수\n",
    "def add(num1,num2): \n",
    "    return num1+num2\n",
    "\n",
    "print(add(10,20))\n",
    "\n",
    "#람다식을 활용 2개의 정수를 더한 값 반환\n",
    "#lambda: 매개변수,...: 리턴(인수,...)\n",
    "(lambda x,y : x+y)(10,20)"
   ]
  },
  {
   "cell_type": "code",
   "execution_count": 1,
   "id": "650aef16-0406-4688-b4b0-a7e79424437d",
   "metadata": {},
   "outputs": [
    {
     "name": "stdout",
     "output_type": "stream",
     "text": [
      "[2, 3, 4, 5, 6]\n"
     ]
    }
   ],
   "source": [
    "#map(함수,반복가능 객체)\n",
    "\n",
    "# list(map(lambda x:x**2, range(5))) #<map at 0x2329f1a9390> 맵 자체가 나오기때문에 리스트로 만들어줌\n",
    "result = list(map(lambda x:x+2, range(5))) #새로운 리스트로 반환\n",
    "print(result) "
   ]
  },
  {
   "cell_type": "code",
   "execution_count": 3,
   "id": "23de0172-4dc2-4389-84bf-30c9e8e538ec",
   "metadata": {},
   "outputs": [
    {
     "name": "stdout",
     "output_type": "stream",
     "text": [
      "10\n"
     ]
    }
   ],
   "source": [
    "#reduce(함수,반복가능 객체)\n",
    "from functools import reduce #이거먼저 써줘야 사용가능\n",
    "\n",
    "result = reduce(lambda x,y: x+y,range(5))\n",
    "#맨처음에 x에는 0만들어옴 y에 들어올 내용은 이전 결과  x=이전결과, y=0 => 누적 : 0\n",
    "#x =0 , y=1 =>누적 : 1(0+1)\n",
    "#x=1,y=2 => 누적: (1+2) 3\n",
    "#x=3, y=3 => 누적: (3+3) 6\n",
    "#x=6, y=4 => 누적: (6+4) 10(이게 최종 누적값이 된것!)\n",
    "print(result)"
   ]
  },
  {
   "cell_type": "code",
   "execution_count": 15,
   "id": "ea16e232-b254-47bd-8145-0c2b949a0896",
   "metadata": {},
   "outputs": [
    {
     "name": "stdout",
     "output_type": "stream",
     "text": [
      "[0, 2, 4, 6, 8, 10, 12, 14, 16, 18, 20, 22, 24, 26, 28, 30, 32, 34, 36, 38, 40, 42, 44, 46, 48]\n"
     ]
    }
   ],
   "source": [
    "#filter(함수, 매개변수)\n",
    "result = list(filter(lambda x:x%2==0, range(50)))\n",
    "# print(result) #<filter object at 0x00000232A04025F0>이렇게 하면 객체로 출력되서 형변환 해줘야함\n",
    "#reduce는 반환값이 한개밖에 없기때문에 형변환 안해줘도 되는것\n",
    "print(result)"
   ]
  },
  {
   "cell_type": "code",
   "execution_count": 27,
   "id": "2a4d3945-e673-4a8e-bad4-8566541f3644",
   "metadata": {},
   "outputs": [
    {
     "name": "stdout",
     "output_type": "stream",
     "text": [
      "[0, 2, 4, 6, 8, 10, 12, 14, 16, 18, 20, 22, 24, 26, 28, 30, 32, 34, 36, 38, 40, 42, 44, 46, 48]\n",
      "[0, 5, 10, 15, 20, 25, 30, 35, 40, 45, 50, 55, 60, 65, 70, 75, 80, 85, 90, 95]\n"
     ]
    }
   ],
   "source": [
    "#filter \n",
    "\n",
    "result1=list(filter(lambda x : x%2==0, range(50)))\n",
    "#if랑 비슷함\n",
    "\n",
    "li=[x for x in range(50) if x%2==0]\n",
    "print(li) #같은것\n",
    "\n",
    "\n",
    "result=list((filter(lambda x : x%5==0, range(100))))\n",
    "print(result)\n"
   ]
  },
  {
   "cell_type": "code",
   "execution_count": 13,
   "id": "093f3808-3638-4d13-b4b7-a4bd1d6d15d2",
   "metadata": {},
   "outputs": [
    {
     "name": "stdout",
     "output_type": "stream",
     "text": [
      "[True, True, False, False, False, True]\n"
     ]
    }
   ],
   "source": [
    "#<실습문제>\n",
    "#학생들의 점수를 저장한 리스트\n",
    "score_list=[80,76,50,60,45,95]\n",
    "\n",
    "#1) 람다식과 map()함수를 사용해서 점수가  70점 이상이면  TRUE아니면 False값으로 새로운\n",
    "#리스트로 변환\n",
    "#결과[True,True,False,False,False,True]\n",
    "\n",
    "li=[]\n",
    "re=list(map(lambda x : x>=70, score_list))\n",
    "print(re)"
   ]
  },
  {
   "cell_type": "code",
   "execution_count": 23,
   "id": "a02d0b30-c2ef-4fa9-8ed3-fffc56bc70c1",
   "metadata": {},
   "outputs": [
    {
     "name": "stdout",
     "output_type": "stream",
     "text": [
      "70점 이상인 학생들의 점수합계 : 251\n",
      "95\n"
     ]
    }
   ],
   "source": [
    "#위의 리스트에서 70점 이상인 점수들의 합계 구하기\n",
    "#람다식과  filter함수 활용\n",
    "\n",
    "add_re=sum(list(filter(lambda x: x>=70, score_list)))\n",
    "print(f'70점 이상인 학생들의 점수합계 : {add_re}')\n",
    "\n",
    "#람다식과 reduce 함수 사용\n",
    "from functools import reduce\n",
    "resultr1=reduce(lambda x,y : x+y if y>=70 else 0, score_list)\n",
    "print(resultr1)\n",
    "\n",
    "#필터사용하면 그냥 조건에 맞는애를 더해버리면 되는데\n",
    "#리듀스를 사용하면 일단 무조건 누적계산이니까 이때는 if문으로 조건을 걸어주기!"
   ]
  },
  {
   "cell_type": "code",
   "execution_count": 9,
   "id": "998276ae-6252-4cba-b471-c6037f67ece0",
   "metadata": {},
   "outputs": [
    {
     "name": "stdout",
     "output_type": "stream",
     "text": [
      "[['water', 'melon'], ['pine', 'apple']]\n",
      "['water melon', 'pine apple']\n"
     ]
    }
   ],
   "source": [
    "#fruits=['apple','banana','melon','water melon','pine apple']\n",
    "#람다식과 필터함수를 활용\n",
    "#['water melon' ,'pine apple']\n",
    "\n",
    "\n",
    "fruits=['apple','banana','melon','water melon','pine apple']\n",
    "li=[]\n",
    "\n",
    "for x in fruits:\n",
    "    x.split(\" \")\n",
    "    if len(x.split(\" \"))>=2:\n",
    "        li.append(x.split(\" \"))\n",
    "print(li)\n",
    "\n",
    "\n",
    "\n",
    "f_s=list(filter(lambda x : len(x.split(\" \"))>=2, fruits ))\n",
    "print(f_s)\n",
    "#람다식 사용하지 않으면 반복문으로 하나씩 빼서 검사를 한 후에 if문을 사용해서 조건에 맞다면 해당 문자를 출력해야한다고 구문을 작성해야하는데\n",
    "#람다의 필터에는 이미 조건문을 작성하고 조건문에 해당하는 요소만 출력하는 것이라는 형식이 이미 들어가있기 때문에 굳이 filter를 썼는데 if문을 또 쓸 이유가 없음!"
   ]
  }
 ],
 "metadata": {
  "kernelspec": {
   "display_name": "Python 3 (ipykernel)",
   "language": "python",
   "name": "python3"
  },
  "language_info": {
   "codemirror_mode": {
    "name": "ipython",
    "version": 3
   },
   "file_extension": ".py",
   "mimetype": "text/x-python",
   "name": "python",
   "nbconvert_exporter": "python",
   "pygments_lexer": "ipython3",
   "version": "3.12.3"
  }
 },
 "nbformat": 4,
 "nbformat_minor": 5
}

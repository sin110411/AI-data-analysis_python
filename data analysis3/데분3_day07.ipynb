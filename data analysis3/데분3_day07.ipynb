{
 "cells": [
  {
   "cell_type": "code",
   "execution_count": 1,
   "id": "c3046908-0cc6-43d7-b71b-bfe5ac9ad491",
   "metadata": {},
   "outputs": [
    {
     "name": "stdout",
     "output_type": "stream",
     "text": [
      "                     age        fare\n",
      "class  sex                          \n",
      "First  female  34.611765  106.125798\n",
      "       male    41.281386   67.226127\n",
      "Second female  28.722973   21.970121\n",
      "       male    30.740707   19.741782\n",
      "Third  female  21.750000   16.118810\n",
      "       male    26.507589   12.661633 \n",
      "\n",
      "MultiIndex([( 'First', 'female'),\n",
      "            ( 'First',   'male'),\n",
      "            ('Second', 'female'),\n",
      "            ('Second',   'male'),\n",
      "            ( 'Third', 'female'),\n",
      "            ( 'Third',   'male')],\n",
      "           names=['class', 'sex']) \n",
      "\n",
      "              age        fare\n",
      "sex                          \n",
      "female  34.611765  106.125798\n",
      "male    41.281386   67.226127 \n",
      "\n",
      "age      34.611765\n",
      "fare    106.125798\n",
      "Name: (First, female), dtype: float64\n",
      "\n",
      "age     28.722973\n",
      "fare    21.970121\n",
      "Name: (Second, female), dtype: float64\n",
      "\n",
      "              age       fare\n",
      "class                       \n",
      "First   41.281386  67.226127\n",
      "Second  30.740707  19.741782\n",
      "Third   26.507589  12.661633\n",
      "              age        fare\n",
      "class                        \n",
      "First   34.611765  106.125798\n",
      "Second  28.722973   21.970121\n",
      "Third   21.750000   16.118810\n"
     ]
    },
    {
     "name": "stderr",
     "output_type": "stream",
     "text": [
      "C:\\Users\\Public\\Documents\\ESTsoft\\CreatorTemp\\ipykernel_21468\\353010236.py:12: FutureWarning: The default of observed=False is deprecated and will be changed to True in a future version of pandas. Pass observed=False to retain current behavior or observed=True to adopt the future default and silence this warning.\n",
      "  groups=df.groupby(['class','sex'])\n"
     ]
    }
   ],
   "source": [
    "#멀티인덱스\n",
    "#여러레벨(level)로 구성된 행 인덱스\n",
    "\n",
    "import pandas as pd\n",
    "import seaborn as sns\n",
    "\n",
    "df=sns.load_dataset('titanic')\n",
    "df=df[['class','sex','age','fare','survived']]\n",
    "\n",
    "#타이타닉 데이터를 class열, sex열 기준으로 분할\n",
    "\n",
    "groups=df.groupby(['class','sex'])\n",
    "\n",
    "# for x in groups:\n",
    "#     print(x)\n",
    "\n",
    "#나줘준 그룹객체마다 age,fare의 평균 계산\n",
    "gdf=groups[['age','fare']].mean()\n",
    "print(gdf,'\\n')\n",
    "print(gdf.index,'\\n') #멀티인덱스를 가진 df의 행만 조회하면 튜플로 상위,하위의 행이 묶여져서 출력됨\n",
    "\n",
    "#class가 first인 데이터선택 =>행선택 lioc, loc\n",
    "print(gdf.loc['First'],'\\n') #First행 하나만 적게되면 하위 행인 성별2개가 전부 출력됨\n",
    "\n",
    "#멀티인덱스에서 2개의 인덱스를 사용하는 방법 : (상위인덱스,하위인덱스)<튜플형태>\n",
    "print(gdf.loc[('First','female')])\n",
    "print()\n",
    "print(gdf.loc[('Second','female')])\n",
    "print()\n",
    "\n",
    "\n",
    "#인덱스 라벨과 인덱스레벨(level)을 사용하여 원하는 데이터만 선택 : df.xs('인덱스명','level=인덱스 라벨')\n",
    "#성별이 남성인 데이터만 추출\n",
    "print(gdf.xs('male',level='sex'))\n",
    "\n",
    "#성별이 여성인 데이터만 추출\n",
    "print(gdf.xs('female',level='sex'))"
   ]
  },
  {
   "cell_type": "code",
   "execution_count": 2,
   "id": "394ef8c4-3659-462d-b94c-63dbad301f64",
   "metadata": {},
   "outputs": [
    {
     "name": "stdout",
     "output_type": "stream",
     "text": [
      "sex        female       male\n",
      "class                       \n",
      "First   34.611765  41.281386\n",
      "Second  28.722973  30.740707\n",
      "Third   21.750000  26.507589 \n",
      "\n",
      "sex         female       male\n",
      "class                        \n",
      "First   106.125798  67.226127\n",
      "Second   21.970121  19.741782\n",
      "Third    16.118810  12.661633\n"
     ]
    },
    {
     "name": "stderr",
     "output_type": "stream",
     "text": [
      "C:\\Users\\Public\\Documents\\ESTsoft\\CreatorTemp\\ipykernel_21468\\719258983.py:7: FutureWarning: The default value of observed=False is deprecated and will change to observed=True in a future version of pandas. Specify observed=False to silence this warning and retain the current behavior\n",
      "  pivot1=pd.pivot_table(df,\n",
      "C:\\Users\\Public\\Documents\\ESTsoft\\CreatorTemp\\ipykernel_21468\\719258983.py:16: FutureWarning: The default value of observed=False is deprecated and will change to observed=True in a future version of pandas. Specify observed=False to silence this warning and retain the current behavior\n",
      "  pivot_fare=pd.pivot_table(df,\n"
     ]
    }
   ],
   "source": [
    "#피봇테이블 만들기\n",
    "import pandas as pd\n",
    "import seaborn as sns\n",
    "\n",
    "df\n",
    "\n",
    "pivot1=pd.pivot_table(df,\n",
    "                     index='class',\n",
    "                     columns='sex',\n",
    "                     values='age',\n",
    "                     aggfunc='mean') # 항상 aggfucn의 디폴트값으로는 평균값으로 지정되어있음\n",
    "\n",
    "print(pivot1,'\\n')\n",
    "\n",
    "\n",
    "pivot_fare=pd.pivot_table(df,\n",
    "                      index='class',\n",
    "                      columns='sex',\n",
    "                      values='fare',\n",
    "                      aggfunc='mean')\n",
    "\n",
    "print(pivot_fare)"
   ]
  },
  {
   "cell_type": "code",
   "execution_count": 3,
   "id": "dd73cd0f-cf9a-4fe8-b3fd-b1ac7ae446e1",
   "metadata": {},
   "outputs": [
    {
     "name": "stdout",
     "output_type": "stream",
     "text": [
      "              mean                   sum           \n",
      "sex         female       male     female       male\n",
      "class                                              \n",
      "First   106.125798  67.226127  9975.8250  8201.5875\n",
      "Second   21.970121  19.741782  1669.7292  2132.1125\n",
      "Third    16.118810  12.661633  2321.1086  4393.5865 \n",
      "\n",
      "MultiIndex([('mean', 'female'),\n",
      "            ('mean',   'male'),\n",
      "            ( 'sum', 'female'),\n",
      "            ( 'sum',   'male')],\n",
      "           names=[None, 'sex'])\n"
     ]
    },
    {
     "name": "stderr",
     "output_type": "stream",
     "text": [
      "C:\\Users\\Public\\Documents\\ESTsoft\\CreatorTemp\\ipykernel_21468\\4222237543.py:2: FutureWarning: The default value of observed=False is deprecated and will change to observed=True in a future version of pandas. Specify observed=False to silence this warning and retain the current behavior\n",
      "  pivot2=pd.pivot_table(df,\n",
      "C:\\Users\\Public\\Documents\\ESTsoft\\CreatorTemp\\ipykernel_21468\\4222237543.py:2: FutureWarning: The default value of observed=False is deprecated and will change to observed=True in a future version of pandas. Specify observed=False to silence this warning and retain the current behavior\n",
      "  pivot2=pd.pivot_table(df,\n"
     ]
    }
   ],
   "source": [
    "#피봇할때 집계함수를 여러개 사용하는 경우\n",
    "pivot2=pd.pivot_table(df,\n",
    "                     index='class',\n",
    "                     columns='sex',\n",
    "                     values='fare',\n",
    "                     aggfunc=['mean','sum'])\n",
    "print(pivot2,'\\n')\n",
    "print(pivot2.columns)#pivot 테이블 만들때 집계함수를 2가지 이상 사용하면 언스택컬럼에 멀티인덱스가 되어버림\n",
    "#상위 : 집계함수 / 하위 : 성별"
   ]
  },
  {
   "cell_type": "code",
   "execution_count": 4,
   "id": "73ee0165-8c8e-4098-9993-788fce873586",
   "metadata": {},
   "outputs": [
    {
     "name": "stderr",
     "output_type": "stream",
     "text": [
      "C:\\Users\\Public\\Documents\\ESTsoft\\CreatorTemp\\ipykernel_21468\\1284717553.py:2: FutureWarning: The default value of observed=False is deprecated and will change to observed=True in a future version of pandas. Specify observed=False to silence this warning and retain the current behavior\n",
      "  pivot3=pd.pivot_table(df,\n"
     ]
    },
    {
     "name": "stdout",
     "output_type": "stream",
     "text": [
      "                    mean                                      max        \\\n",
      "                     age                   fare               age         \n",
      "survived               0          1           0           1     0     1   \n",
      "class  sex                                                                \n",
      "First  female  25.666667  34.939024  110.604167  105.978159  50.0  63.0   \n",
      "       male    44.581967  36.248000   62.894910   74.637320  71.0  80.0   \n",
      "Second female  36.000000  28.080882   18.250000   22.288989  57.0  55.0   \n",
      "       male    33.369048  16.022000   19.488965   21.095100  70.0  62.0   \n",
      "Third  female  23.818182  19.329787   19.773093   12.464526  48.0  63.0   \n",
      "       male    27.255814  22.274211   12.204469   15.579696  74.0  45.0   \n",
      "\n",
      "                                 \n",
      "                 fare            \n",
      "survived            0         1  \n",
      "class  sex                       \n",
      "First  female  151.55  512.3292  \n",
      "       male    263.00  512.3292  \n",
      "Second female   26.00   65.0000  \n",
      "       male     73.50   39.0000  \n",
      "Third  female   69.55   31.3875  \n",
      "       male     69.55   56.4958  \n",
      "MultiIndex([('mean',  'age', 0),\n",
      "            ('mean',  'age', 1),\n",
      "            ('mean', 'fare', 0),\n",
      "            ('mean', 'fare', 1),\n",
      "            ( 'max',  'age', 0),\n",
      "            ( 'max',  'age', 1),\n",
      "            ( 'max', 'fare', 0),\n",
      "            ( 'max', 'fare', 1)],\n",
      "           names=[None, None, 'survived'])\n"
     ]
    },
    {
     "name": "stderr",
     "output_type": "stream",
     "text": [
      "C:\\Users\\Public\\Documents\\ESTsoft\\CreatorTemp\\ipykernel_21468\\1284717553.py:2: FutureWarning: The default value of observed=False is deprecated and will change to observed=True in a future version of pandas. Specify observed=False to silence this warning and retain the current behavior\n",
      "  pivot3=pd.pivot_table(df,\n"
     ]
    }
   ],
   "source": [
    "#행 인덱스와 데이터로 사용할 열을 여러개 지정할 경우 \n",
    "pivot3=pd.pivot_table(df,\n",
    "                    index=['class','sex'],\n",
    "                    columns='survived',\n",
    "                    values=['age','fare'],\n",
    "                    aggfunc=['mean','max'])\n",
    "\n",
    "print(pivot3)\n",
    "print(pivot3.columns)"
   ]
  },
  {
   "cell_type": "code",
   "execution_count": 5,
   "id": "4a685d34-74ed-485e-bf25-278ae40bc595",
   "metadata": {},
   "outputs": [
    {
     "name": "stdout",
     "output_type": "stream",
     "text": [
      "               mean                                      max                \\\n",
      "                age                   fare               age          fare   \n",
      "survived          0          1           0           1     0     1       0   \n",
      "sex                                                                          \n",
      "female    25.666667  34.939024  110.604167  105.978159  50.0  63.0  151.55   \n",
      "male      44.581967  36.248000   62.894910   74.637320  71.0  80.0  263.00   \n",
      "\n",
      "                    \n",
      "                    \n",
      "survived         1  \n",
      "sex                 \n",
      "female    512.3292  \n",
      "male      512.3292   \n",
      "\n",
      "            survived\n",
      "mean  age   0            25.666667\n",
      "            1            34.939024\n",
      "      fare  0           110.604167\n",
      "            1           105.978159\n",
      "max   age   0            50.000000\n",
      "            1            63.000000\n",
      "      fare  0           151.550000\n",
      "            1           512.329200\n",
      "Name: (First, female), dtype: float64\n",
      "               mean                                    max                \\\n",
      "                age                  fare              age          fare   \n",
      "survived          0          1          0          1     0     1       0   \n",
      "class                                                                      \n",
      "First     44.581967  36.248000  62.894910  74.637320  71.0  80.0  263.00   \n",
      "Second    33.369048  16.022000  19.488965  21.095100  70.0  62.0   73.50   \n",
      "Third     27.255814  22.274211  12.204469  15.579696  74.0  45.0   69.55   \n",
      "\n",
      "                    \n",
      "                    \n",
      "survived         1  \n",
      "class               \n",
      "First     512.3292  \n",
      "Second     39.0000  \n",
      "Third      56.4958  \n",
      "               mean                                      max                \\\n",
      "                age                   fare               age          fare   \n",
      "survived          0          1           0           1     0     1       0   \n",
      "class                                                                        \n",
      "First     25.666667  34.939024  110.604167  105.978159  50.0  63.0  151.55   \n",
      "Second    36.000000  28.080882   18.250000   22.288989  57.0  55.0   26.00   \n",
      "Third     23.818182  19.329787   19.773093   12.464526  48.0  63.0   69.55   \n",
      "\n",
      "                    \n",
      "                    \n",
      "survived         1  \n",
      "class               \n",
      "First     512.3292  \n",
      "Second     65.0000  \n",
      "Third      31.3875  \n",
      "                     age                   fare            \n",
      "survived               0          1           0           1\n",
      "class  sex                                                 \n",
      "First  female  25.666667  34.939024  110.604167  105.978159\n",
      "       male    44.581967  36.248000   62.894910   74.637320\n",
      "Second female  36.000000  28.080882   18.250000   22.288989\n",
      "       male    33.369048  16.022000   19.488965   21.095100\n",
      "Third  female  23.818182  19.329787   19.773093   12.464526\n",
      "       male    27.255814  22.274211   12.204469   15.579696\n",
      "survived               0          1\n",
      "class  sex                         \n",
      "First  female  25.666667  34.939024\n",
      "       male    44.581967  36.248000\n",
      "Second female  36.000000  28.080882\n",
      "       male    33.369048  16.022000\n",
      "Third  female  23.818182  19.329787\n",
      "       male    27.255814  22.274211\n",
      "survived            0         1\n",
      "class  sex                     \n",
      "First  female  151.55  512.3292\n",
      "       male    263.00  512.3292\n",
      "Second female   26.00   65.0000\n",
      "       male     73.50   39.0000\n",
      "Third  female   69.55   31.3875\n",
      "       male     69.55   56.4958\n"
     ]
    }
   ],
   "source": [
    "#피벗테이블도 결국 데이터프레임!\n",
    "\n",
    "#행선택\n",
    "print(pivot3.loc['First'],'\\n')\n",
    "\n",
    "#행인덱스가 calss First, sex,Female인 행선택\n",
    "print(pivot3.xs(('First','female')))\n",
    "\n",
    "#피벗3에서 성별이 남성인 데이터만 확인\n",
    "print(pivot3.xs('male',level='sex'))\n",
    "#성별이 여자인 데이터만 확인\n",
    "print(pivot3.xs('female',level='sex'))\n",
    "\n",
    "#멀티인덱스로 된 열기준 선택\n",
    "print(pivot3.xs('mean',axis=1))\n",
    "\n",
    "#age의 평균데이터만 조회\n",
    "print(pivot3.xs(('mean','age'),axis=1))\n",
    "\n",
    "#fare의 큰값 조회\n",
    "print(pivot3.xs(('max','fare'),axis=1))"
   ]
  },
  {
   "cell_type": "code",
   "execution_count": 6,
   "id": "eaec1a4d-6cd7-4942-ae82-a8011ed820d7",
   "metadata": {},
   "outputs": [
    {
     "name": "stdout",
     "output_type": "stream",
     "text": [
      "Requirement already satisfied: seaborn in c:\\users\\82109\\anaconda3\\lib\\site-packages (0.13.2)\n",
      "Requirement already satisfied: pandas in c:\\users\\82109\\anaconda3\\lib\\site-packages (2.2.3)\n",
      "Requirement already satisfied: numpy!=1.24.0,>=1.20 in c:\\users\\82109\\anaconda3\\lib\\site-packages (from seaborn) (1.26.4)\n",
      "Requirement already satisfied: matplotlib!=3.6.1,>=3.4 in c:\\users\\82109\\anaconda3\\lib\\site-packages (from seaborn) (3.8.4)\n",
      "Requirement already satisfied: python-dateutil>=2.8.2 in c:\\users\\82109\\anaconda3\\lib\\site-packages (from pandas) (2.9.0.post0)\n",
      "Requirement already satisfied: pytz>=2020.1 in c:\\users\\82109\\anaconda3\\lib\\site-packages (from pandas) (2024.1)\n",
      "Requirement already satisfied: tzdata>=2022.7 in c:\\users\\82109\\anaconda3\\lib\\site-packages (from pandas) (2023.3)\n",
      "Requirement already satisfied: contourpy>=1.0.1 in c:\\users\\82109\\anaconda3\\lib\\site-packages (from matplotlib!=3.6.1,>=3.4->seaborn) (1.2.0)\n",
      "Requirement already satisfied: cycler>=0.10 in c:\\users\\82109\\anaconda3\\lib\\site-packages (from matplotlib!=3.6.1,>=3.4->seaborn) (0.11.0)\n",
      "Requirement already satisfied: fonttools>=4.22.0 in c:\\users\\82109\\anaconda3\\lib\\site-packages (from matplotlib!=3.6.1,>=3.4->seaborn) (4.51.0)\n",
      "Requirement already satisfied: kiwisolver>=1.3.1 in c:\\users\\82109\\anaconda3\\lib\\site-packages (from matplotlib!=3.6.1,>=3.4->seaborn) (1.4.4)\n",
      "Requirement already satisfied: packaging>=20.0 in c:\\users\\82109\\anaconda3\\lib\\site-packages (from matplotlib!=3.6.1,>=3.4->seaborn) (23.2)\n",
      "Requirement already satisfied: pillow>=8 in c:\\users\\82109\\anaconda3\\lib\\site-packages (from matplotlib!=3.6.1,>=3.4->seaborn) (10.3.0)\n",
      "Requirement already satisfied: pyparsing>=2.3.1 in c:\\users\\82109\\anaconda3\\lib\\site-packages (from matplotlib!=3.6.1,>=3.4->seaborn) (3.0.9)\n",
      "Requirement already satisfied: six>=1.5 in c:\\users\\82109\\anaconda3\\lib\\site-packages (from python-dateutil>=2.8.2->pandas) (1.16.0)\n"
     ]
    }
   ],
   "source": [
    "!pip install --upgrade seaborn pandas"
   ]
  },
  {
   "cell_type": "code",
   "execution_count": 12,
   "id": "5133ef38-8fde-40a5-be91-5008409bfd3d",
   "metadata": {},
   "outputs": [
    {
     "name": "stdout",
     "output_type": "stream",
     "text": [
      "Requirement already satisfied: palmerpenguins in c:\\users\\82109\\anaconda3\\lib\\site-packages (0.1.4)\n",
      "Requirement already satisfied: pandas in c:\\users\\82109\\anaconda3\\lib\\site-packages (from palmerpenguins) (2.2.3)\n",
      "Requirement already satisfied: numpy in c:\\users\\82109\\anaconda3\\lib\\site-packages (from palmerpenguins) (1.26.4)\n",
      "Requirement already satisfied: python-dateutil>=2.8.2 in c:\\users\\82109\\anaconda3\\lib\\site-packages (from pandas->palmerpenguins) (2.9.0.post0)\n",
      "Requirement already satisfied: pytz>=2020.1 in c:\\users\\82109\\anaconda3\\lib\\site-packages (from pandas->palmerpenguins) (2024.1)\n",
      "Requirement already satisfied: tzdata>=2022.7 in c:\\users\\82109\\anaconda3\\lib\\site-packages (from pandas->palmerpenguins) (2023.3)\n",
      "Requirement already satisfied: six>=1.5 in c:\\users\\82109\\anaconda3\\lib\\site-packages (from python-dateutil>=2.8.2->pandas->palmerpenguins) (1.16.0)\n"
     ]
    }
   ],
   "source": [
    "!pip install palmerpenguins"
   ]
  },
  {
   "cell_type": "code",
   "execution_count": 13,
   "id": "e643b754-163c-4989-8f8c-6e3ae6bb3aa0",
   "metadata": {},
   "outputs": [
    {
     "name": "stdout",
     "output_type": "stream",
     "text": [
      "  species     island  bill_length_mm  bill_depth_mm  flipper_length_mm  \\\n",
      "0  Adelie  Torgersen            39.1           18.7              181.0   \n",
      "1  Adelie  Torgersen            39.5           17.4              186.0   \n",
      "2  Adelie  Torgersen            40.3           18.0              195.0   \n",
      "3  Adelie  Torgersen             NaN            NaN                NaN   \n",
      "4  Adelie  Torgersen            36.7           19.3              193.0   \n",
      "\n",
      "   body_mass_g     sex  year  \n",
      "0       3750.0    male  2007  \n",
      "1       3800.0  female  2007  \n",
      "2       3250.0  female  2007  \n",
      "3          NaN     NaN  2007  \n",
      "4       3450.0  female  2007  \n"
     ]
    }
   ],
   "source": [
    "import pandas as pd\n",
    "from palmerpenguins import load_penguins\n",
    "\n",
    "# 데이터셋 불러오기\n",
    "penguin = load_penguins()\n",
    "\n",
    "# 데이터셋의 첫 몇 행 출력\n",
    "print(penguin.head())"
   ]
  },
  {
   "cell_type": "code",
   "execution_count": 21,
   "id": "28e1e4a2-69a6-45d5-a30c-eae962663f63",
   "metadata": {},
   "outputs": [
    {
     "name": "stdout",
     "output_type": "stream",
     "text": [
      "                           median                                        max  \\\n",
      "                    bill_depth_mm        bill_length_mm        bill_depth_mm   \n",
      "sex                        female   male         female   male        female   \n",
      "species   island                                                               \n",
      "Adelie    Biscoe            17.70  18.90          37.75  40.80          20.7   \n",
      "          Dream             17.80  18.65          36.80  40.25          19.3   \n",
      "          Torgersen         17.45  19.20          37.60  41.10          19.3   \n",
      "Chinstrap Dream             17.65  19.30          46.30  50.95          19.4   \n",
      "Gentoo    Biscoe            14.25  15.70          45.50  49.50          15.5   \n",
      "\n",
      "                                                \n",
      "                          bill_length_mm        \n",
      "sex                  male         female  male  \n",
      "species   island                                \n",
      "Adelie    Biscoe     21.1           40.5  45.6  \n",
      "          Dream      21.2           42.2  44.1  \n",
      "          Torgersen  21.5           41.1  46.0  \n",
      "Chinstrap Dream      20.8           58.0  55.8  \n",
      "Gentoo    Biscoe     17.3           50.5  59.6   \n",
      "\n",
      "               median                                      max        \\\n",
      "        bill_depth_mm       bill_length_mm       bill_depth_mm         \n",
      "sex            female  male         female  male        female  male   \n",
      "species                                                                \n",
      "Adelie          17.70  18.9          37.75  40.8          20.7  21.1   \n",
      "Gentoo          14.25  15.7          45.50  49.5          15.5  17.3   \n",
      "\n",
      "                              \n",
      "        bill_length_mm        \n",
      "sex             female  male  \n",
      "species                       \n",
      "Adelie            40.5  45.6  \n",
      "Gentoo            50.5  59.6   \n",
      "\n",
      "                    bill_depth_mm       bill_length_mm      \n",
      "sex                        female  male         female  male\n",
      "species   island                                            \n",
      "Adelie    Biscoe             20.7  21.1           40.5  45.6\n",
      "          Dream              19.3  21.2           42.2  44.1\n",
      "          Torgersen          19.3  21.5           41.1  46.0\n",
      "Chinstrap Dream              19.4  20.8           58.0  55.8\n",
      "Gentoo    Biscoe             15.5  17.3           50.5  59.6\n"
     ]
    }
   ],
   "source": [
    "#<과제 문제>\n",
    "df=penguin\n",
    "df\n",
    "# 1) 팽귄 데이터에서 index는 서식지와 종, columns에는 성별, 데이터가 될 열으로는 부리의 깊이와 무게\n",
    "# 집계함수로는 중간값, 최대값으로 피벗 테이블을 생성  \n",
    "pivot4=pd.pivot_table(df,\n",
    "                  index=['species','island'],\n",
    "                  columns='sex',\n",
    "                  values=['bill_depth_mm','bill_length_mm'],\n",
    "                  aggfunc=['median','max'])\n",
    "\n",
    "print(pivot4,'\\n')\n",
    "\n",
    "# 2) 위에서 만든 피벗 테이블에서 서식지행이 Biscoe인 데이터만 조회\n",
    "print(pivot4.xs('Biscoe',level='island'),'\\n')\n",
    "\n",
    "\n",
    "# 3) 피벗 페이블에서 서식지가 Dream이고 팽귄의 종이 Adelie인 데이터만 조회\n",
    "# print(pivot4.xs('Dream','Adelie'))\n",
    "\n",
    "# 4) 피벗테이블에서 최대값 함수의 결과만 출력(부리의 깊이와 팽귄의 무게)\n",
    "print(pivot4.xs('max',axis=1))\n",
    "\n",
    "# 5) 피벗테이블에서 수컷 팽귄의 무게 중간값만 출력\n",
    "# print(pivot4.xs('male',level='sex'))"
   ]
  }
 ],
 "metadata": {
  "kernelspec": {
   "display_name": "Python 3 (ipykernel)",
   "language": "python",
   "name": "python3"
  },
  "language_info": {
   "codemirror_mode": {
    "name": "ipython",
    "version": 3
   },
   "file_extension": ".py",
   "mimetype": "text/x-python",
   "name": "python",
   "nbconvert_exporter": "python",
   "pygments_lexer": "ipython3",
   "version": "3.12.3"
  }
 },
 "nbformat": 4,
 "nbformat_minor": 5
}
